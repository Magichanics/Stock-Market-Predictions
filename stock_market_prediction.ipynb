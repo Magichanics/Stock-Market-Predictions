{
  "cells": [
    {
      "metadata": {
        "trusted": true,
        "_uuid": "d2db4ea9ce6bed60c3ffa0cf5ff09b0d4efbb589"
      },
      "cell_type": "markdown",
      "source": "# Amateur Hour - Stock + Market News\n### Starter Kernel by ``Magichanics`` \n*([Gitlab](https://gitlab.com/Magichanics) - [Kaggle](https://www.kaggle.com/magichanics))*\n\nStocks are unpredictable, but can sometimes follow a trend. In this notebook, we will be discovering the correlation between the stocks and the news.\n\nIf there are any things that you would like me to add or remove, feel free to comment down below. I'm mainly doing this to learn and experiment with the data. I plan on rewriting a lot of code in the future to make it look nicer, since a lot of the stuff I have written may not be the most efficient way to approach specific problems.\n\n**What's new?**\n* October 14th, 2018 - Published kernel\n"
    },
    {
      "metadata": {
        "_uuid": "1e268288023fb7fc142e9f9c1c70f2d04c7cc103"
      },
      "cell_type": "markdown",
      "source": "![title](https://upload.wikimedia.org/wikipedia/commons/8/8d/Wall_Street_sign_banner.jpg)\n\nSource: [Wikimedia Commons](https://commons.wikimedia.org/wiki/File:Wall_Street_sign_banner.jpg)"
    },
    {
      "metadata": {
        "trusted": true,
        "_uuid": "74ac86edc14f5f49372114111d24ba7f9c095d97",
        "scrolled": true
      },
      "cell_type": "code",
      "source": "import numpy as np\nimport pandas as pd\nimport os\nfrom itertools import chain\nfrom sklearn.feature_extraction.text import CountVectorizer\nfrom sklearn.linear_model import LogisticRegression\nfrom pandas.tseries.holiday import USFederalHolidayCalendar\nfrom sklearn.preprocessing import LabelEncoder\nfrom sklearn.model_selection import train_test_split\nimport datetime\nimport gc\n\n# import environment for data\nfrom kaggle.competitions import twosigmanews\nenv = twosigmanews.make_env()",
      "execution_count": 1,
      "outputs": [
        {
          "output_type": "stream",
          "text": "Loading the data... This could take a minute.\nDone!\n",
          "name": "stdout"
        }
      ]
    },
    {
      "metadata": {
        "trusted": true,
        "_uuid": "62bc61f1400a9c5efeb20a460be9ac2066784169"
      },
      "cell_type": "code",
      "source": "sampling = True",
      "execution_count": 2,
      "outputs": []
    },
    {
      "metadata": {
        "trusted": true,
        "_uuid": "aabe093aa9598bd90bd7bec571df3e8cbdfb8d99"
      },
      "cell_type": "code",
      "source": "(market_train_df, news_train_df) = env.get_training_data()\n\nif sampling:\n    market_train_df = market_train_df.tail(400_000)\n    news_train_df = news_train_df.tail(1_000_000)\nelse:\n    market_train_df = market_train_df.tail(3_000_000)\n    news_train_df = news_train_df.tail(6_000_000) ",
      "execution_count": 16,
      "outputs": []
    },
    {
      "metadata": {
        "trusted": true,
        "_uuid": "07732b5c4888f5de18aa4c424267715dbed5783f"
      },
      "cell_type": "code",
      "source": "market_train_df.head()",
      "execution_count": 4,
      "outputs": [
        {
          "output_type": "execute_result",
          "execution_count": 4,
          "data": {
            "text/plain": "                             time   ...    universe\n3672956 2016-02-19 22:00:00+00:00   ...         1.0\n3672957 2016-02-19 22:00:00+00:00   ...         0.0\n3672958 2016-02-19 22:00:00+00:00   ...         1.0\n3672959 2016-02-19 22:00:00+00:00   ...         1.0\n3672960 2016-02-19 22:00:00+00:00   ...         1.0\n\n[5 rows x 16 columns]",
            "text/html": "<div>\n<style scoped>\n    .dataframe tbody tr th:only-of-type {\n        vertical-align: middle;\n    }\n\n    .dataframe tbody tr th {\n        vertical-align: top;\n    }\n\n    .dataframe thead th {\n        text-align: right;\n    }\n</style>\n<table border=\"1\" class=\"dataframe\">\n  <thead>\n    <tr style=\"text-align: right;\">\n      <th></th>\n      <th>time</th>\n      <th>assetCode</th>\n      <th>assetName</th>\n      <th>volume</th>\n      <th>close</th>\n      <th>open</th>\n      <th>returnsClosePrevRaw1</th>\n      <th>returnsOpenPrevRaw1</th>\n      <th>returnsClosePrevMktres1</th>\n      <th>returnsOpenPrevMktres1</th>\n      <th>returnsClosePrevRaw10</th>\n      <th>returnsOpenPrevRaw10</th>\n      <th>returnsClosePrevMktres10</th>\n      <th>returnsOpenPrevMktres10</th>\n      <th>returnsOpenNextMktres10</th>\n      <th>universe</th>\n    </tr>\n  </thead>\n  <tbody>\n    <tr>\n      <th>3672956</th>\n      <td>2016-02-19 22:00:00+00:00</td>\n      <td>SPWR.O</td>\n      <td>SunPower Corp</td>\n      <td>4109129.0</td>\n      <td>21.14</td>\n      <td>22.25</td>\n      <td>-0.074431</td>\n      <td>-0.094055</td>\n      <td>-0.074354</td>\n      <td>-0.081761</td>\n      <td>-0.175828</td>\n      <td>-0.102823</td>\n      <td>-0.180055</td>\n      <td>-0.111746</td>\n      <td>0.068726</td>\n      <td>1.0</td>\n    </tr>\n    <tr>\n      <th>3672957</th>\n      <td>2016-02-19 22:00:00+00:00</td>\n      <td>SQM.N</td>\n      <td>Sociedad Quimica y Minera de Chile SA</td>\n      <td>414021.0</td>\n      <td>17.15</td>\n      <td>16.94</td>\n      <td>0.002924</td>\n      <td>-0.033105</td>\n      <td>0.002975</td>\n      <td>-0.025269</td>\n      <td>0.051502</td>\n      <td>0.057428</td>\n      <td>0.049969</td>\n      <td>0.054736</td>\n      <td>-0.003696</td>\n      <td>0.0</td>\n    </tr>\n    <tr>\n      <th>3672958</th>\n      <td>2016-02-19 22:00:00+00:00</td>\n      <td>SRC.N</td>\n      <td>Spirit Realty Capital Inc</td>\n      <td>7481287.0</td>\n      <td>11.09</td>\n      <td>11.09</td>\n      <td>-0.001800</td>\n      <td>0.024954</td>\n      <td>-0.001777</td>\n      <td>0.029012</td>\n      <td>0.038390</td>\n      <td>0.052182</td>\n      <td>0.035912</td>\n      <td>0.046627</td>\n      <td>-0.067333</td>\n      <td>1.0</td>\n    </tr>\n    <tr>\n      <th>3672959</th>\n      <td>2016-02-19 22:00:00+00:00</td>\n      <td>SRCL.O</td>\n      <td>Stericycle Inc</td>\n      <td>898932.0</td>\n      <td>109.66</td>\n      <td>111.30</td>\n      <td>-0.016855</td>\n      <td>0.004241</td>\n      <td>-0.016824</td>\n      <td>0.008331</td>\n      <td>-0.054166</td>\n      <td>-0.052121</td>\n      <td>-0.055767</td>\n      <td>-0.054056</td>\n      <td>-0.044206</td>\n      <td>1.0</td>\n    </tr>\n    <tr>\n      <th>3672960</th>\n      <td>2016-02-19 22:00:00+00:00</td>\n      <td>SRE.N</td>\n      <td>Sempra Energy</td>\n      <td>2143306.0</td>\n      <td>97.25</td>\n      <td>96.66</td>\n      <td>0.003819</td>\n      <td>0.014058</td>\n      <td>0.003833</td>\n      <td>0.015573</td>\n      <td>0.020355</td>\n      <td>0.012359</td>\n      <td>0.019882</td>\n      <td>0.011141</td>\n      <td>-0.006034</td>\n      <td>1.0</td>\n    </tr>\n  </tbody>\n</table>\n</div>"
          },
          "metadata": {}
        }
      ]
    },
    {
      "metadata": {
        "trusted": true,
        "_uuid": "997773dbe4987fbec07c28775c4343acda7f9521"
      },
      "cell_type": "code",
      "source": "news_train_df.head()",
      "execution_count": 5,
      "outputs": [
        {
          "output_type": "execute_result",
          "execution_count": 5,
          "data": {
            "text/plain": "                             time      ...       volumeCounts7D\n8328750 2015-12-08 13:56:53+00:00      ...                   63\n8328751 2015-12-08 13:57:20+00:00      ...                  167\n8328752 2015-12-08 13:57:20+00:00      ...                  166\n8328753 2015-12-08 13:57:37+00:00      ...                   10\n8328754 2015-12-08 13:57:41+00:00      ...                   17\n\n[5 rows x 35 columns]",
            "text/html": "<div>\n<style scoped>\n    .dataframe tbody tr th:only-of-type {\n        vertical-align: middle;\n    }\n\n    .dataframe tbody tr th {\n        vertical-align: top;\n    }\n\n    .dataframe thead th {\n        text-align: right;\n    }\n</style>\n<table border=\"1\" class=\"dataframe\">\n  <thead>\n    <tr style=\"text-align: right;\">\n      <th></th>\n      <th>time</th>\n      <th>sourceTimestamp</th>\n      <th>firstCreated</th>\n      <th>sourceId</th>\n      <th>headline</th>\n      <th>urgency</th>\n      <th>takeSequence</th>\n      <th>provider</th>\n      <th>subjects</th>\n      <th>audiences</th>\n      <th>bodySize</th>\n      <th>companyCount</th>\n      <th>headlineTag</th>\n      <th>marketCommentary</th>\n      <th>sentenceCount</th>\n      <th>wordCount</th>\n      <th>assetCodes</th>\n      <th>assetName</th>\n      <th>firstMentionSentence</th>\n      <th>relevance</th>\n      <th>sentimentClass</th>\n      <th>sentimentNegative</th>\n      <th>sentimentNeutral</th>\n      <th>sentimentPositive</th>\n      <th>sentimentWordCount</th>\n      <th>noveltyCount12H</th>\n      <th>noveltyCount24H</th>\n      <th>noveltyCount3D</th>\n      <th>noveltyCount5D</th>\n      <th>noveltyCount7D</th>\n      <th>volumeCounts12H</th>\n      <th>volumeCounts24H</th>\n      <th>volumeCounts3D</th>\n      <th>volumeCounts5D</th>\n      <th>volumeCounts7D</th>\n    </tr>\n  </thead>\n  <tbody>\n    <tr>\n      <th>8328750</th>\n      <td>2015-12-08 13:56:53+00:00</td>\n      <td>2015-12-08 13:56:53+00:00</td>\n      <td>2015-12-08 13:56:53+00:00</td>\n      <td>f9c4067a6d20f21b</td>\n      <td>CHESAPEAKE ENERGY CORP SHARES EXTEND LOSSES, N...</td>\n      <td>1</td>\n      <td>1</td>\n      <td>RTRS</td>\n      <td>{'BLR', 'STX', 'OILG', 'EXPL', 'HOT', 'ENER', ...</td>\n      <td>{'E', 'U'}</td>\n      <td>0</td>\n      <td>1</td>\n      <td></td>\n      <td>False</td>\n      <td>2</td>\n      <td>21</td>\n      <td>{'CHK.N'}</td>\n      <td>Chesapeake Energy Corp</td>\n      <td>1</td>\n      <td>1.00000</td>\n      <td>-1</td>\n      <td>0.819143</td>\n      <td>0.125228</td>\n      <td>0.055629</td>\n      <td>21</td>\n      <td>2</td>\n      <td>3</td>\n      <td>4</td>\n      <td>7</td>\n      <td>9</td>\n      <td>17</td>\n      <td>23</td>\n      <td>24</td>\n      <td>41</td>\n      <td>63</td>\n    </tr>\n    <tr>\n      <th>8328751</th>\n      <td>2015-12-08 13:57:20+00:00</td>\n      <td>2015-12-08 13:57:20+00:00</td>\n      <td>2015-12-08 13:57:20+00:00</td>\n      <td>749e57557c589fca</td>\n      <td>REG - Societe Generale SA Anheuser-Busch InBev...</td>\n      <td>3</td>\n      <td>1</td>\n      <td>LSE</td>\n      <td>{'NEWR', 'FOBE', 'WEU', 'BEVS', 'NCYC', 'LEN',...</td>\n      <td>{'LSEN'}</td>\n      <td>21427</td>\n      <td>1</td>\n      <td></td>\n      <td>False</td>\n      <td>47</td>\n      <td>1528</td>\n      <td>{'ABI.BR', 'BUD.N'}</td>\n      <td>Anheuser Busch Inbev SA</td>\n      <td>1</td>\n      <td>1.00000</td>\n      <td>0</td>\n      <td>0.014524</td>\n      <td>0.801992</td>\n      <td>0.183484</td>\n      <td>62</td>\n      <td>0</td>\n      <td>0</td>\n      <td>0</td>\n      <td>1</td>\n      <td>3</td>\n      <td>22</td>\n      <td>30</td>\n      <td>51</td>\n      <td>90</td>\n      <td>167</td>\n    </tr>\n    <tr>\n      <th>8328752</th>\n      <td>2015-12-08 13:57:20+00:00</td>\n      <td>2015-12-08 13:57:19+00:00</td>\n      <td>2015-12-08 13:57:19+00:00</td>\n      <td>e61c180b2be5eb45</td>\n      <td>REG - Societe Generale SA Anheuser-Busch InBev...</td>\n      <td>3</td>\n      <td>1</td>\n      <td>LSE</td>\n      <td>{'NEWR', 'FOBE', 'WEU', 'BEVS', 'NCYC', 'LEN',...</td>\n      <td>{'LSEN'}</td>\n      <td>59958</td>\n      <td>1</td>\n      <td></td>\n      <td>False</td>\n      <td>53</td>\n      <td>4563</td>\n      <td>{'ABI.BR', 'BUD.N'}</td>\n      <td>Anheuser Busch Inbev SA</td>\n      <td>1</td>\n      <td>1.00000</td>\n      <td>1</td>\n      <td>0.035002</td>\n      <td>0.161918</td>\n      <td>0.803080</td>\n      <td>176</td>\n      <td>19</td>\n      <td>25</td>\n      <td>46</td>\n      <td>74</td>\n      <td>133</td>\n      <td>21</td>\n      <td>29</td>\n      <td>50</td>\n      <td>89</td>\n      <td>166</td>\n    </tr>\n    <tr>\n      <th>8328753</th>\n      <td>2015-12-08 13:57:37+00:00</td>\n      <td>2015-12-08 13:57:37+00:00</td>\n      <td>2015-12-08 13:57:37+00:00</td>\n      <td>35e01becdbd06d17</td>\n      <td>IIROC Trade Resumption - BIP.PR.B &lt;BIP.N&gt;</td>\n      <td>3</td>\n      <td>1</td>\n      <td>CNW</td>\n      <td>{'NEWR', 'LEN', 'ELEU', 'FINS', 'US', 'DFIN', ...</td>\n      <td>{'CNR', 'CNW'}</td>\n      <td>753</td>\n      <td>1</td>\n      <td></td>\n      <td>False</td>\n      <td>8</td>\n      <td>137</td>\n      <td>{'BIP.N'}</td>\n      <td>Brookfield Infrastructure Partners LP</td>\n      <td>4</td>\n      <td>0.57735</td>\n      <td>-1</td>\n      <td>0.811987</td>\n      <td>0.129426</td>\n      <td>0.058586</td>\n      <td>87</td>\n      <td>1</td>\n      <td>1</td>\n      <td>1</td>\n      <td>1</td>\n      <td>1</td>\n      <td>1</td>\n      <td>1</td>\n      <td>1</td>\n      <td>1</td>\n      <td>10</td>\n    </tr>\n    <tr>\n      <th>8328754</th>\n      <td>2015-12-08 13:57:41+00:00</td>\n      <td>2015-12-08 13:57:41+00:00</td>\n      <td>2015-12-08 13:57:41+00:00</td>\n      <td>36a59986b3a81936</td>\n      <td>TRANSOCEAN'S U.S.-LISTED SHARES DOWN 2.41 PCT ...</td>\n      <td>1</td>\n      <td>1</td>\n      <td>RTRS</td>\n      <td>{'BLR', 'STX', 'WEU', 'HOT', 'CH', 'DRIL', 'EN...</td>\n      <td>{'E', 'U'}</td>\n      <td>0</td>\n      <td>1</td>\n      <td></td>\n      <td>False</td>\n      <td>1</td>\n      <td>14</td>\n      <td>{'RIG.N', 'RIGN.VX', 'RIGN.BN'}</td>\n      <td>Transocean Ltd</td>\n      <td>1</td>\n      <td>1.00000</td>\n      <td>-1</td>\n      <td>0.819123</td>\n      <td>0.125241</td>\n      <td>0.055637</td>\n      <td>14</td>\n      <td>0</td>\n      <td>0</td>\n      <td>0</td>\n      <td>1</td>\n      <td>1</td>\n      <td>1</td>\n      <td>3</td>\n      <td>14</td>\n      <td>17</td>\n      <td>17</td>\n    </tr>\n  </tbody>\n</table>\n</div>"
          },
          "metadata": {}
        }
      ]
    },
    {
      "metadata": {
        "_uuid": "cb841bc6ab0199143c83428d5419ba9a28eec13b"
      },
      "cell_type": "markdown",
      "source": "### Information on the Training Data\n* There are no Unknown ``assetName`` in ``news_train_df``, but there are 24 479 rows with Unknown as the ``assetName`` in ``market_train_df``. Merging by ``assetCode`` leaves out Unknown rows, which could be problematic.\n* ``Volume`` has the highest correlation in terms of ``returnsOpenNextMktres10``.\n* Merging by just ``assetCodes`` greatly increases the dataframe (with just 100k rows, it has turned into 10 million rows), although merging by ``assetCodes`` and ``time`` greatly decrease the original dataframe."
    },
    {
      "metadata": {
        "_uuid": "4e79b71ec8de5009a497f5ad71bf80be76e78329"
      },
      "cell_type": "markdown",
      "source": "### Aggregations on News Data\n\nIt helped a lot during the Home Credit competition, and in the next block of code we will be merging the news dataframe with the market dataframe. Instead of having columns with a list of numbers, we will get aggregations for each grouping. The following block creates a dictionary that will be used when merging the data."
    },
    {
      "metadata": {
        "trusted": true,
        "_uuid": "e45bcca68ec56ffb6d1e3d2049aa4970f6897da4"
      },
      "cell_type": "code",
      "source": "news_agg_cols = [f for f in news_train_df.columns if 'novelty' in f or\n                'volume' in f or\n                'sentiment' in f or\n                'bodySize' in f or\n                'Count' in f or\n                'marketCommentary' in f or\n                'relevance' in f]\nnews_agg_dict = {}\nfor col in news_agg_cols:\n    news_agg_dict[col] = ['mean', 'sum', 'max', 'min']\nnews_agg_dict['urgency'] = ['min', 'count']\nnews_agg_dict['takeSequence'] = ['max']",
      "execution_count": 6,
      "outputs": []
    },
    {
      "metadata": {
        "_uuid": "c1185cd336552dfbc3972772b6cc1ad908654b43"
      },
      "cell_type": "markdown",
      "source": "### Joining Market & News Data\n\nThe grouping method that I'll be using is from [bguberfain](https://www.kaggle.com/bguberfain), but I'll also be adding in the headlines column, as well eliminating rows that are not partnered with either the market or news data. One way I would improve this is probably group by time periods rather than exact times given in ``time`` due to the small amount of data that share the same amount of data in terms of the ``time`` column, and possibly making it a bit more efficient. Probably remove the hour/min/second?\n\nNOTE: When you run the full dataset, expect it to take a while."
    },
    {
      "metadata": {
        "trusted": true,
        "_uuid": "e2dad49559a057808e6d2559a6fbac4f964bd6d4"
      },
      "cell_type": "code",
      "source": "# update market dataframe to only contain the specific rows with matching indecies.\ndef check_index(index, indecies):\n    if index in indecies:\n        return True\n    else:\n        return False\n\n# note to self: fill int/float columns with 0\ndef fillnulls(X):\n    \n    # fill headlines with the string null\n    X['headline'] = X['headline'].fillna('null')\n\ndef join_market_news(market_df, news_df, nulls=False):\n\n    print('market_df :' + str(market_df.shape))\n    \n    # Fix asset codes (str -> list)\n    news_df['assetCodes'] = news_df['assetCodes'].str.findall(f\"'([\\w\\./]+)'\")\n\n    # Expand assetCodes\n    assetCodes_expanded = list(chain(*news_df['assetCodes']))\n    assetCodes_index = news_df.index.repeat( news_df['assetCodes'].apply(len) )\n\n    assert len(assetCodes_index) == len(assetCodes_expanded)\n    df_assetCodes = pd.DataFrame({'level_0': assetCodes_index, 'assetCode': assetCodes_expanded})\n    \n    # get rid of any rows that will cause null values in one dataframe or the other.\n    if not nulls:\n        \n        # gget new dataframe\n        temp_news_df_expanded = pd.merge(df_assetCodes, news_df[['time', 'assetCodes']], left_on='level_0', right_index=True, suffixes=(['','_old']))\n        \n        # groupby dataframes\n        temp_news_df = temp_news_df_expanded.copy()[['time', 'assetCode']]\n        temp_market_df = market_df.copy()[['time', 'assetCode']]\n        \n        # get indecies on both dataframes\n        temp_news_df['news_index'] = temp_news_df.index.values\n        temp_market_df['market_index'] = temp_market_df.index.values\n        \n        # set multiindex and join the two\n        temp_news_df.set_index(['time', 'assetCode'], inplace=True)\n        \n        # join the two\n        temp_market_df_2 = temp_market_df.join(temp_news_df, on=['time', 'assetCode'])\n        del temp_market_df, temp_news_df\n        \n        # drop nulls in any columns\n        temp_market_df_2 = temp_market_df_2.dropna()\n        print('dataframe relation: ' + str(temp_market_df_2.shape))\n        \n        # get indecies\n        market_valid_indecies = temp_market_df_2['market_index'].tolist()\n        news_valid_indecies = temp_market_df_2['news_index'].tolist()\n        del temp_market_df_2\n            \n        # get index column\n        market_df['market_index'] = market_df.index.values\n        market_df['is_news'] = market_df['market_index'].apply(lambda x: check_index(x, market_valid_indecies))\n        market_df = market_df[market_df.is_news == True]\n        print('new market dataframe: ' + str(market_df.shape))\n        del market_df['market_index'], market_df['is_news']\n    \n    # create dataframe based on groupby\n    news_col = ['time', 'assetCodes', 'headline'] + sorted(list(news_agg_dict.keys()))\n    news_df_expanded = pd.merge(df_assetCodes, news_df[news_col], left_on='level_0', right_index=True, suffixes=(['','_old']))\n    \n    # check if the columns are in the index\n    if not nulls:\n        news_df_expanded['news_index'] = news_df_expanded.index.values\n        news_df_expanded['is_market'] = news_df_expanded['news_index'].apply(lambda x: check_index(x, news_valid_indecies))\n        news_df_expanded = news_df_expanded[news_df_expanded.is_market == True]\n        print('new news dataframe: ' + str(news_df_expanded.shape))\n        del news_df_expanded['news_index'], news_df_expanded['is_market']\n\n    print('creating grouped data...')\n\n    def news_df_feats(x):\n        if x.name == 'headline':\n            return list(x)\n    \n    # groupby time and assetcode\n    news_df_expanded = news_df_expanded.reset_index()\n    news_groupby = news_df_expanded.groupby(['time', 'assetCode'])\n    \n    # get aggregated df\n    news_df_aggregated = news_groupby.agg(news_agg_dict).apply(np.float32).reset_index()\n    news_df_aggregated.columns = ['_'.join(col).strip() for col in news_df_aggregated.columns.values]\n    \n    # get any important string dataframes\n    news_df_cat = news_groupby.transform(lambda x: news_df_feats(x))['headline'].to_frame()\n    new_news_df = pd.concat([news_df_aggregated, news_df_cat], axis=1)\n    \n    # cleanup\n    del news_df_aggregated\n    del news_df_cat\n    del news_df\n    \n    # rename columns\n    new_news_df.rename(columns={'time_': 'time', 'assetCode_': 'assetCode'}, inplace=True)\n    new_news_df.set_index(['time', 'assetCode'], inplace=True)\n    \n    print('merging data...')\n    \n    # Join with train\n    market_df = market_df.join(new_news_df, on=['time', 'assetCode'])\n\n    # cleanup\n    fillnulls(market_df)\n    \n    print('X shape :' + str(market_df.shape))\n    \n    return market_df\n",
      "execution_count": 17,
      "outputs": []
    },
    {
      "metadata": {
        "trusted": true,
        "_uuid": "2be1b6e851438405ca972ddf6fdcc6ea8c97cd28"
      },
      "cell_type": "code",
      "source": "%%time\nX_train = join_market_news(market_train_df, news_train_df, nulls=False)",
      "execution_count": 18,
      "outputs": [
        {
          "output_type": "stream",
          "text": "market_df :(400000, 16)\ndataframe relation: (227, 4)\nnew market dataframe: (182, 18)\nnew news dataframe: (227, 30)\ncreating grouped data...\nmerging data...\nX shape :(182, 104)\nCPU times: user 21.8 s, sys: 632 ms, total: 22.4 s\nWall time: 22.4 s\n",
          "name": "stdout"
        }
      ]
    },
    {
      "metadata": {
        "trusted": true,
        "_uuid": "2d38b9ffd46a21e96bc55b142452eb7cec432c68"
      },
      "cell_type": "code",
      "source": "X_train.head()",
      "execution_count": 19,
      "outputs": [
        {
          "output_type": "execute_result",
          "execution_count": 19,
          "data": {
            "text/plain": "                             time                        ...                                                                   headline\n3673357 2016-02-22 22:00:00+00:00                        ...                          [Ingram Micro Expands Availability of Acronis ...\n3673877 2016-02-22 22:00:00+00:00                        ...                          [RPT-EXCLUSIVE-Up to 90 million more Takata ai...\n3674049 2016-02-22 22:00:00+00:00                        ...                          [RPT-EXCLUSIVE-Up to 90 million more Takata ai...\n3674110 2016-02-22 22:00:00+00:00                        ...                          [RPT-EXCLUSIVE-Up to 90 million more Takata ai...\n3674877 2016-02-22 22:00:00+00:00                        ...                          [RPT-EXCLUSIVE-Up to 90 million more Takata ai...\n\n[5 rows x 104 columns]",
            "text/html": "<div>\n<style scoped>\n    .dataframe tbody tr th:only-of-type {\n        vertical-align: middle;\n    }\n\n    .dataframe tbody tr th {\n        vertical-align: top;\n    }\n\n    .dataframe thead th {\n        text-align: right;\n    }\n</style>\n<table border=\"1\" class=\"dataframe\">\n  <thead>\n    <tr style=\"text-align: right;\">\n      <th></th>\n      <th>time</th>\n      <th>assetCode</th>\n      <th>assetName</th>\n      <th>volume</th>\n      <th>close</th>\n      <th>open</th>\n      <th>returnsClosePrevRaw1</th>\n      <th>returnsOpenPrevRaw1</th>\n      <th>returnsClosePrevMktres1</th>\n      <th>returnsOpenPrevMktres1</th>\n      <th>returnsClosePrevRaw10</th>\n      <th>returnsOpenPrevRaw10</th>\n      <th>returnsClosePrevMktres10</th>\n      <th>returnsOpenPrevMktres10</th>\n      <th>returnsOpenNextMktres10</th>\n      <th>universe</th>\n      <th>bodySize_mean</th>\n      <th>bodySize_sum</th>\n      <th>bodySize_max</th>\n      <th>bodySize_min</th>\n      <th>companyCount_mean</th>\n      <th>companyCount_sum</th>\n      <th>companyCount_max</th>\n      <th>companyCount_min</th>\n      <th>marketCommentary_mean</th>\n      <th>marketCommentary_sum</th>\n      <th>marketCommentary_max</th>\n      <th>marketCommentary_min</th>\n      <th>sentenceCount_mean</th>\n      <th>sentenceCount_sum</th>\n      <th>sentenceCount_max</th>\n      <th>sentenceCount_min</th>\n      <th>wordCount_mean</th>\n      <th>wordCount_sum</th>\n      <th>wordCount_max</th>\n      <th>wordCount_min</th>\n      <th>relevance_mean</th>\n      <th>relevance_sum</th>\n      <th>relevance_max</th>\n      <th>relevance_min</th>\n      <th>...</th>\n      <th>noveltyCount24H_mean</th>\n      <th>noveltyCount24H_sum</th>\n      <th>noveltyCount24H_max</th>\n      <th>noveltyCount24H_min</th>\n      <th>noveltyCount3D_mean</th>\n      <th>noveltyCount3D_sum</th>\n      <th>noveltyCount3D_max</th>\n      <th>noveltyCount3D_min</th>\n      <th>noveltyCount5D_mean</th>\n      <th>noveltyCount5D_sum</th>\n      <th>noveltyCount5D_max</th>\n      <th>noveltyCount5D_min</th>\n      <th>noveltyCount7D_mean</th>\n      <th>noveltyCount7D_sum</th>\n      <th>noveltyCount7D_max</th>\n      <th>noveltyCount7D_min</th>\n      <th>volumeCounts12H_mean</th>\n      <th>volumeCounts12H_sum</th>\n      <th>volumeCounts12H_max</th>\n      <th>volumeCounts12H_min</th>\n      <th>volumeCounts24H_mean</th>\n      <th>volumeCounts24H_sum</th>\n      <th>volumeCounts24H_max</th>\n      <th>volumeCounts24H_min</th>\n      <th>volumeCounts3D_mean</th>\n      <th>volumeCounts3D_sum</th>\n      <th>volumeCounts3D_max</th>\n      <th>volumeCounts3D_min</th>\n      <th>volumeCounts5D_mean</th>\n      <th>volumeCounts5D_sum</th>\n      <th>volumeCounts5D_max</th>\n      <th>volumeCounts5D_min</th>\n      <th>volumeCounts7D_mean</th>\n      <th>volumeCounts7D_sum</th>\n      <th>volumeCounts7D_max</th>\n      <th>volumeCounts7D_min</th>\n      <th>urgency_min</th>\n      <th>urgency_count</th>\n      <th>takeSequence_max</th>\n      <th>headline</th>\n    </tr>\n  </thead>\n  <tbody>\n    <tr>\n      <th>3673357</th>\n      <td>2016-02-22 22:00:00+00:00</td>\n      <td>ALV.N</td>\n      <td>Autoliv Inc</td>\n      <td>436921.0</td>\n      <td>111.96</td>\n      <td>108.99</td>\n      <td>0.029801</td>\n      <td>0.008700</td>\n      <td>0.024366</td>\n      <td>0.005473</td>\n      <td>0.126858</td>\n      <td>0.084695</td>\n      <td>NaN</td>\n      <td>NaN</td>\n      <td>-0.037786</td>\n      <td>0.0</td>\n      <td>8557.0</td>\n      <td>8557.0</td>\n      <td>8557.0</td>\n      <td>8557.0</td>\n      <td>9.0</td>\n      <td>9.0</td>\n      <td>9.0</td>\n      <td>9.0</td>\n      <td>0.0</td>\n      <td>0.0</td>\n      <td>0.0</td>\n      <td>0.0</td>\n      <td>52.0</td>\n      <td>52.0</td>\n      <td>52.0</td>\n      <td>52.0</td>\n      <td>1555.0</td>\n      <td>1555.0</td>\n      <td>1555.0</td>\n      <td>1555.0</td>\n      <td>0.036886</td>\n      <td>0.036886</td>\n      <td>0.036886</td>\n      <td>0.036886</td>\n      <td>...</td>\n      <td>0.0</td>\n      <td>0.0</td>\n      <td>0.0</td>\n      <td>0.0</td>\n      <td>0.0</td>\n      <td>0.0</td>\n      <td>0.0</td>\n      <td>0.0</td>\n      <td>0.0</td>\n      <td>0.0</td>\n      <td>0.0</td>\n      <td>0.0</td>\n      <td>0.0</td>\n      <td>0.0</td>\n      <td>0.0</td>\n      <td>0.0</td>\n      <td>0.0</td>\n      <td>0.0</td>\n      <td>0.0</td>\n      <td>0.0</td>\n      <td>1.0</td>\n      <td>1.0</td>\n      <td>1.0</td>\n      <td>1.0</td>\n      <td>1.0</td>\n      <td>1.0</td>\n      <td>1.0</td>\n      <td>1.0</td>\n      <td>3.0</td>\n      <td>3.0</td>\n      <td>3.0</td>\n      <td>3.0</td>\n      <td>17.0</td>\n      <td>17.0</td>\n      <td>17.0</td>\n      <td>17.0</td>\n      <td>3.0</td>\n      <td>1.0</td>\n      <td>1.0</td>\n      <td>[Ingram Micro Expands Availability of Acronis ...</td>\n    </tr>\n    <tr>\n      <th>3673877</th>\n      <td>2016-02-22 22:00:00+00:00</td>\n      <td>F.N</td>\n      <td>Ford Motor Co</td>\n      <td>33549732.0</td>\n      <td>12.56</td>\n      <td>12.24</td>\n      <td>0.038017</td>\n      <td>0.004102</td>\n      <td>0.021645</td>\n      <td>0.000050</td>\n      <td>0.096943</td>\n      <td>0.062500</td>\n      <td>0.047356</td>\n      <td>0.055504</td>\n      <td>0.027020</td>\n      <td>1.0</td>\n      <td>8557.0</td>\n      <td>8557.0</td>\n      <td>8557.0</td>\n      <td>8557.0</td>\n      <td>9.0</td>\n      <td>9.0</td>\n      <td>9.0</td>\n      <td>9.0</td>\n      <td>0.0</td>\n      <td>0.0</td>\n      <td>0.0</td>\n      <td>0.0</td>\n      <td>52.0</td>\n      <td>52.0</td>\n      <td>52.0</td>\n      <td>52.0</td>\n      <td>1555.0</td>\n      <td>1555.0</td>\n      <td>1555.0</td>\n      <td>1555.0</td>\n      <td>0.073771</td>\n      <td>0.073771</td>\n      <td>0.073771</td>\n      <td>0.073771</td>\n      <td>...</td>\n      <td>1.0</td>\n      <td>1.0</td>\n      <td>1.0</td>\n      <td>1.0</td>\n      <td>1.0</td>\n      <td>1.0</td>\n      <td>1.0</td>\n      <td>1.0</td>\n      <td>1.0</td>\n      <td>1.0</td>\n      <td>1.0</td>\n      <td>1.0</td>\n      <td>1.0</td>\n      <td>1.0</td>\n      <td>1.0</td>\n      <td>1.0</td>\n      <td>4.0</td>\n      <td>4.0</td>\n      <td>4.0</td>\n      <td>4.0</td>\n      <td>5.0</td>\n      <td>5.0</td>\n      <td>5.0</td>\n      <td>5.0</td>\n      <td>5.0</td>\n      <td>5.0</td>\n      <td>5.0</td>\n      <td>5.0</td>\n      <td>18.0</td>\n      <td>18.0</td>\n      <td>18.0</td>\n      <td>18.0</td>\n      <td>26.0</td>\n      <td>26.0</td>\n      <td>26.0</td>\n      <td>26.0</td>\n      <td>3.0</td>\n      <td>1.0</td>\n      <td>1.0</td>\n      <td>[RPT-EXCLUSIVE-Up to 90 million more Takata ai...</td>\n    </tr>\n    <tr>\n      <th>3674049</th>\n      <td>2016-02-22 22:00:00+00:00</td>\n      <td>HMC.N</td>\n      <td>Honda Motor Co Ltd</td>\n      <td>610950.0</td>\n      <td>26.11</td>\n      <td>26.12</td>\n      <td>0.006942</td>\n      <td>0.007716</td>\n      <td>-0.004143</td>\n      <td>0.002679</td>\n      <td>0.003845</td>\n      <td>-0.010231</td>\n      <td>-0.017810</td>\n      <td>-0.013049</td>\n      <td>0.024391</td>\n      <td>1.0</td>\n      <td>8557.0</td>\n      <td>8557.0</td>\n      <td>8557.0</td>\n      <td>8557.0</td>\n      <td>9.0</td>\n      <td>9.0</td>\n      <td>9.0</td>\n      <td>9.0</td>\n      <td>0.0</td>\n      <td>0.0</td>\n      <td>0.0</td>\n      <td>0.0</td>\n      <td>52.0</td>\n      <td>52.0</td>\n      <td>52.0</td>\n      <td>52.0</td>\n      <td>1555.0</td>\n      <td>1555.0</td>\n      <td>1555.0</td>\n      <td>1555.0</td>\n      <td>0.073771</td>\n      <td>0.073771</td>\n      <td>0.073771</td>\n      <td>0.073771</td>\n      <td>...</td>\n      <td>1.0</td>\n      <td>1.0</td>\n      <td>1.0</td>\n      <td>1.0</td>\n      <td>1.0</td>\n      <td>1.0</td>\n      <td>1.0</td>\n      <td>1.0</td>\n      <td>1.0</td>\n      <td>1.0</td>\n      <td>1.0</td>\n      <td>1.0</td>\n      <td>1.0</td>\n      <td>1.0</td>\n      <td>1.0</td>\n      <td>1.0</td>\n      <td>0.0</td>\n      <td>0.0</td>\n      <td>0.0</td>\n      <td>0.0</td>\n      <td>1.0</td>\n      <td>1.0</td>\n      <td>1.0</td>\n      <td>1.0</td>\n      <td>2.0</td>\n      <td>2.0</td>\n      <td>2.0</td>\n      <td>2.0</td>\n      <td>8.0</td>\n      <td>8.0</td>\n      <td>8.0</td>\n      <td>8.0</td>\n      <td>8.0</td>\n      <td>8.0</td>\n      <td>8.0</td>\n      <td>8.0</td>\n      <td>3.0</td>\n      <td>1.0</td>\n      <td>1.0</td>\n      <td>[RPT-EXCLUSIVE-Up to 90 million more Takata ai...</td>\n    </tr>\n    <tr>\n      <th>3674110</th>\n      <td>2016-02-22 22:00:00+00:00</td>\n      <td>IM.N</td>\n      <td>Ingram Micro Inc</td>\n      <td>7136909.0</td>\n      <td>35.92</td>\n      <td>36.17</td>\n      <td>-0.010741</td>\n      <td>0.004443</td>\n      <td>-0.021674</td>\n      <td>-0.002716</td>\n      <td>0.294881</td>\n      <td>0.280807</td>\n      <td>0.220617</td>\n      <td>0.269462</td>\n      <td>-0.058289</td>\n      <td>1.0</td>\n      <td>6256.0</td>\n      <td>6256.0</td>\n      <td>6256.0</td>\n      <td>6256.0</td>\n      <td>1.0</td>\n      <td>1.0</td>\n      <td>1.0</td>\n      <td>1.0</td>\n      <td>0.0</td>\n      <td>0.0</td>\n      <td>0.0</td>\n      <td>0.0</td>\n      <td>32.0</td>\n      <td>32.0</td>\n      <td>32.0</td>\n      <td>32.0</td>\n      <td>979.0</td>\n      <td>979.0</td>\n      <td>979.0</td>\n      <td>979.0</td>\n      <td>1.000000</td>\n      <td>1.000000</td>\n      <td>1.000000</td>\n      <td>1.000000</td>\n      <td>...</td>\n      <td>0.0</td>\n      <td>0.0</td>\n      <td>0.0</td>\n      <td>0.0</td>\n      <td>0.0</td>\n      <td>0.0</td>\n      <td>0.0</td>\n      <td>0.0</td>\n      <td>0.0</td>\n      <td>0.0</td>\n      <td>0.0</td>\n      <td>0.0</td>\n      <td>0.0</td>\n      <td>0.0</td>\n      <td>0.0</td>\n      <td>0.0</td>\n      <td>2.0</td>\n      <td>2.0</td>\n      <td>2.0</td>\n      <td>2.0</td>\n      <td>2.0</td>\n      <td>2.0</td>\n      <td>2.0</td>\n      <td>2.0</td>\n      <td>2.0</td>\n      <td>2.0</td>\n      <td>2.0</td>\n      <td>2.0</td>\n      <td>36.0</td>\n      <td>36.0</td>\n      <td>36.0</td>\n      <td>36.0</td>\n      <td>51.0</td>\n      <td>51.0</td>\n      <td>51.0</td>\n      <td>51.0</td>\n      <td>3.0</td>\n      <td>1.0</td>\n      <td>1.0</td>\n      <td>[RPT-EXCLUSIVE-Up to 90 million more Takata ai...</td>\n    </tr>\n    <tr>\n      <th>3674877</th>\n      <td>2016-02-22 22:00:00+00:00</td>\n      <td>TM.N</td>\n      <td>Toyota Motor Corp</td>\n      <td>297787.0</td>\n      <td>106.69</td>\n      <td>106.07</td>\n      <td>0.013104</td>\n      <td>0.003690</td>\n      <td>-0.002039</td>\n      <td>-0.001471</td>\n      <td>-0.033518</td>\n      <td>-0.054971</td>\n      <td>NaN</td>\n      <td>NaN</td>\n      <td>-0.036162</td>\n      <td>0.0</td>\n      <td>8557.0</td>\n      <td>8557.0</td>\n      <td>8557.0</td>\n      <td>8557.0</td>\n      <td>9.0</td>\n      <td>9.0</td>\n      <td>9.0</td>\n      <td>9.0</td>\n      <td>0.0</td>\n      <td>0.0</td>\n      <td>0.0</td>\n      <td>0.0</td>\n      <td>52.0</td>\n      <td>52.0</td>\n      <td>52.0</td>\n      <td>52.0</td>\n      <td>1555.0</td>\n      <td>1555.0</td>\n      <td>1555.0</td>\n      <td>1555.0</td>\n      <td>0.036886</td>\n      <td>0.036886</td>\n      <td>0.036886</td>\n      <td>0.036886</td>\n      <td>...</td>\n      <td>1.0</td>\n      <td>1.0</td>\n      <td>1.0</td>\n      <td>1.0</td>\n      <td>1.0</td>\n      <td>1.0</td>\n      <td>1.0</td>\n      <td>1.0</td>\n      <td>1.0</td>\n      <td>1.0</td>\n      <td>1.0</td>\n      <td>1.0</td>\n      <td>1.0</td>\n      <td>1.0</td>\n      <td>1.0</td>\n      <td>1.0</td>\n      <td>0.0</td>\n      <td>0.0</td>\n      <td>0.0</td>\n      <td>0.0</td>\n      <td>2.0</td>\n      <td>2.0</td>\n      <td>2.0</td>\n      <td>2.0</td>\n      <td>2.0</td>\n      <td>2.0</td>\n      <td>2.0</td>\n      <td>2.0</td>\n      <td>13.0</td>\n      <td>13.0</td>\n      <td>13.0</td>\n      <td>13.0</td>\n      <td>20.0</td>\n      <td>20.0</td>\n      <td>20.0</td>\n      <td>20.0</td>\n      <td>3.0</td>\n      <td>1.0</td>\n      <td>1.0</td>\n      <td>[RPT-EXCLUSIVE-Up to 90 million more Takata ai...</td>\n    </tr>\n  </tbody>\n</table>\n</div>"
          },
          "metadata": {}
        }
      ]
    },
    {
      "metadata": {
        "_uuid": "957f29e020695f32628882848eecdf392aa9e9e0"
      },
      "cell_type": "markdown",
      "source": "### Text Processing with Logistic Regression\n\nWe are going to vectorize the headlines and apply logistic regression (labels being binary as to whether the stocks go up or not). I would probably apply this same method to the universe column."
    },
    {
      "metadata": {
        "trusted": true,
        "_uuid": "d25c279b7face9bb58eb15a2780a7ec7e9d6b6f8"
      },
      "cell_type": "code",
      "source": "# reuse data\ndef round_scores(x):\n    if x >= 0:\n        return 1\n    else:\n        return 0\n\n# these functions should only go towards the training data only\ndef get_headline_df(X_train):\n    \n    headlines_lst = []\n    target_lst = []\n    \n    # iter through every headline.\n    for row in range(0,len(X_train.index)):\n        for sentence in X_train['headline'].iloc[row]:\n            headlines_lst.append(sentence)\n            target_lst.append(round_scores(X_train['returnsOpenNextMktres10'].iloc[row]))\n            \n    # return dataframe\n    return pd.DataFrame({'headline':pd.Series(headlines_lst), 'returnsOpenNextMktres10':pd.Series(target_lst)})\n    \ndef get_headline(headlines_df):\n    \n    # get headlines as list\n    headlines_lst = []\n    for row in range(0,len(headlines_df.index)):\n        headlines_lst.append(headlines_df.iloc[row])\n\n    # split headlines to separate words\n    basicvectorizer = CountVectorizer()\n    headlines_vectorized = basicvectorizer.fit_transform(headlines_lst)\n    \n    print(headlines_vectorized.shape)\n    return headlines_vectorized, basicvectorizer\n\ndef headline_mapping(target, headlines_vectored, headline_vectorizer):\n    \n    print(np.asarray(target).shape)\n    headline_model = LogisticRegression()\n    headline_model = headline_model.fit(headlines_vectored, target)\n    \n    # get coefficients\n    basicwords = headline_vectorizer.get_feature_names()\n    basiccoeffs = headline_model.coef_.tolist()[0]\n    coeff_df = pd.DataFrame({'Word' : basicwords, \n                            'Coefficient' : basiccoeffs})\n    \n    # convert dataframe to dictionary of coefficients\n    coefficient_dict = dict(zip(coeff_df.Word, coeff_df.Coefficient))\n\n    return coefficient_dict, coeff_df['Coefficient'].mean()\n\n# for predictions\ndef get_coeff_col(X, coeff_dict, coeff_default):\n    \n    def get_coeff(word_lst):\n        \n        # iter through every word\n        coeff_sum = 0\n        for word in word_lst:\n            if word in coeff_dict:\n                coeff_sum += coeff_dict[word]\n            else:\n                coeff_sum += coeff_default\n        \n        # get average coefficient\n        coeff_score = coeff_sum / len(word_lst)\n        return coeff_score\n        \n    basicvectorizer = CountVectorizer()\n    \n    # loop through every item\n    headlines_coeff_lst = []\n    for row in range(0,len(X['headline'].index)):\n        coeff_score = 0\n        for i in range(0,len(X['headline'].iloc[row])):\n            coeff_score += get_coeff(str(X['headline'].iloc[row][i]).split(' '))\n        headlines_coeff_lst.append(coeff_score / len(X['headline'].iloc[row]))\n        \n    # merge coefficient frame with main\n    coeff_mean_df = pd.DataFrame({'headline_coeff_mean': pd.Series(headlines_coeff_lst)})\n    X = pd.concat([X.reset_index(), coeff_mean_df], axis=1)\n    \n    return X",
      "execution_count": 23,
      "outputs": []
    },
    {
      "metadata": {
        "trusted": true,
        "_uuid": "1b58b721978bceccdf5ae8048defa3064c9babbb"
      },
      "cell_type": "code",
      "source": "headline_df = get_headline_df(X_train)\ncoefficient_dict, coefficient_default = headline_mapping(headline_df['returnsOpenNextMktres10'],\n                                            *get_headline(headline_df['headline']))",
      "execution_count": 21,
      "outputs": [
        {
          "output_type": "stream",
          "text": "(240, 871)\n(240,)\n",
          "name": "stdout"
        }
      ]
    },
    {
      "metadata": {
        "trusted": true,
        "_uuid": "40f4b1fa7424613014e3e53a39087315c947b82e"
      },
      "cell_type": "code",
      "source": "# will be applied to X_test as well\nX_train = get_coeff_col(X_train, coefficient_dict, coefficient_default)",
      "execution_count": 24,
      "outputs": []
    },
    {
      "metadata": {
        "_uuid": "4bdad0b0f9d641b5e028548285cd64747dd5a8ff"
      },
      "cell_type": "markdown",
      "source": "### Extra Features ``return``"
    },
    {
      "metadata": {
        "trusted": true,
        "_uuid": "03532b463b9b4a083aea991708fda777334fbfe2"
      },
      "cell_type": "code",
      "source": "def extra_features(X):\n    \n    # Adding daily difference\n    new_col = X[\"close\"] - X[\"open\"]\n    X.insert(loc=6, column=\"daily_diff\", value=new_col)\n    X['close_to_open'] =  np.abs(X['close'] / X['open'])",
      "execution_count": 25,
      "outputs": []
    },
    {
      "metadata": {
        "trusted": true,
        "_uuid": "f83952b1d7852568b8f1d86630d1d8286d90871d"
      },
      "cell_type": "code",
      "source": "extra_features(X_train)",
      "execution_count": 26,
      "outputs": []
    },
    {
      "metadata": {
        "_uuid": "b6bc63a91be4bd007fb95c728aadd14a870358ce"
      },
      "cell_type": "markdown",
      "source": "### Get Time Features\n\nThis section splits the timestamp column into their own separate columns, as well as other various time features.\n\nPossible idea: Encoding time"
    },
    {
      "metadata": {
        "trusted": true,
        "_uuid": "83c73101057e4aa8c72784ab3fb3c3b497677fc1"
      },
      "cell_type": "code",
      "source": "# ripped from my previous kernel, NYC Taxi Fare\n\n# first get dates\ndef split_time(df):\n    \n    # convert to string (will find a more efficient way to do this without converting to string)\n    df['time'] = df['time'].dt.strftime('%Y-%m-%d %H:%M:%S')\n    \n    # split date_time into categories\n    df['time_day'] = df['time'].str.slice(8,10)\n    df['time_month'] = df['time'].str.slice(5,7)\n    df['time_year'] = df['time'].str.slice(0,4)\n    df['time_hour'] = df['time'].str.slice(11,13)\n    \n    # source: https://www.kaggle.com/nicapotato/taxi-rides-time-analysis-and-oof-lgbm\n    df['temp_time'] = df['time'].str.replace(\" UTC\", \"\")\n    df['temp_time'] = pd.to_datetime(df['temp_time'], format='%Y-%m-%d %H:%M:%S')\n    \n    df['time_day_of_year'] = df.temp_time.dt.dayofyear\n    df['time_week_of_year'] = df.temp_time.dt.weekofyear\n    df[\"time_weekday\"] = df.temp_time.dt.weekday\n    df[\"time_quarter\"] = df.temp_time.dt.quarter\n    \n    del df['temp_time']\n    gc.collect()\n    \n    # convert to non-object columns\n    time_feats = ['time_day', 'time_month', 'time_year', 'time_hour']\n    df[time_feats] = df[time_feats].apply(pd.to_numeric)\n    \n    # determine whether the day is set on a holiday\n    cal = USFederalHolidayCalendar()\n    holidays = cal.holidays(start='2007-01-01', end='2018-09-27').to_pydatetime()\n    df['on_holiday'] = df['time'].str.slice(0,10).apply(lambda x: 1 if x in holidays else 0)",
      "execution_count": 27,
      "outputs": []
    },
    {
      "metadata": {
        "trusted": true,
        "_uuid": "e6b15afa722c354bc34bd5c747060687cdd061be"
      },
      "cell_type": "code",
      "source": "split_time(X_train)",
      "execution_count": 28,
      "outputs": []
    },
    {
      "metadata": {
        "_uuid": "674bc842d3ab32df25a88facf5a7af2bfdd3254d"
      },
      "cell_type": "markdown",
      "source": "### Cleaning Data\nRemoves all categorical data as well as data that does not show up in the test data."
    },
    {
      "metadata": {
        "trusted": true,
        "_uuid": "e7da8cedce5276b9c145c59ddeeef423df45200b"
      },
      "cell_type": "code",
      "source": "def remove_cols(X):\n    del_cols = [f for f in X.columns if X[f].dtype == 'object'] + ['assetName', 'index']\n    for f in del_cols:\n        del X[f]",
      "execution_count": 34,
      "outputs": []
    },
    {
      "metadata": {
        "trusted": true,
        "_uuid": "007ed8fc74313b6f41789369c765f0293b4d6142"
      },
      "cell_type": "code",
      "source": "remove_cols(X_train)",
      "execution_count": 30,
      "outputs": []
    },
    {
      "metadata": {
        "_uuid": "f19d6c49c01767a6b015b7bdca8ee090308978d1"
      },
      "cell_type": "markdown",
      "source": "### Compile X functions into one function\n\nThis will be used when looping through different batches of X_test"
    },
    {
      "metadata": {
        "trusted": true,
        "_uuid": "a6d8cd8162bb0275302e10bbe5399f87a027fe00"
      },
      "cell_type": "code",
      "source": "def get_X(market_df, news_df):\n    \n    # these are all the functions applied to X_train except for a few\n    X_test = join_market_news(market_df, news_df, nulls=True)\n    X_test = get_coeff_col(X_test, coefficient_dict, coefficient_default)\n    extra_features(X_test)\n    split_time(X_test)\n    remove_cols(X_test)\n    \n    return X_test",
      "execution_count": 31,
      "outputs": []
    },
    {
      "metadata": {
        "_uuid": "055fef0b89c100b52ec1e6405ca5e3dde68314e8"
      },
      "cell_type": "markdown",
      "source": "#### Resulting Dataframe and Data Correlation to Target column\nWe have went to roughly 50 columns to 113!"
    },
    {
      "metadata": {
        "trusted": true,
        "_uuid": "4ac267c074efb8d7e16620b52320d23ec4eb8b01"
      },
      "cell_type": "code",
      "source": "X_train.head(10)",
      "execution_count": 32,
      "outputs": [
        {
          "output_type": "execute_result",
          "execution_count": 32,
          "data": {
            "text/plain": "     index      volume     ...      time_quarter  on_holiday\n0  3673357    436921.0     ...                 1           0\n1  3673877  33549732.0     ...                 1           0\n2  3674049    610950.0     ...                 1           0\n3  3674110   7136909.0     ...                 1           0\n4  3674877    297787.0     ...                 1           0\n5  3675542   7897799.0     ...                 1           0\n6  3675557    547468.0     ...                 1           0\n7  3675794   8394523.0     ...                 1           0\n8  3677776   1062877.0     ...                 1           0\n9  3678009   2027882.0     ...                 1           0\n\n[10 rows x 113 columns]",
            "text/html": "<div>\n<style scoped>\n    .dataframe tbody tr th:only-of-type {\n        vertical-align: middle;\n    }\n\n    .dataframe tbody tr th {\n        vertical-align: top;\n    }\n\n    .dataframe thead th {\n        text-align: right;\n    }\n</style>\n<table border=\"1\" class=\"dataframe\">\n  <thead>\n    <tr style=\"text-align: right;\">\n      <th></th>\n      <th>index</th>\n      <th>volume</th>\n      <th>close</th>\n      <th>daily_diff</th>\n      <th>open</th>\n      <th>returnsClosePrevRaw1</th>\n      <th>returnsOpenPrevRaw1</th>\n      <th>returnsClosePrevMktres1</th>\n      <th>returnsOpenPrevMktres1</th>\n      <th>returnsClosePrevRaw10</th>\n      <th>returnsOpenPrevRaw10</th>\n      <th>returnsClosePrevMktres10</th>\n      <th>returnsOpenPrevMktres10</th>\n      <th>returnsOpenNextMktres10</th>\n      <th>universe</th>\n      <th>bodySize_mean</th>\n      <th>bodySize_sum</th>\n      <th>bodySize_max</th>\n      <th>bodySize_min</th>\n      <th>companyCount_mean</th>\n      <th>companyCount_sum</th>\n      <th>companyCount_max</th>\n      <th>companyCount_min</th>\n      <th>marketCommentary_mean</th>\n      <th>marketCommentary_sum</th>\n      <th>marketCommentary_max</th>\n      <th>marketCommentary_min</th>\n      <th>sentenceCount_mean</th>\n      <th>sentenceCount_sum</th>\n      <th>sentenceCount_max</th>\n      <th>sentenceCount_min</th>\n      <th>wordCount_mean</th>\n      <th>wordCount_sum</th>\n      <th>wordCount_max</th>\n      <th>wordCount_min</th>\n      <th>relevance_mean</th>\n      <th>relevance_sum</th>\n      <th>relevance_max</th>\n      <th>relevance_min</th>\n      <th>sentimentClass_mean</th>\n      <th>...</th>\n      <th>noveltyCount5D_max</th>\n      <th>noveltyCount5D_min</th>\n      <th>noveltyCount7D_mean</th>\n      <th>noveltyCount7D_sum</th>\n      <th>noveltyCount7D_max</th>\n      <th>noveltyCount7D_min</th>\n      <th>volumeCounts12H_mean</th>\n      <th>volumeCounts12H_sum</th>\n      <th>volumeCounts12H_max</th>\n      <th>volumeCounts12H_min</th>\n      <th>volumeCounts24H_mean</th>\n      <th>volumeCounts24H_sum</th>\n      <th>volumeCounts24H_max</th>\n      <th>volumeCounts24H_min</th>\n      <th>volumeCounts3D_mean</th>\n      <th>volumeCounts3D_sum</th>\n      <th>volumeCounts3D_max</th>\n      <th>volumeCounts3D_min</th>\n      <th>volumeCounts5D_mean</th>\n      <th>volumeCounts5D_sum</th>\n      <th>volumeCounts5D_max</th>\n      <th>volumeCounts5D_min</th>\n      <th>volumeCounts7D_mean</th>\n      <th>volumeCounts7D_sum</th>\n      <th>volumeCounts7D_max</th>\n      <th>volumeCounts7D_min</th>\n      <th>urgency_min</th>\n      <th>urgency_count</th>\n      <th>takeSequence_max</th>\n      <th>headline_coeff_mean</th>\n      <th>close_to_open</th>\n      <th>time_day</th>\n      <th>time_month</th>\n      <th>time_year</th>\n      <th>time_hour</th>\n      <th>time_day_of_year</th>\n      <th>time_week_of_year</th>\n      <th>time_weekday</th>\n      <th>time_quarter</th>\n      <th>on_holiday</th>\n    </tr>\n  </thead>\n  <tbody>\n    <tr>\n      <th>0</th>\n      <td>3673357</td>\n      <td>436921.0</td>\n      <td>111.96</td>\n      <td>2.97</td>\n      <td>108.99</td>\n      <td>0.029801</td>\n      <td>0.008700</td>\n      <td>0.024366</td>\n      <td>0.005473</td>\n      <td>0.126858</td>\n      <td>0.084695</td>\n      <td>NaN</td>\n      <td>NaN</td>\n      <td>-0.037786</td>\n      <td>0.0</td>\n      <td>8557.0</td>\n      <td>8557.0</td>\n      <td>8557.0</td>\n      <td>8557.0</td>\n      <td>9.0</td>\n      <td>9.0</td>\n      <td>9.0</td>\n      <td>9.0</td>\n      <td>0.0</td>\n      <td>0.0</td>\n      <td>0.0</td>\n      <td>0.0</td>\n      <td>52.0</td>\n      <td>52.0</td>\n      <td>52.0</td>\n      <td>52.0</td>\n      <td>1555.0</td>\n      <td>1555.0</td>\n      <td>1555.0</td>\n      <td>1555.0</td>\n      <td>0.036886</td>\n      <td>0.036886</td>\n      <td>0.036886</td>\n      <td>0.036886</td>\n      <td>-1.0</td>\n      <td>...</td>\n      <td>0.0</td>\n      <td>0.0</td>\n      <td>0.0</td>\n      <td>0.0</td>\n      <td>0.0</td>\n      <td>0.0</td>\n      <td>0.0</td>\n      <td>0.0</td>\n      <td>0.0</td>\n      <td>0.0</td>\n      <td>1.0</td>\n      <td>1.0</td>\n      <td>1.0</td>\n      <td>1.0</td>\n      <td>1.0</td>\n      <td>1.0</td>\n      <td>1.0</td>\n      <td>1.0</td>\n      <td>3.0</td>\n      <td>3.0</td>\n      <td>3.0</td>\n      <td>3.0</td>\n      <td>17.0</td>\n      <td>17.0</td>\n      <td>17.0</td>\n      <td>17.0</td>\n      <td>3.0</td>\n      <td>1.0</td>\n      <td>1.0</td>\n      <td>0.043021</td>\n      <td>1.027250</td>\n      <td>22</td>\n      <td>2</td>\n      <td>2016</td>\n      <td>22</td>\n      <td>53</td>\n      <td>8</td>\n      <td>0</td>\n      <td>1</td>\n      <td>0</td>\n    </tr>\n    <tr>\n      <th>1</th>\n      <td>3673877</td>\n      <td>33549732.0</td>\n      <td>12.56</td>\n      <td>0.32</td>\n      <td>12.24</td>\n      <td>0.038017</td>\n      <td>0.004102</td>\n      <td>0.021645</td>\n      <td>0.000050</td>\n      <td>0.096943</td>\n      <td>0.062500</td>\n      <td>0.047356</td>\n      <td>0.055504</td>\n      <td>0.027020</td>\n      <td>1.0</td>\n      <td>8557.0</td>\n      <td>8557.0</td>\n      <td>8557.0</td>\n      <td>8557.0</td>\n      <td>9.0</td>\n      <td>9.0</td>\n      <td>9.0</td>\n      <td>9.0</td>\n      <td>0.0</td>\n      <td>0.0</td>\n      <td>0.0</td>\n      <td>0.0</td>\n      <td>52.0</td>\n      <td>52.0</td>\n      <td>52.0</td>\n      <td>52.0</td>\n      <td>1555.0</td>\n      <td>1555.0</td>\n      <td>1555.0</td>\n      <td>1555.0</td>\n      <td>0.073771</td>\n      <td>0.073771</td>\n      <td>0.073771</td>\n      <td>0.073771</td>\n      <td>-1.0</td>\n      <td>...</td>\n      <td>1.0</td>\n      <td>1.0</td>\n      <td>1.0</td>\n      <td>1.0</td>\n      <td>1.0</td>\n      <td>1.0</td>\n      <td>4.0</td>\n      <td>4.0</td>\n      <td>4.0</td>\n      <td>4.0</td>\n      <td>5.0</td>\n      <td>5.0</td>\n      <td>5.0</td>\n      <td>5.0</td>\n      <td>5.0</td>\n      <td>5.0</td>\n      <td>5.0</td>\n      <td>5.0</td>\n      <td>18.0</td>\n      <td>18.0</td>\n      <td>18.0</td>\n      <td>18.0</td>\n      <td>26.0</td>\n      <td>26.0</td>\n      <td>26.0</td>\n      <td>26.0</td>\n      <td>3.0</td>\n      <td>1.0</td>\n      <td>1.0</td>\n      <td>-0.044477</td>\n      <td>1.026144</td>\n      <td>22</td>\n      <td>2</td>\n      <td>2016</td>\n      <td>22</td>\n      <td>53</td>\n      <td>8</td>\n      <td>0</td>\n      <td>1</td>\n      <td>0</td>\n    </tr>\n    <tr>\n      <th>2</th>\n      <td>3674049</td>\n      <td>610950.0</td>\n      <td>26.11</td>\n      <td>-0.01</td>\n      <td>26.12</td>\n      <td>0.006942</td>\n      <td>0.007716</td>\n      <td>-0.004143</td>\n      <td>0.002679</td>\n      <td>0.003845</td>\n      <td>-0.010231</td>\n      <td>-0.017810</td>\n      <td>-0.013049</td>\n      <td>0.024391</td>\n      <td>1.0</td>\n      <td>8557.0</td>\n      <td>8557.0</td>\n      <td>8557.0</td>\n      <td>8557.0</td>\n      <td>9.0</td>\n      <td>9.0</td>\n      <td>9.0</td>\n      <td>9.0</td>\n      <td>0.0</td>\n      <td>0.0</td>\n      <td>0.0</td>\n      <td>0.0</td>\n      <td>52.0</td>\n      <td>52.0</td>\n      <td>52.0</td>\n      <td>52.0</td>\n      <td>1555.0</td>\n      <td>1555.0</td>\n      <td>1555.0</td>\n      <td>1555.0</td>\n      <td>0.073771</td>\n      <td>0.073771</td>\n      <td>0.073771</td>\n      <td>0.073771</td>\n      <td>-1.0</td>\n      <td>...</td>\n      <td>1.0</td>\n      <td>1.0</td>\n      <td>1.0</td>\n      <td>1.0</td>\n      <td>1.0</td>\n      <td>1.0</td>\n      <td>0.0</td>\n      <td>0.0</td>\n      <td>0.0</td>\n      <td>0.0</td>\n      <td>1.0</td>\n      <td>1.0</td>\n      <td>1.0</td>\n      <td>1.0</td>\n      <td>2.0</td>\n      <td>2.0</td>\n      <td>2.0</td>\n      <td>2.0</td>\n      <td>8.0</td>\n      <td>8.0</td>\n      <td>8.0</td>\n      <td>8.0</td>\n      <td>8.0</td>\n      <td>8.0</td>\n      <td>8.0</td>\n      <td>8.0</td>\n      <td>3.0</td>\n      <td>1.0</td>\n      <td>1.0</td>\n      <td>-0.044477</td>\n      <td>0.999617</td>\n      <td>22</td>\n      <td>2</td>\n      <td>2016</td>\n      <td>22</td>\n      <td>53</td>\n      <td>8</td>\n      <td>0</td>\n      <td>1</td>\n      <td>0</td>\n    </tr>\n    <tr>\n      <th>3</th>\n      <td>3674110</td>\n      <td>7136909.0</td>\n      <td>35.92</td>\n      <td>-0.25</td>\n      <td>36.17</td>\n      <td>-0.010741</td>\n      <td>0.004443</td>\n      <td>-0.021674</td>\n      <td>-0.002716</td>\n      <td>0.294881</td>\n      <td>0.280807</td>\n      <td>0.220617</td>\n      <td>0.269462</td>\n      <td>-0.058289</td>\n      <td>1.0</td>\n      <td>6256.0</td>\n      <td>6256.0</td>\n      <td>6256.0</td>\n      <td>6256.0</td>\n      <td>1.0</td>\n      <td>1.0</td>\n      <td>1.0</td>\n      <td>1.0</td>\n      <td>0.0</td>\n      <td>0.0</td>\n      <td>0.0</td>\n      <td>0.0</td>\n      <td>32.0</td>\n      <td>32.0</td>\n      <td>32.0</td>\n      <td>32.0</td>\n      <td>979.0</td>\n      <td>979.0</td>\n      <td>979.0</td>\n      <td>979.0</td>\n      <td>1.000000</td>\n      <td>1.000000</td>\n      <td>1.000000</td>\n      <td>1.000000</td>\n      <td>1.0</td>\n      <td>...</td>\n      <td>0.0</td>\n      <td>0.0</td>\n      <td>0.0</td>\n      <td>0.0</td>\n      <td>0.0</td>\n      <td>0.0</td>\n      <td>2.0</td>\n      <td>2.0</td>\n      <td>2.0</td>\n      <td>2.0</td>\n      <td>2.0</td>\n      <td>2.0</td>\n      <td>2.0</td>\n      <td>2.0</td>\n      <td>2.0</td>\n      <td>2.0</td>\n      <td>2.0</td>\n      <td>2.0</td>\n      <td>36.0</td>\n      <td>36.0</td>\n      <td>36.0</td>\n      <td>36.0</td>\n      <td>51.0</td>\n      <td>51.0</td>\n      <td>51.0</td>\n      <td>51.0</td>\n      <td>3.0</td>\n      <td>1.0</td>\n      <td>1.0</td>\n      <td>-0.044477</td>\n      <td>0.993088</td>\n      <td>22</td>\n      <td>2</td>\n      <td>2016</td>\n      <td>22</td>\n      <td>53</td>\n      <td>8</td>\n      <td>0</td>\n      <td>1</td>\n      <td>0</td>\n    </tr>\n    <tr>\n      <th>4</th>\n      <td>3674877</td>\n      <td>297787.0</td>\n      <td>106.69</td>\n      <td>0.62</td>\n      <td>106.07</td>\n      <td>0.013104</td>\n      <td>0.003690</td>\n      <td>-0.002039</td>\n      <td>-0.001471</td>\n      <td>-0.033518</td>\n      <td>-0.054971</td>\n      <td>NaN</td>\n      <td>NaN</td>\n      <td>-0.036162</td>\n      <td>0.0</td>\n      <td>8557.0</td>\n      <td>8557.0</td>\n      <td>8557.0</td>\n      <td>8557.0</td>\n      <td>9.0</td>\n      <td>9.0</td>\n      <td>9.0</td>\n      <td>9.0</td>\n      <td>0.0</td>\n      <td>0.0</td>\n      <td>0.0</td>\n      <td>0.0</td>\n      <td>52.0</td>\n      <td>52.0</td>\n      <td>52.0</td>\n      <td>52.0</td>\n      <td>1555.0</td>\n      <td>1555.0</td>\n      <td>1555.0</td>\n      <td>1555.0</td>\n      <td>0.036886</td>\n      <td>0.036886</td>\n      <td>0.036886</td>\n      <td>0.036886</td>\n      <td>-1.0</td>\n      <td>...</td>\n      <td>1.0</td>\n      <td>1.0</td>\n      <td>1.0</td>\n      <td>1.0</td>\n      <td>1.0</td>\n      <td>1.0</td>\n      <td>0.0</td>\n      <td>0.0</td>\n      <td>0.0</td>\n      <td>0.0</td>\n      <td>2.0</td>\n      <td>2.0</td>\n      <td>2.0</td>\n      <td>2.0</td>\n      <td>2.0</td>\n      <td>2.0</td>\n      <td>2.0</td>\n      <td>2.0</td>\n      <td>13.0</td>\n      <td>13.0</td>\n      <td>13.0</td>\n      <td>13.0</td>\n      <td>20.0</td>\n      <td>20.0</td>\n      <td>20.0</td>\n      <td>20.0</td>\n      <td>3.0</td>\n      <td>1.0</td>\n      <td>1.0</td>\n      <td>-0.044477</td>\n      <td>1.005845</td>\n      <td>22</td>\n      <td>2</td>\n      <td>2016</td>\n      <td>22</td>\n      <td>53</td>\n      <td>8</td>\n      <td>0</td>\n      <td>1</td>\n      <td>0</td>\n    </tr>\n    <tr>\n      <th>5</th>\n      <td>3675542</td>\n      <td>7897799.0</td>\n      <td>7.63</td>\n      <td>0.02</td>\n      <td>7.61</td>\n      <td>-0.007802</td>\n      <td>0.010624</td>\n      <td>0.020360</td>\n      <td>-0.006027</td>\n      <td>0.123711</td>\n      <td>0.064336</td>\n      <td>0.029607</td>\n      <td>-0.010520</td>\n      <td>-0.047362</td>\n      <td>1.0</td>\n      <td>4733.0</td>\n      <td>4733.0</td>\n      <td>4733.0</td>\n      <td>4733.0</td>\n      <td>2.0</td>\n      <td>2.0</td>\n      <td>2.0</td>\n      <td>2.0</td>\n      <td>0.0</td>\n      <td>0.0</td>\n      <td>0.0</td>\n      <td>0.0</td>\n      <td>27.0</td>\n      <td>27.0</td>\n      <td>27.0</td>\n      <td>27.0</td>\n      <td>740.0</td>\n      <td>740.0</td>\n      <td>740.0</td>\n      <td>740.0</td>\n      <td>1.000000</td>\n      <td>1.000000</td>\n      <td>1.000000</td>\n      <td>1.000000</td>\n      <td>1.0</td>\n      <td>...</td>\n      <td>0.0</td>\n      <td>0.0</td>\n      <td>0.0</td>\n      <td>0.0</td>\n      <td>0.0</td>\n      <td>0.0</td>\n      <td>2.0</td>\n      <td>2.0</td>\n      <td>2.0</td>\n      <td>2.0</td>\n      <td>2.0</td>\n      <td>2.0</td>\n      <td>2.0</td>\n      <td>2.0</td>\n      <td>2.0</td>\n      <td>2.0</td>\n      <td>2.0</td>\n      <td>2.0</td>\n      <td>2.0</td>\n      <td>2.0</td>\n      <td>2.0</td>\n      <td>2.0</td>\n      <td>4.0</td>\n      <td>4.0</td>\n      <td>4.0</td>\n      <td>4.0</td>\n      <td>3.0</td>\n      <td>1.0</td>\n      <td>1.0</td>\n      <td>-0.023805</td>\n      <td>1.002628</td>\n      <td>23</td>\n      <td>2</td>\n      <td>2016</td>\n      <td>22</td>\n      <td>54</td>\n      <td>8</td>\n      <td>1</td>\n      <td>1</td>\n      <td>0</td>\n    </tr>\n    <tr>\n      <th>6</th>\n      <td>3675557</td>\n      <td>547468.0</td>\n      <td>10.81</td>\n      <td>-0.32</td>\n      <td>11.13</td>\n      <td>-0.036542</td>\n      <td>-0.033854</td>\n      <td>-0.021523</td>\n      <td>-0.039447</td>\n      <td>-0.010073</td>\n      <td>-0.011545</td>\n      <td>-0.013325</td>\n      <td>-0.019046</td>\n      <td>0.187705</td>\n      <td>0.0</td>\n      <td>26197.0</td>\n      <td>26197.0</td>\n      <td>26197.0</td>\n      <td>26197.0</td>\n      <td>1.0</td>\n      <td>1.0</td>\n      <td>1.0</td>\n      <td>1.0</td>\n      <td>0.0</td>\n      <td>0.0</td>\n      <td>0.0</td>\n      <td>0.0</td>\n      <td>125.0</td>\n      <td>125.0</td>\n      <td>125.0</td>\n      <td>125.0</td>\n      <td>3822.0</td>\n      <td>3822.0</td>\n      <td>3822.0</td>\n      <td>3822.0</td>\n      <td>1.000000</td>\n      <td>1.000000</td>\n      <td>1.000000</td>\n      <td>1.000000</td>\n      <td>-1.0</td>\n      <td>...</td>\n      <td>0.0</td>\n      <td>0.0</td>\n      <td>0.0</td>\n      <td>0.0</td>\n      <td>0.0</td>\n      <td>0.0</td>\n      <td>4.0</td>\n      <td>4.0</td>\n      <td>4.0</td>\n      <td>4.0</td>\n      <td>4.0</td>\n      <td>4.0</td>\n      <td>4.0</td>\n      <td>4.0</td>\n      <td>7.0</td>\n      <td>7.0</td>\n      <td>7.0</td>\n      <td>7.0</td>\n      <td>7.0</td>\n      <td>7.0</td>\n      <td>7.0</td>\n      <td>7.0</td>\n      <td>7.0</td>\n      <td>7.0</td>\n      <td>7.0</td>\n      <td>7.0</td>\n      <td>3.0</td>\n      <td>1.0</td>\n      <td>1.0</td>\n      <td>0.035067</td>\n      <td>0.971249</td>\n      <td>23</td>\n      <td>2</td>\n      <td>2016</td>\n      <td>22</td>\n      <td>54</td>\n      <td>8</td>\n      <td>1</td>\n      <td>1</td>\n      <td>0</td>\n    </tr>\n    <tr>\n      <th>7</th>\n      <td>3675794</td>\n      <td>8394523.0</td>\n      <td>88.35</td>\n      <td>-0.75</td>\n      <td>89.10</td>\n      <td>-0.008418</td>\n      <td>0.008489</td>\n      <td>-0.004609</td>\n      <td>0.005474</td>\n      <td>0.036242</td>\n      <td>0.058320</td>\n      <td>0.037713</td>\n      <td>0.067208</td>\n      <td>0.023698</td>\n      <td>1.0</td>\n      <td>1670.0</td>\n      <td>1670.0</td>\n      <td>1670.0</td>\n      <td>1670.0</td>\n      <td>1.0</td>\n      <td>1.0</td>\n      <td>1.0</td>\n      <td>1.0</td>\n      <td>0.0</td>\n      <td>0.0</td>\n      <td>0.0</td>\n      <td>0.0</td>\n      <td>11.0</td>\n      <td>11.0</td>\n      <td>11.0</td>\n      <td>11.0</td>\n      <td>271.0</td>\n      <td>271.0</td>\n      <td>271.0</td>\n      <td>271.0</td>\n      <td>1.000000</td>\n      <td>1.000000</td>\n      <td>1.000000</td>\n      <td>1.000000</td>\n      <td>0.0</td>\n      <td>...</td>\n      <td>0.0</td>\n      <td>0.0</td>\n      <td>0.0</td>\n      <td>0.0</td>\n      <td>0.0</td>\n      <td>0.0</td>\n      <td>5.0</td>\n      <td>5.0</td>\n      <td>5.0</td>\n      <td>5.0</td>\n      <td>5.0</td>\n      <td>5.0</td>\n      <td>5.0</td>\n      <td>5.0</td>\n      <td>15.0</td>\n      <td>15.0</td>\n      <td>15.0</td>\n      <td>15.0</td>\n      <td>15.0</td>\n      <td>15.0</td>\n      <td>15.0</td>\n      <td>15.0</td>\n      <td>15.0</td>\n      <td>15.0</td>\n      <td>15.0</td>\n      <td>15.0</td>\n      <td>3.0</td>\n      <td>1.0</td>\n      <td>1.0</td>\n      <td>-0.015731</td>\n      <td>0.991582</td>\n      <td>23</td>\n      <td>2</td>\n      <td>2016</td>\n      <td>22</td>\n      <td>54</td>\n      <td>8</td>\n      <td>1</td>\n      <td>1</td>\n      <td>0</td>\n    </tr>\n    <tr>\n      <th>8</th>\n      <td>3677776</td>\n      <td>1062877.0</td>\n      <td>7.61</td>\n      <td>0.27</td>\n      <td>7.34</td>\n      <td>0.028378</td>\n      <td>-0.010782</td>\n      <td>0.019522</td>\n      <td>0.016419</td>\n      <td>0.104499</td>\n      <td>0.051576</td>\n      <td>0.012166</td>\n      <td>-0.027752</td>\n      <td>-0.046779</td>\n      <td>0.0</td>\n      <td>2722.0</td>\n      <td>2722.0</td>\n      <td>2722.0</td>\n      <td>2722.0</td>\n      <td>1.0</td>\n      <td>1.0</td>\n      <td>1.0</td>\n      <td>1.0</td>\n      <td>0.0</td>\n      <td>0.0</td>\n      <td>0.0</td>\n      <td>0.0</td>\n      <td>20.0</td>\n      <td>20.0</td>\n      <td>20.0</td>\n      <td>20.0</td>\n      <td>448.0</td>\n      <td>448.0</td>\n      <td>448.0</td>\n      <td>448.0</td>\n      <td>1.000000</td>\n      <td>1.000000</td>\n      <td>1.000000</td>\n      <td>1.000000</td>\n      <td>0.0</td>\n      <td>...</td>\n      <td>1.0</td>\n      <td>1.0</td>\n      <td>1.0</td>\n      <td>1.0</td>\n      <td>1.0</td>\n      <td>1.0</td>\n      <td>1.0</td>\n      <td>1.0</td>\n      <td>1.0</td>\n      <td>1.0</td>\n      <td>1.0</td>\n      <td>1.0</td>\n      <td>1.0</td>\n      <td>1.0</td>\n      <td>4.0</td>\n      <td>4.0</td>\n      <td>4.0</td>\n      <td>4.0</td>\n      <td>4.0</td>\n      <td>4.0</td>\n      <td>4.0</td>\n      <td>4.0</td>\n      <td>5.0</td>\n      <td>5.0</td>\n      <td>5.0</td>\n      <td>5.0</td>\n      <td>3.0</td>\n      <td>1.0</td>\n      <td>1.0</td>\n      <td>-0.005422</td>\n      <td>1.036785</td>\n      <td>24</td>\n      <td>2</td>\n      <td>2016</td>\n      <td>22</td>\n      <td>55</td>\n      <td>8</td>\n      <td>2</td>\n      <td>1</td>\n      <td>0</td>\n    </tr>\n    <tr>\n      <th>9</th>\n      <td>3678009</td>\n      <td>2027882.0</td>\n      <td>71.45</td>\n      <td>-0.71</td>\n      <td>72.16</td>\n      <td>-0.017869</td>\n      <td>-0.009200</td>\n      <td>-0.022481</td>\n      <td>0.002366</td>\n      <td>0.101413</td>\n      <td>0.157350</td>\n      <td>0.035409</td>\n      <td>0.096013</td>\n      <td>-0.048100</td>\n      <td>1.0</td>\n      <td>10374.0</td>\n      <td>10374.0</td>\n      <td>10374.0</td>\n      <td>10374.0</td>\n      <td>1.0</td>\n      <td>1.0</td>\n      <td>1.0</td>\n      <td>1.0</td>\n      <td>0.0</td>\n      <td>0.0</td>\n      <td>0.0</td>\n      <td>0.0</td>\n      <td>57.0</td>\n      <td>57.0</td>\n      <td>57.0</td>\n      <td>57.0</td>\n      <td>1712.0</td>\n      <td>1712.0</td>\n      <td>1712.0</td>\n      <td>1712.0</td>\n      <td>1.000000</td>\n      <td>1.000000</td>\n      <td>1.000000</td>\n      <td>1.000000</td>\n      <td>1.0</td>\n      <td>...</td>\n      <td>0.0</td>\n      <td>0.0</td>\n      <td>0.0</td>\n      <td>0.0</td>\n      <td>0.0</td>\n      <td>0.0</td>\n      <td>1.0</td>\n      <td>1.0</td>\n      <td>1.0</td>\n      <td>1.0</td>\n      <td>1.0</td>\n      <td>1.0</td>\n      <td>1.0</td>\n      <td>1.0</td>\n      <td>3.0</td>\n      <td>3.0</td>\n      <td>3.0</td>\n      <td>3.0</td>\n      <td>3.0</td>\n      <td>3.0</td>\n      <td>3.0</td>\n      <td>3.0</td>\n      <td>3.0</td>\n      <td>3.0</td>\n      <td>3.0</td>\n      <td>3.0</td>\n      <td>3.0</td>\n      <td>1.0</td>\n      <td>1.0</td>\n      <td>0.053617</td>\n      <td>0.990161</td>\n      <td>24</td>\n      <td>2</td>\n      <td>2016</td>\n      <td>22</td>\n      <td>55</td>\n      <td>8</td>\n      <td>2</td>\n      <td>1</td>\n      <td>0</td>\n    </tr>\n  </tbody>\n</table>\n</div>"
          },
          "metadata": {}
        }
      ]
    },
    {
      "metadata": {
        "trusted": true,
        "_uuid": "1437562b134fc19664fbba1b0642b4cc90d3aaba"
      },
      "cell_type": "code",
      "source": "X_train.corr()['returnsOpenNextMktres10'].sort_values().head(20)",
      "execution_count": 33,
      "outputs": [
        {
          "output_type": "execute_result",
          "execution_count": 33,
          "data": {
            "text/plain": "wordCount_min             -0.098476\nsentenceCount_min         -0.096911\nurgency_min               -0.095561\nbodySize_min              -0.091531\nvolumeCounts7D_mean       -0.078218\nvolumeCounts7D_max        -0.078218\nvolumeCounts7D_min        -0.078218\nsentimentNeutral_min      -0.077455\nsentimentWordCount_min    -0.076667\ntime_weekday              -0.073734\nuniverse                  -0.069477\nreturnsClosePrevMktres1   -0.066222\ncompanyCount_min          -0.060332\nreturnsClosePrevRaw1      -0.058518\ncompanyCount_mean         -0.058301\ncompanyCount_max          -0.057269\nclose_to_open             -0.057261\nsentimentPositive_min     -0.056878\nsentenceCount_mean        -0.055063\nwordCount_mean            -0.054212\nName: returnsOpenNextMktres10, dtype: float64"
          },
          "metadata": {}
        }
      ]
    },
    {
      "metadata": {
        "trusted": true,
        "_uuid": "07a88fc50ca5727ed3f299ab2a9ffd4b2ae05e33"
      },
      "cell_type": "markdown",
      "source": "### Using LGBM for Modelling"
    },
    {
      "metadata": {
        "trusted": true,
        "_uuid": "b70209ab5a7928aa810fb6a9efb1b71fd5698e86"
      },
      "cell_type": "code",
      "source": "y_train = X_train['returnsOpenNextMktres10']\ndel X_train['returnsOpenNextMktres10'], X_train['universe']",
      "execution_count": 36,
      "outputs": []
    },
    {
      "metadata": {
        "trusted": true,
        "_uuid": "0d5b1e3030ee1e87c65689f99260f74f63f23fdb"
      },
      "cell_type": "code",
      "source": "import lightgbm as lgb\nimport time\n\n# set model and parameters\nparams = {'learning_rate': 0.02, \n          'boosting': 'gbdt', \n          'objective': 'regression', \n          'seed': 2018}\n\n# split data (for cross validation)\nx1, x2, y1, y2 = train_test_split(X_train, \n                                  y_train, \n                                  test_size=0.25, \n                                  random_state=99)",
      "execution_count": 37,
      "outputs": []
    },
    {
      "metadata": {
        "trusted": true,
        "_uuid": "6929a08a5e902a56e29b8b1fcb49d8f6c7e0fcc2"
      },
      "cell_type": "code",
      "source": "# train data\nt = time.time()\nprint('Fitting Up')\n\n# cross validation\nlgb_model = lgb.train(params, \n                        lgb.Dataset(x1, label=y1), \n                        5000, \n                        lgb.Dataset(x2, label=y2), \n                        verbose_eval=100, \n                        early_stopping_rounds=200)\n\nprint(f'Done, time = {time.time() - t}')",
      "execution_count": 38,
      "outputs": [
        {
          "output_type": "stream",
          "text": "Fitting Up\nTraining until validation scores don't improve for 200 rounds.\n[100]\tvalid_0's l2: 0.00299647\n[200]\tvalid_0's l2: 0.00281826\n[300]\tvalid_0's l2: 0.00278096\n[400]\tvalid_0's l2: 0.00279217\nEarly stopping, best iteration is:\n[262]\tvalid_0's l2: 0.00275734\nDone, time = 0.34725499153137207\n",
          "name": "stdout"
        }
      ]
    },
    {
      "metadata": {
        "_uuid": "3762332a038544f7ed3c9ba5acd5c6fd114b946f"
      },
      "cell_type": "markdown",
      "source": "### Making Predictions\n\nNow the difference between the training and test data would be these two columns,  ``['returnsOpenNextMktres10', 'universe']``. We will be trying to predict ``returnsOpenNextMktres10`` and using that as the ``confidenceValue``."
    },
    {
      "metadata": {
        "trusted": true,
        "_uuid": "a1fb894dd1216d1dbf6e48d15d336a8fd1847067"
      },
      "cell_type": "code",
      "source": "def make_predictions(market_obs_df, news_obs_df):\n    \n    # predict using given model\n    print(market_obs_df.shape)\n    X_test = get_X(market_obs_df, news_obs_df)\n    print(X_test.shape)\n    prediction_values = np.clip(lgb_model.predict(X_test), -1, 1)\n\n    return prediction_values\n\nfor (market_obs_df, news_obs_df, predictions_template_df) in env.get_prediction_days(): # Looping over days from start of 2017 to 2019-07-15\n    \n    print('predictions_template_df shape: ' + str(predictions_template_df.shape))\n    # make predictions\n    predictions_template_df['confidenceValue'] = make_predictions(market_obs_df, news_obs_df)\n    \n    # save predictions\n    env.predict(predictions_template_df)\n",
      "execution_count": null,
      "outputs": []
    },
    {
      "metadata": {
        "_uuid": "f9c3668a134db935e6a7e266a15a47a7292f537e"
      },
      "cell_type": "markdown",
      "source": "### Export Submission"
    },
    {
      "metadata": {
        "trusted": true,
        "_uuid": "02e6a605c9ca804310fbc788b465c226ddfea533"
      },
      "cell_type": "code",
      "source": "env.write_submission_file() # Writes your submission file\nprint('finished!')",
      "execution_count": null,
      "outputs": []
    },
    {
      "metadata": {
        "_uuid": "8d8f34f002aa0dc6efda2caf73a8fd5e2724515b"
      },
      "cell_type": "markdown",
      "source": "### References:\n* [Getting Started - DJ Sterling](https://www.kaggle.com/dster/two-sigma-news-official-getting-started-kernel)\n* [a simple model - Bruno G. do Amaral](https://www.kaggle.com/bguberfain/a-simple-model-using-the-market-data)\n* [LGBM Model - the1owl](https://www.kaggle.com/the1owl/my-two-sigma-cents-only)\n* [Headline Processing - Andrew Gelé](https://www.kaggle.com/ndrewgele/omg-nlp-with-the-djia-and-reddit)"
    }
  ],
  "metadata": {
    "kernelspec": {
      "display_name": "Python 3",
      "language": "python",
      "name": "python3"
    },
    "language_info": {
      "name": "python",
      "version": "3.6.6",
      "mimetype": "text/x-python",
      "codemirror_mode": {
        "name": "ipython",
        "version": 3
      },
      "pygments_lexer": "ipython3",
      "nbconvert_exporter": "python",
      "file_extension": ".py"
    }
  },
  "nbformat": 4,
  "nbformat_minor": 1
}
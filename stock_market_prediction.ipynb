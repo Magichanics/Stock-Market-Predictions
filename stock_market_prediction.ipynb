{
  "cells": [
    {
      "metadata": {
        "trusted": true,
        "_uuid": "d2db4ea9ce6bed60c3ffa0cf5ff09b0d4efbb589"
      },
      "cell_type": "markdown",
      "source": "# Stock Market Prediction - Starter Kernel\n"
    },
    {
      "metadata": {
        "trusted": true,
        "_uuid": "74ac86edc14f5f49372114111d24ba7f9c095d97"
      },
      "cell_type": "code",
      "source": "import numpy as np # linear algebra\nimport pandas as pd # data processing, CSV file I/O (e.g. pd.read_csv)\nimport os\nfrom sklearn.ensemble import RandomForestRegressor\nfrom sklearn.feature_extraction.text import CountVectorizer\nfrom sklearn.tree import DecisionTreeRegressor\nfrom sklearn.linear_model import LogisticRegression\nfrom sklearn.metrics import mean_squared_error # wouldn't recommend since we're not being evaluated on MSE",
      "execution_count": null,
      "outputs": []
    },
    {
      "metadata": {
        "_uuid": "e7033afd72b1b362694154c7955485b171d52c4d"
      },
      "cell_type": "markdown",
      "source": "### Importing Dataframes"
    },
    {
      "metadata": {
        "trusted": true,
        "_uuid": "f5b9954e4a0dac7c2efe89d0bdb14b0d50ae1886"
      },
      "cell_type": "code",
      "source": "from kaggle.competitions import twosigmanews\n# You can only call make_env() once, so don't lose it!\nenv = twosigmanews.make_env()\nprint('Done!')",
      "execution_count": null,
      "outputs": []
    },
    {
      "metadata": {
        "trusted": true,
        "_uuid": "aabe093aa9598bd90bd7bec571df3e8cbdfb8d99"
      },
      "cell_type": "code",
      "source": "(market_train_df, news_train_df) = env.get_training_data()",
      "execution_count": null,
      "outputs": []
    },
    {
      "metadata": {
        "trusted": true,
        "_uuid": "8191b24f88a743876d8554490924d904581aa081"
      },
      "cell_type": "code",
      "source": "# decide the length of the dataset (you can just get a handful if you just need it for testing)\nmarket_train_df = market_train_df.sample(1_000_000)",
      "execution_count": null,
      "outputs": []
    },
    {
      "metadata": {
        "trusted": true,
        "_uuid": "07732b5c4888f5de18aa4c424267715dbed5783f"
      },
      "cell_type": "code",
      "source": "market_train_df.head()",
      "execution_count": null,
      "outputs": []
    },
    {
      "metadata": {
        "trusted": true,
        "_uuid": "997773dbe4987fbec07c28775c4343acda7f9521"
      },
      "cell_type": "code",
      "source": "news_train_df.head()",
      "execution_count": null,
      "outputs": []
    },
    {
      "metadata": {
        "_kg_hide-output": true,
        "trusted": true,
        "_uuid": "f13cb5dfe8d5466de172c6049a0b9b51d5ca5165"
      },
      "cell_type": "code",
      "source": "news_train_df.corr()['relevance'].head(10)",
      "execution_count": null,
      "outputs": []
    },
    {
      "metadata": {
        "trusted": true,
        "_uuid": "e7638d86a98487a8f1f62b6e43c32fcc1a94bb2f"
      },
      "cell_type": "code",
      "source": "market_train_df.corr()['returnsOpenNextMktres10'].head(10)",
      "execution_count": null,
      "outputs": []
    },
    {
      "metadata": {
        "_uuid": "40c1624897798c163daa2f0cdb15e9dbf8c7ba63"
      },
      "cell_type": "markdown",
      "source": "### Text Processing (WIP)"
    },
    {
      "metadata": {
        "trusted": true,
        "_uuid": "3e5984f2f62e60adc9e6561eb8d2e1bc1076224a"
      },
      "cell_type": "code",
      "source": "def get_headline(target, input_df):\n    \n    # get headlines as list\n    headlines_lst = []\n    for row in range(0,len(input_df.index)):\n        headlines_lst.append(input_df.iloc[row])\n        \n    # split headlines to separate words\n    basicvectorizer = CountVectorizer()\n    headlines_vectored = basicvectorizer.fit_transform(headlines_lst)\n    \n    return headlines_vectored\n\ndef headline_modelling(target, headlines_vectored):\n    \n    # get model (logistic regression)\n    headline_model = RandomForestRegressor()\n    headline_model = headline_model.fit(headlines_vectored, target)\n    \n    return headline_model",
      "execution_count": null,
      "outputs": []
    },
    {
      "metadata": {
        "_uuid": "1c8848ede1e5841f094d057de9d8c8e77539c023"
      },
      "cell_type": "markdown",
      "source": "### One Hot Encoding \n\nNote: Will use after processing the string data."
    },
    {
      "metadata": {
        "trusted": true,
        "_uuid": "95874d8b880cd5ff9a3d2caa80a9e16db8d09349"
      },
      "cell_type": "code",
      "source": "def one_hot_encoder(data, nan_as_category=True):\n    original_columns = list(data.columns)\n    categorical_columns = [col for col in data.columns \\\n                           if not pd.api.types.is_numeric_dtype(data[col].dtype)] # ignore error in eclipse\n    for c in categorical_columns:\n        if nan_as_category:\n            data[c].fillna('NaN', inplace = True)\n        values = list(data[c].unique())\n        for v in values:\n            data[str(c) + '_' + str(v)] = (data[c] == v).astype(np.uint8)\n    data.drop(categorical_columns, axis = 1, inplace = True)\n    return data, [c for c in data.columns if c not in original_columns]",
      "execution_count": null,
      "outputs": []
    },
    {
      "metadata": {
        "trusted": true,
        "_uuid": "03fbfc56b0530659ee7007e48394caf5b2f97266"
      },
      "cell_type": "code",
      "source": "# one_hot_encoder(market_train_df)\n# one_hot_encoder(news_train_df)",
      "execution_count": null,
      "outputs": []
    },
    {
      "metadata": {
        "_uuid": "6039d9574ab8f277946dae9bb682f2b8d20c1efe"
      },
      "cell_type": "markdown",
      "source": "### Merging dataframes\n\nWill use later when working on both dataframes."
    },
    {
      "metadata": {
        "trusted": true,
        "_uuid": "07a88fc50ca5727ed3f299ab2a9ffd4b2ae05e33"
      },
      "cell_type": "markdown",
      "source": "### Using Sklearn for Modelling"
    },
    {
      "metadata": {
        "trusted": true,
        "_uuid": "e2c866081e0fc66578711db888176ee183f26ec3"
      },
      "cell_type": "code",
      "source": "# prepare x dataframes for modelling/prediction\ndef convert_to_X(df):\n    return df[[f for f in df.columns if df[f].dtype in ['int','float'] and f != 'returnsOpenNextMktres10' \\\n                                                                        and f != 'universe']].fillna(0)",
      "execution_count": null,
      "outputs": []
    },
    {
      "metadata": {
        "trusted": true,
        "_uuid": "b70209ab5a7928aa810fb6a9efb1b71fd5698e86"
      },
      "cell_type": "code",
      "source": "y_train = market_train_df['returnsOpenNextMktres10']\nX_train = convert_to_X(market_train_df)",
      "execution_count": null,
      "outputs": []
    },
    {
      "metadata": {
        "trusted": true,
        "_uuid": "0d5b1e3030ee1e87c65689f99260f74f63f23fdb"
      },
      "cell_type": "code",
      "source": "%%time\n\n# set model and parameters\nmodel = DecisionTreeRegressor()\n\n# train and get MSE.\nmodel.fit(X_train, y_train)\ny_train_pred = model.predict(X_train)",
      "execution_count": null,
      "outputs": []
    },
    {
      "metadata": {
        "trusted": true,
        "_uuid": "8b22673a56f97ab146e5ae151ea216faeb658d46"
      },
      "cell_type": "code",
      "source": "print(np.sqrt(mean_squared_error(y_train,y_train_pred)))",
      "execution_count": null,
      "outputs": []
    },
    {
      "metadata": {
        "trusted": true,
        "_uuid": "1b4a8b846fc3bae2ab41dd9135f6c928759bbc85"
      },
      "cell_type": "code",
      "source": "def set_ceiling(item):\n    if item < -1:\n        return -1\n    elif item > 1:\n        return 1\n    elif item == None:\n        return 0\n    else:\n        return item\n\ndef make_predictions(market_obs_df, news_obs_df):\n    \n    # predict using given model\n    X_test = convert_to_X(market_obs_df)\n    prediction_values = model.predict(X_test).tolist()\n    prediction_values = [set_ceiling(n) for n in prediction_values]\n\n    return prediction_values",
      "execution_count": null,
      "outputs": []
    },
    {
      "metadata": {
        "_uuid": "3762332a038544f7ed3c9ba5acd5c6fd114b946f"
      },
      "cell_type": "markdown",
      "source": "### Making Predictions\n\nNow the difference between the training and test data would be these two columns,  ``['returnsOpenNextMktres10', 'universe']``. We will be trying to predict ``returnsOpenNextMktres10`` and using that as the ``confidenceValue``."
    },
    {
      "metadata": {
        "trusted": true,
        "_uuid": "a1fb894dd1216d1dbf6e48d15d336a8fd1847067"
      },
      "cell_type": "code",
      "source": "for (market_obs_df, news_obs_df, predictions_template_df) in env.get_prediction_days(): # Looping over days from start of 2017 to 2019-07-15\n    \n    # make predictions\n    predictions_template_df['confidenceValue'] = make_predictions(market_obs_df, news_obs_df)\n    \n    # save predictions\n    env.predict(predictions_template_df)\n",
      "execution_count": null,
      "outputs": []
    },
    {
      "metadata": {
        "_uuid": "f9c3668a134db935e6a7e266a15a47a7292f537e"
      },
      "cell_type": "markdown",
      "source": "### Export Submission"
    },
    {
      "metadata": {
        "trusted": true,
        "_uuid": "02e6a605c9ca804310fbc788b465c226ddfea533"
      },
      "cell_type": "code",
      "source": "env.write_submission_file() # Writes your submission file",
      "execution_count": null,
      "outputs": []
    },
    {
      "metadata": {
        "_cell_guid": "79c7e3d0-c299-4dcb-8224-4455121ee9b0",
        "collapsed": true,
        "_uuid": "d629ff2d2480ee46fbb7e2d37f6b5fab8052498a",
        "trusted": false
      },
      "cell_type": "markdown",
      "source": "### Sources:\n* [Getting Started - DJ Sterling](https://www.kaggle.com/dster/two-sigma-news-official-getting-started-kernel)\n* [Bare bones script - William Cukierski](https://www.kaggle.com/wcukierski/bare-bones-script-loop-with-comments)\n* [Extra data - aaron7sun](https://www.kaggle.com/aaron7sun/stocknews)\n* [Text Preprocessing - Andrew Gelé](https://www.kaggle.com/ndrewgele/omg-nlp-with-the-djia-and-reddit)\n* [fake news - SamLloyd](https://www.kaggle.com/sjdlloyd/it-s-fake-news-this-is-top-of-the-leaderboard)"
    }
  ],
  "metadata": {
    "kernelspec": {
      "display_name": "Python 3",
      "language": "python",
      "name": "python3"
    },
    "language_info": {
      "name": "python",
      "version": "3.6.6",
      "mimetype": "text/x-python",
      "codemirror_mode": {
        "name": "ipython",
        "version": 3
      },
      "pygments_lexer": "ipython3",
      "nbconvert_exporter": "python",
      "file_extension": ".py"
    }
  },
  "nbformat": 4,
  "nbformat_minor": 1
}
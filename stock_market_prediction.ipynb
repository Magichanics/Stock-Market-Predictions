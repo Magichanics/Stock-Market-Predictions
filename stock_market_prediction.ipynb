{
  "cells": [
    {
      "metadata": {
        "trusted": true,
        "_uuid": "d2db4ea9ce6bed60c3ffa0cf5ff09b0d4efbb589"
      },
      "cell_type": "code",
      "source": "import numpy as np # linear algebra\nimport pandas as pd # data processing, CSV file I/O (e.g. pd.read_csv)\nimport os\n",
      "execution_count": 1,
      "outputs": []
    },
    {
      "metadata": {
        "trusted": true,
        "_uuid": "fa8c1124430627ecec256a06b90f2832cb8eb584"
      },
      "cell_type": "code",
      "source": "# def train_my_model(market_train_df, news_train_df):\n#     pass\n# def make_my_predictions(market_obs_df,news_obs_df,predictions_template_df):\n#     pass\n\n# from kaggle.competitions import twosigmanews\n# env = twosigmanews.make_env()\n\n# (market_train_df, news_train_df) = env.get_training_data()\n# train_my_model(market_train_df, news_train_df)\n\n# for (market_obs_df, news_obs_df, predictions_template_df) in env.get_prediction_days():\n#   predictions_df = make_my_predictions(market_obs_df, news_obs_df, predictions_template_df)\n#   env.predict(predictions_df)\n\n# env.write_submission_file()",
      "execution_count": null,
      "outputs": []
    },
    {
      "metadata": {
        "_uuid": "e7033afd72b1b362694154c7955485b171d52c4d"
      },
      "cell_type": "markdown",
      "source": "### Importing Dataframes"
    },
    {
      "metadata": {
        "trusted": true,
        "_uuid": "f5b9954e4a0dac7c2efe89d0bdb14b0d50ae1886"
      },
      "cell_type": "code",
      "source": "from kaggle.competitions import twosigmanews\n# You can only call make_env() once, so don't lose it!\nenv = twosigmanews.make_env()\nprint('Done!')",
      "execution_count": null,
      "outputs": []
    },
    {
      "metadata": {
        "trusted": true,
        "_uuid": "aabe093aa9598bd90bd7bec571df3e8cbdfb8d99"
      },
      "cell_type": "code",
      "source": "(market_train_df, news_train_df) = env.get_training_data()",
      "execution_count": null,
      "outputs": []
    },
    {
      "metadata": {
        "trusted": true,
        "_uuid": "07732b5c4888f5de18aa4c424267715dbed5783f"
      },
      "cell_type": "code",
      "source": "market_train_df.head()",
      "execution_count": null,
      "outputs": []
    },
    {
      "metadata": {
        "trusted": true,
        "_uuid": "997773dbe4987fbec07c28775c4343acda7f9521"
      },
      "cell_type": "code",
      "source": "news_train_df.head()",
      "execution_count": null,
      "outputs": []
    },
    {
      "metadata": {
        "trusted": true,
        "_uuid": "d4a744891a32076cef8b4226df20d776e49f4c10"
      },
      "cell_type": "code",
      "source": "",
      "execution_count": null,
      "outputs": []
    },
    {
      "metadata": {
        "_uuid": "fd2de852b333c043944e8573698479fcc84ccb38"
      },
      "cell_type": "markdown",
      "source": "### Data Cleaning"
    },
    {
      "metadata": {
        "_uuid": "40c1624897798c163daa2f0cdb15e9dbf8c7ba63"
      },
      "cell_type": "markdown",
      "source": "### Text Processing"
    },
    {
      "metadata": {
        "_uuid": "1c8848ede1e5841f094d057de9d8c8e77539c023"
      },
      "cell_type": "markdown",
      "source": "### One Hot Encoding"
    },
    {
      "metadata": {
        "trusted": true,
        "_uuid": "95874d8b880cd5ff9a3d2caa80a9e16db8d09349"
      },
      "cell_type": "code",
      "source": "def one_hot_encoder(data, nan_as_category=True):\n    original_columns = list(data.columns)\n    categorical_columns = [col for col in data.columns \\\n                           if not pd.api.types.is_numeric_dtype(data[col].dtype)] # ignore error in eclipse\n    for c in categorical_columns:\n        if nan_as_category:\n            data[c].fillna('NaN', inplace = True)\n        values = list(data[c].unique())\n        for v in values:\n            data[str(c) + '_' + str(v)] = (data[c] == v).astype(np.uint8)\n    data.drop(categorical_columns, axis = 1, inplace = True)\n    return data, [c for c in data.columns if c not in original_columns]",
      "execution_count": null,
      "outputs": []
    },
    {
      "metadata": {
        "trusted": true,
        "_uuid": "03fbfc56b0530659ee7007e48394caf5b2f97266"
      },
      "cell_type": "code",
      "source": "one_hot_encoder(market_train_df)\none_hot_encoder(news_train_df)",
      "execution_count": null,
      "outputs": []
    },
    {
      "metadata": {
        "trusted": true,
        "_uuid": "07a88fc50ca5727ed3f299ab2a9ffd4b2ae05e33"
      },
      "cell_type": "markdown",
      "source": "### Using sklearn for modelling"
    },
    {
      "metadata": {
        "trusted": true,
        "_uuid": "b70209ab5a7928aa810fb6a9efb1b71fd5698e86"
      },
      "cell_type": "code",
      "source": "y_train = market_train_df['returnsOpenNextMktres10']\nX_train = market_train_df[f for f in market_train_df.columns if f != 'returnsOpenNextMktres10']",
      "execution_count": null,
      "outputs": []
    },
    {
      "metadata": {
        "trusted": true,
        "_uuid": "0d5b1e3030ee1e87c65689f99260f74f63f23fdb"
      },
      "cell_type": "code",
      "source": "%%time\n\n# set parameters (from NYC Taxi Fare)\nmodel = RandomForestRegressor(n_estimators=25, \n                              max_features=20, \n                              max_depth=25, \n                              min_samples_split=3,\n                              min_samples_leaf=2, \n                              random_state=0)\n\n# train and get MSE.\nmodel.fit(X_train, y_train)\ntrain_pred = model.predict(X_train)\nprint(np.sqrt(mean_squared_error(y_train,train_pred)))",
      "execution_count": null,
      "outputs": []
    },
    {
      "metadata": {
        "_uuid": "3762332a038544f7ed3c9ba5acd5c6fd114b946f"
      },
      "cell_type": "markdown",
      "source": "### Making Predictions"
    },
    {
      "metadata": {
        "trusted": true,
        "_uuid": "a1fb894dd1216d1dbf6e48d15d336a8fd1847067"
      },
      "cell_type": "code",
      "source": "for (market_obs_df, news_obs_df, predictions_template_df) in env.get_prediction_days(): # Looping over days from start of 2017 to 2019-07-15\n# market_obs_df always have time values of 22:00 UTC. This is a snapshot of the trading day.\n# news_obs_df contains news from the previous market day up until the current day 22:00 UTC.\n  \n    curr_df = market_obs_df.iloc[0] # You are here in time\n    predictions_template_df['confidenceValue'] = model.predict(curr_df)\n    env.predict(predictions_template_df) # Saves your predictions for the day\n",
      "execution_count": null,
      "outputs": []
    },
    {
      "metadata": {
        "_uuid": "f9c3668a134db935e6a7e266a15a47a7292f537e"
      },
      "cell_type": "markdown",
      "source": "### Export Submission"
    },
    {
      "metadata": {
        "trusted": true,
        "_uuid": "02e6a605c9ca804310fbc788b465c226ddfea533"
      },
      "cell_type": "code",
      "source": "env.write_submission_file() # Writes your submission file",
      "execution_count": null,
      "outputs": []
    },
    {
      "metadata": {
        "_cell_guid": "79c7e3d0-c299-4dcb-8224-4455121ee9b0",
        "collapsed": true,
        "_uuid": "d629ff2d2480ee46fbb7e2d37f6b5fab8052498a",
        "trusted": false
      },
      "cell_type": "markdown",
      "source": "### Sources:\n* [Getting Started - DJ Sterling](https://www.kaggle.com/dster/two-sigma-news-official-getting-started-kernel)\n* [Bare bones script - William Cukierski](https://www.kaggle.com/wcukierski/bare-bones-script-loop-with-comments)\n* [Extra data - aaron7sun](https://www.kaggle.com/aaron7sun/stocknews)\n* [Text Preprocessing - Andrew Gelé](https://www.kaggle.com/ndrewgele/omg-nlp-with-the-djia-and-reddit)\n* [fake news - SamLloyd](https://www.kaggle.com/sjdlloyd/it-s-fake-news-this-is-top-of-the-leaderboard)"
    }
  ],
  "metadata": {
    "kernelspec": {
      "display_name": "Python 3",
      "language": "python",
      "name": "python3"
    },
    "language_info": {
      "name": "python",
      "version": "3.6.6",
      "mimetype": "text/x-python",
      "codemirror_mode": {
        "name": "ipython",
        "version": 3
      },
      "pygments_lexer": "ipython3",
      "nbconvert_exporter": "python",
      "file_extension": ".py"
    }
  },
  "nbformat": 4,
  "nbformat_minor": 1
}
{
  "cells": [
    {
      "metadata": {
        "trusted": true,
        "_uuid": "d2db4ea9ce6bed60c3ffa0cf5ff09b0d4efbb589"
      },
      "cell_type": "markdown",
      "source": "# Stock Market Prediction - Starter Kernel\n### Created by Magichanics\n"
    },
    {
      "metadata": {
        "trusted": true,
        "_uuid": "74ac86edc14f5f49372114111d24ba7f9c095d97"
      },
      "cell_type": "code",
      "source": "import numpy as np # linear algebra\nimport pandas as pd # data processing, CSV file I/O (e.g. pd.read_csv)\nimport os\nfrom itertools import chain\nfrom sklearn.feature_extraction.text import CountVectorizer\nfrom sklearn.metrics import mean_squared_error # wouldn't recommend since we're not being evaluated on MSE\nfrom pandas.tseries.holiday import USFederalHolidayCalendar\nfrom sklearn.preprocessing import LabelEncoder\nfrom sklearn.model_selection import train_test_split\nfrom datetime import datetime\nimport gc",
      "execution_count": 3,
      "outputs": []
    },
    {
      "metadata": {
        "_uuid": "e7033afd72b1b362694154c7955485b171d52c4d"
      },
      "cell_type": "markdown",
      "source": "### Importing Dataframes"
    },
    {
      "metadata": {
        "trusted": true,
        "_uuid": "f5b9954e4a0dac7c2efe89d0bdb14b0d50ae1886",
        "scrolled": true
      },
      "cell_type": "code",
      "source": "from kaggle.competitions import twosigmanews\n# You can only call make_env() once, so don't lose it!\nenv = twosigmanews.make_env()\nprint('Done!')",
      "execution_count": 4,
      "outputs": [
        {
          "output_type": "stream",
          "text": "Loading the data... This could take a minute.\nDone!\nDone!\n",
          "name": "stdout"
        }
      ]
    },
    {
      "metadata": {
        "trusted": true,
        "_uuid": "aabe093aa9598bd90bd7bec571df3e8cbdfb8d99"
      },
      "cell_type": "code",
      "source": "(market_train_df, news_train_df) = env.get_training_data()",
      "execution_count": 9,
      "outputs": []
    },
    {
      "metadata": {
        "trusted": true,
        "_uuid": "8191b24f88a743876d8554490924d904581aa081"
      },
      "cell_type": "code",
      "source": "# decide the length of the dataset\n# note if sampling, len(news_train_df) > len(market_train_df)\nmarket_train_df = market_train_df.tail(100_000)\nnews_train_df = news_train_df.tail(300_000)",
      "execution_count": 10,
      "outputs": []
    },
    {
      "metadata": {
        "trusted": true,
        "_uuid": "07732b5c4888f5de18aa4c424267715dbed5783f"
      },
      "cell_type": "code",
      "source": "market_train_df.head()",
      "execution_count": 11,
      "outputs": [
        {
          "output_type": "execute_result",
          "execution_count": 11,
          "data": {
            "text/plain": "                             time   ...    universe\n3972956 2016-10-13 22:00:00+00:00   ...         0.0\n3972957 2016-10-13 22:00:00+00:00   ...         0.0\n3972958 2016-10-13 22:00:00+00:00   ...         1.0\n3972959 2016-10-13 22:00:00+00:00   ...         1.0\n3972960 2016-10-13 22:00:00+00:00   ...         0.0\n\n[5 rows x 16 columns]",
            "text/html": "<div>\n<style scoped>\n    .dataframe tbody tr th:only-of-type {\n        vertical-align: middle;\n    }\n\n    .dataframe tbody tr th {\n        vertical-align: top;\n    }\n\n    .dataframe thead th {\n        text-align: right;\n    }\n</style>\n<table border=\"1\" class=\"dataframe\">\n  <thead>\n    <tr style=\"text-align: right;\">\n      <th></th>\n      <th>time</th>\n      <th>assetCode</th>\n      <th>assetName</th>\n      <th>volume</th>\n      <th>close</th>\n      <th>open</th>\n      <th>returnsClosePrevRaw1</th>\n      <th>returnsOpenPrevRaw1</th>\n      <th>returnsClosePrevMktres1</th>\n      <th>returnsOpenPrevMktres1</th>\n      <th>returnsClosePrevRaw10</th>\n      <th>returnsOpenPrevRaw10</th>\n      <th>returnsClosePrevMktres10</th>\n      <th>returnsOpenPrevMktres10</th>\n      <th>returnsOpenNextMktres10</th>\n      <th>universe</th>\n    </tr>\n  </thead>\n  <tbody>\n    <tr>\n      <th>3972956</th>\n      <td>2016-10-13 22:00:00+00:00</td>\n      <td>LGIH.O</td>\n      <td>LGI Homes Inc</td>\n      <td>365316.0</td>\n      <td>32.18</td>\n      <td>32.25</td>\n      <td>-0.018603</td>\n      <td>-0.015568</td>\n      <td>-0.013309</td>\n      <td>-0.006846</td>\n      <td>-0.127440</td>\n      <td>-0.129555</td>\n      <td>-0.101458</td>\n      <td>-0.065513</td>\n      <td>-0.083783</td>\n      <td>0.0</td>\n    </tr>\n    <tr>\n      <th>3972957</th>\n      <td>2016-10-13 22:00:00+00:00</td>\n      <td>LGND.O</td>\n      <td>Ligand Pharmaceuticals Inc</td>\n      <td>259858.0</td>\n      <td>95.94</td>\n      <td>95.23</td>\n      <td>0.002822</td>\n      <td>-0.033688</td>\n      <td>0.004520</td>\n      <td>-0.034014</td>\n      <td>-0.059504</td>\n      <td>-0.068017</td>\n      <td>-0.092553</td>\n      <td>-0.145017</td>\n      <td>-0.040979</td>\n      <td>0.0</td>\n    </tr>\n    <tr>\n      <th>3972958</th>\n      <td>2016-10-13 22:00:00+00:00</td>\n      <td>LH.N</td>\n      <td>Laboratory Corporation of America Holdings</td>\n      <td>475471.0</td>\n      <td>136.37</td>\n      <td>135.79</td>\n      <td>-0.001099</td>\n      <td>-0.005347</td>\n      <td>0.002006</td>\n      <td>-0.001840</td>\n      <td>0.006718</td>\n      <td>-0.008108</td>\n      <td>0.016626</td>\n      <td>0.011074</td>\n      <td>-0.100974</td>\n      <td>1.0</td>\n    </tr>\n    <tr>\n      <th>3972959</th>\n      <td>2016-10-13 22:00:00+00:00</td>\n      <td>LHO.N</td>\n      <td>LaSalle Hotel Properties</td>\n      <td>939853.0</td>\n      <td>24.55</td>\n      <td>24.54</td>\n      <td>-0.001221</td>\n      <td>0.007803</td>\n      <td>0.002493</td>\n      <td>0.009747</td>\n      <td>0.030214</td>\n      <td>0.030659</td>\n      <td>0.041111</td>\n      <td>0.057821</td>\n      <td>-0.041216</td>\n      <td>1.0</td>\n    </tr>\n    <tr>\n      <th>3972960</th>\n      <td>2016-10-13 22:00:00+00:00</td>\n      <td>LII.N</td>\n      <td>Lennox International Inc</td>\n      <td>263800.0</td>\n      <td>159.07</td>\n      <td>158.46</td>\n      <td>-0.000377</td>\n      <td>-0.006645</td>\n      <td>0.002357</td>\n      <td>-0.003149</td>\n      <td>0.019157</td>\n      <td>0.005712</td>\n      <td>0.029299</td>\n      <td>0.028708</td>\n      <td>-0.090346</td>\n      <td>0.0</td>\n    </tr>\n  </tbody>\n</table>\n</div>"
          },
          "metadata": {}
        }
      ]
    },
    {
      "metadata": {
        "_uuid": "d53b1c40d8f2cc78b5d798d560045fa49179ac34"
      },
      "cell_type": "markdown",
      "source": "Volume is one huge important factor when it comes to predicting stocks."
    },
    {
      "metadata": {
        "trusted": true,
        "_uuid": "ab5caca77863462520d7d4277cd1d9bc0f791256"
      },
      "cell_type": "code",
      "source": "market_train_df.corr()['returnsOpenNextMktres10']",
      "execution_count": 12,
      "outputs": [
        {
          "output_type": "execute_result",
          "execution_count": 12,
          "data": {
            "text/plain": "volume                      0.031921\nclose                      -0.009862\nopen                       -0.009662\nreturnsClosePrevRaw1       -0.001299\nreturnsOpenPrevRaw1         0.004522\nreturnsClosePrevMktres1     0.005542\nreturnsOpenPrevMktres1      0.024243\nreturnsClosePrevRaw10       0.003571\nreturnsOpenPrevRaw10       -0.003730\nreturnsClosePrevMktres10    0.098114\nreturnsOpenPrevMktres10     0.096051\nreturnsOpenNextMktres10     1.000000\nuniverse                    0.060272\nName: returnsOpenNextMktres10, dtype: float64"
          },
          "metadata": {}
        }
      ]
    },
    {
      "metadata": {
        "trusted": true,
        "_uuid": "997773dbe4987fbec07c28775c4343acda7f9521"
      },
      "cell_type": "code",
      "source": "news_train_df.head()",
      "execution_count": 13,
      "outputs": [
        {
          "output_type": "execute_result",
          "execution_count": 13,
          "data": {
            "text/plain": "                             time      ...       volumeCounts7D\n9028750 2016-08-18 19:30:30+00:00      ...                   14\n9028751 2016-08-18 19:32:40+00:00      ...                   11\n9028752 2016-08-18 19:32:40+00:00      ...                   17\n9028753 2016-08-18 19:35:33+00:00      ...                   12\n9028754 2016-08-18 19:35:33+00:00      ...                   20\n\n[5 rows x 35 columns]",
            "text/html": "<div>\n<style scoped>\n    .dataframe tbody tr th:only-of-type {\n        vertical-align: middle;\n    }\n\n    .dataframe tbody tr th {\n        vertical-align: top;\n    }\n\n    .dataframe thead th {\n        text-align: right;\n    }\n</style>\n<table border=\"1\" class=\"dataframe\">\n  <thead>\n    <tr style=\"text-align: right;\">\n      <th></th>\n      <th>time</th>\n      <th>sourceTimestamp</th>\n      <th>firstCreated</th>\n      <th>sourceId</th>\n      <th>headline</th>\n      <th>urgency</th>\n      <th>takeSequence</th>\n      <th>provider</th>\n      <th>subjects</th>\n      <th>audiences</th>\n      <th>bodySize</th>\n      <th>companyCount</th>\n      <th>headlineTag</th>\n      <th>marketCommentary</th>\n      <th>sentenceCount</th>\n      <th>wordCount</th>\n      <th>assetCodes</th>\n      <th>assetName</th>\n      <th>firstMentionSentence</th>\n      <th>relevance</th>\n      <th>sentimentClass</th>\n      <th>sentimentNegative</th>\n      <th>sentimentNeutral</th>\n      <th>sentimentPositive</th>\n      <th>sentimentWordCount</th>\n      <th>noveltyCount12H</th>\n      <th>noveltyCount24H</th>\n      <th>noveltyCount3D</th>\n      <th>noveltyCount5D</th>\n      <th>noveltyCount7D</th>\n      <th>volumeCounts12H</th>\n      <th>volumeCounts24H</th>\n      <th>volumeCounts3D</th>\n      <th>volumeCounts5D</th>\n      <th>volumeCounts7D</th>\n    </tr>\n  </thead>\n  <tbody>\n    <tr>\n      <th>9028750</th>\n      <td>2016-08-18 19:30:30+00:00</td>\n      <td>2016-08-18 19:30:30+00:00</td>\n      <td>2016-08-18 19:30:30+00:00</td>\n      <td>a97c51d615a5b59d</td>\n      <td>DGAP-PVR: Diebold, Inc.: Release according to ...</td>\n      <td>3</td>\n      <td>1</td>\n      <td>EQS</td>\n      <td>{'NEWR', 'EQS', 'COMP', 'TMT', 'INDS', 'TECH',...</td>\n      <td>{'CNRE', 'CNR', 'RCE'}</td>\n      <td>5418</td>\n      <td>1</td>\n      <td></td>\n      <td>False</td>\n      <td>38</td>\n      <td>728</td>\n      <td>{'DBD.N'}</td>\n      <td>Diebold Nixdorf Inc</td>\n      <td>1</td>\n      <td>1.000000</td>\n      <td>0</td>\n      <td>0.165623</td>\n      <td>0.612871</td>\n      <td>0.221506</td>\n      <td>254</td>\n      <td>1</td>\n      <td>1</td>\n      <td>1</td>\n      <td>1</td>\n      <td>2</td>\n      <td>1</td>\n      <td>1</td>\n      <td>6</td>\n      <td>13</td>\n      <td>14</td>\n    </tr>\n    <tr>\n      <th>9028751</th>\n      <td>2016-08-18 19:32:40+00:00</td>\n      <td>2016-08-18 19:32:40+00:00</td>\n      <td>2016-08-18 19:32:40+00:00</td>\n      <td>c615f885535cc1a0</td>\n      <td>T-Mobile, Sprint roll out revamped unlimited d...</td>\n      <td>3</td>\n      <td>1</td>\n      <td>RTRS</td>\n      <td>{'TMT', 'US', 'TCOM', 'RTRS', 'CMPNY', 'AMERS'...</td>\n      <td>{'PCO', 'PCU', 'DNP', 'PSC', 'U', 'RNP', 'NAW'...</td>\n      <td>2754</td>\n      <td>2</td>\n      <td></td>\n      <td>False</td>\n      <td>21</td>\n      <td>493</td>\n      <td>{'S.N', 'S.MX'}</td>\n      <td>Sprint Corp</td>\n      <td>1</td>\n      <td>1.000000</td>\n      <td>1</td>\n      <td>0.174365</td>\n      <td>0.394979</td>\n      <td>0.430657</td>\n      <td>383</td>\n      <td>0</td>\n      <td>0</td>\n      <td>0</td>\n      <td>0</td>\n      <td>0</td>\n      <td>3</td>\n      <td>4</td>\n      <td>9</td>\n      <td>10</td>\n      <td>11</td>\n    </tr>\n    <tr>\n      <th>9028752</th>\n      <td>2016-08-18 19:32:40+00:00</td>\n      <td>2016-08-18 19:32:40+00:00</td>\n      <td>2016-08-18 19:32:40+00:00</td>\n      <td>c615f885535cc1a0</td>\n      <td>T-Mobile, Sprint roll out revamped unlimited d...</td>\n      <td>3</td>\n      <td>1</td>\n      <td>RTRS</td>\n      <td>{'TMT', 'US', 'TCOM', 'RTRS', 'CMPNY', 'AMERS'...</td>\n      <td>{'PCO', 'PCU', 'DNP', 'PSC', 'U', 'RNP', 'NAW'...</td>\n      <td>2754</td>\n      <td>2</td>\n      <td></td>\n      <td>False</td>\n      <td>21</td>\n      <td>493</td>\n      <td>{'TMUS.O', 'TMUS.OQ'}</td>\n      <td>T-Mobile US Inc</td>\n      <td>1</td>\n      <td>1.000000</td>\n      <td>1</td>\n      <td>0.272124</td>\n      <td>0.351084</td>\n      <td>0.376792</td>\n      <td>439</td>\n      <td>0</td>\n      <td>0</td>\n      <td>0</td>\n      <td>0</td>\n      <td>0</td>\n      <td>4</td>\n      <td>4</td>\n      <td>16</td>\n      <td>17</td>\n      <td>17</td>\n    </tr>\n    <tr>\n      <th>9028753</th>\n      <td>2016-08-18 19:35:33+00:00</td>\n      <td>2016-08-18 19:35:33+00:00</td>\n      <td>2016-08-18 19:35:33+00:00</td>\n      <td>f5a82e5d2267afa7</td>\n      <td>CORRECTED-BREAKINGVIEWS-Feds mete out justice ...</td>\n      <td>3</td>\n      <td>2</td>\n      <td>RTRS</td>\n      <td>{'BRV', 'FINS', 'RTRS', 'CLJ', 'PRIV', 'BACT',...</td>\n      <td>{'T', 'PSC', 'U', 'D', 'M', 'NAW', 'E', 'NAT'}</td>\n      <td>4613</td>\n      <td>2</td>\n      <td>CORRECTED</td>\n      <td>False</td>\n      <td>36</td>\n      <td>921</td>\n      <td>{'GEO.N'}</td>\n      <td>Geo Group Inc</td>\n      <td>9</td>\n      <td>0.377964</td>\n      <td>-1</td>\n      <td>0.706255</td>\n      <td>0.205329</td>\n      <td>0.088416</td>\n      <td>94</td>\n      <td>1</td>\n      <td>1</td>\n      <td>1</td>\n      <td>1</td>\n      <td>1</td>\n      <td>12</td>\n      <td>12</td>\n      <td>12</td>\n      <td>12</td>\n      <td>12</td>\n    </tr>\n    <tr>\n      <th>9028754</th>\n      <td>2016-08-18 19:35:33+00:00</td>\n      <td>2016-08-18 19:35:33+00:00</td>\n      <td>2016-08-18 19:35:33+00:00</td>\n      <td>f5a82e5d2267afa7</td>\n      <td>CORRECTED-BREAKINGVIEWS-Feds mete out justice ...</td>\n      <td>3</td>\n      <td>2</td>\n      <td>RTRS</td>\n      <td>{'BRV', 'FINS', 'RTRS', 'CLJ', 'PRIV', 'BACT',...</td>\n      <td>{'T', 'PSC', 'U', 'D', 'M', 'NAW', 'E', 'NAT'}</td>\n      <td>4613</td>\n      <td>2</td>\n      <td>CORRECTED</td>\n      <td>False</td>\n      <td>36</td>\n      <td>921</td>\n      <td>{'CXW.N'}</td>\n      <td>CoreCivic Inc</td>\n      <td>8</td>\n      <td>0.755929</td>\n      <td>-1</td>\n      <td>0.465562</td>\n      <td>0.375727</td>\n      <td>0.158712</td>\n      <td>110</td>\n      <td>1</td>\n      <td>1</td>\n      <td>1</td>\n      <td>1</td>\n      <td>1</td>\n      <td>11</td>\n      <td>11</td>\n      <td>16</td>\n      <td>16</td>\n      <td>20</td>\n    </tr>\n  </tbody>\n</table>\n</div>"
          },
          "metadata": {}
        }
      ]
    },
    {
      "metadata": {
        "_uuid": "c1185cd336552dfbc3972772b6cc1ad908654b43"
      },
      "cell_type": "markdown",
      "source": "### Joining Market & News Data"
    },
    {
      "metadata": {
        "trusted": true,
        "_uuid": "ce1b56bfcb10695990c379ec9c7c44b1b04a1b2a"
      },
      "cell_type": "code",
      "source": "#tempcode\n# decide the length of the dataset\n# note if sampling, len(news_train_df) > len(market_train_df)\n(market_train_df, news_train_df) = env.get_training_data()\nmarket_train_df = market_train_df.tail(100)\nnews_train_df = news_train_df.tail(300)",
      "execution_count": 7,
      "outputs": []
    },
    {
      "metadata": {
        "trusted": true,
        "_uuid": "e2dad49559a057808e6d2559a6fbac4f964bd6d4"
      },
      "cell_type": "code",
      "source": "def join_market_news(market_df, news_df):\n    \n    # ERROR: REDUCES LENGTH OF DATAFRAME HERE\n    print('market_df :' + str(market_df.shape))\n    \n    # Fix asset codes (str -> list)\n    news_df['assetCodes'] = news_df['assetCodes'].str.findall(f\"'([\\w\\./]+)'\")\n\n    # Expand assetCodes\n    assetCodes_expanded = list(chain(*news_df['assetCodes']))\n    assetCodes_index = news_df.index.repeat( news_df['assetCodes'].apply(len) )\n\n    assert len(assetCodes_index) == len(assetCodes_expanded)\n    df_assetCodes = pd.DataFrame({'level_0': assetCodes_index, 'assetCode': assetCodes_expanded})\n    \n    # create dataframe based on groupby\n    news_df_expanded = pd.merge(df_assetCodes, news_df, left_on='level_0', right_index=True, suffixes=(['','_old']))\n    \n    # create dict of values based on columns\n    str_cols = ['time', 'assetCode', 'headline']\n    news_data_dict = {}\n    news_groupby = news_df_expanded.groupby(['time', 'assetCode'])\n    for f in str_cols:\n        news_data_dict[f] = news_groupby[f].apply(lambda x: x)\n        print('finished ' + f)\n    \n    news_df_grouped = pd.DataFrame(news_data_dict)\n    return news_df_grouped\n    \n    \n#     news_df_group = pd.DataFrame({'headlines' : news_groupby['headline'].apply(lambda x: x),\n#                                   'wordCount' : news_groupby['wordCount'].apply(lambda x: x)})\n    \n#     return news_df_grouped\n    \n    \n    X = market_train_df.join(news_df_grouped, on=['time', 'assetCode'])\n    \n    # cleanup time\n    del market_df\n    del news_df\n    gc.collect()\n    \n    print('X shape :' + str(X.shape))\n    \n    return X\n\njoin_market_news(market_train_df, news_train_df)\n\n# headlines                                          wordCount\n# 0     ((2016-12-29 11:30:02+00:00, GPT), [GRAMERCY P...           ((2016-12-29 11:30:02+00:00, GPT), [15])\n# 1     ((2016-12-29 11:30:02+00:00, GPT.N), [GRAMERCY...         ((2016-12-29 11:30:02+00:00, GPT.N), [15])\n# 2     ((2016-12-29 11:30:07+00:00, GPT), [GRAMERCY P...           ((2016-12-29 11:30:07+00:00, GPT), [10])\n# 3     ((2016-12-29 11:30:07+00:00, GPT.N), [GRAMERCY...         ((2016-12-29 11:30:07+00:00, GPT.N), [10])\n# 4     ((2016-12-29 11:30:49+00:00, HYG.TO), [HYDROGE...         ((2016-12-29 11:30:49+00:00, HYG.TO), [9])\n# 5     ((2016-12-29 11:30:49+00:00, HYGS.O), [HYDROGE...         ((2016-12-29 11:30:49+00:00, HYGS.O), [9])\n# 6     ((2016-12-29 11:30:49+00:00, HYGS.OQ), [HYDROG...        ((2016-12-29 11:30:49+00:00, HYGS.OQ), [9])",
      "execution_count": 8,
      "outputs": [
        {
          "output_type": "stream",
          "text": "market_df :(100, 16)\nfinished time\nfinished assetCode\nfinished headline\n",
          "name": "stdout"
        },
        {
          "output_type": "execute_result",
          "execution_count": 8,
          "data": {
            "text/plain": "                         time                        ...                                                                   headline\n0   2016-12-30 16:19:08+00:00                        ...                          BRIEF-Monmouth Real Estate buys new building i...\n1   2016-12-30 16:19:42+00:00                        ...                          BUZZ-Big 2016 healthcare stock losers tally la...\n2   2016-12-30 16:19:42+00:00                        ...                          BUZZ-Big 2016 healthcare stock losers tally la...\n3   2016-12-30 16:19:42+00:00                        ...                          BUZZ-Big 2016 healthcare stock losers tally la...\n4   2016-12-30 16:19:42+00:00                        ...                          BUZZ-Big 2016 healthcare stock losers tally la...\n5   2016-12-30 16:19:42+00:00                        ...                          BUZZ-Big 2016 healthcare stock losers tally la...\n6   2016-12-30 16:19:42+00:00                        ...                          BUZZ-Big 2016 healthcare stock losers tally la...\n7   2016-12-30 16:19:42+00:00                        ...                          BUZZ-Big 2016 healthcare stock losers tally la...\n8   2016-12-30 16:19:42+00:00                        ...                          BUZZ-Big 2016 healthcare stock losers tally la...\n9   2016-12-30 16:24:45+00:00                        ...                          ENTEROMEDICS INC SHARES DOWN 17.3 PCT AT $2.02...\n10  2016-12-30 16:24:45+00:00                        ...                          ENTEROMEDICS INC SHARES DOWN 17.3 PCT AT $2.02...\n11  2016-12-30 16:25:35+00:00                        ...                          BUZZ-Union workers reach agreement, avert stri...\n12  2016-12-30 16:30:00+00:00                        ...                          Global Superstar Lady Gaga to Perform Exclusiv...\n13  2016-12-30 16:30:00+00:00                        ...                          Global Superstar Lady Gaga to Perform Exclusiv...\n14  2016-12-30 16:30:02+00:00                        ...                          REG - HSBC Holdings PLC - Total Voting Rights ...\n15  2016-12-30 16:30:02+00:00                        ...                          REG - HSBC Holdings PLC - Total Voting Rights ...\n16  2016-12-30 16:30:02+00:00                        ...                          REG - HSBC Holdings PLC - Total Voting Rights ...\n17  2016-12-30 16:30:02+00:00                        ...                          REG - HSBC Holdings PLC - Total Voting Rights ...\n18  2016-12-30 16:30:02+00:00                        ...                          REG - HSBC Holdings PLC - Total Voting Rights ...\n19  2016-12-30 16:30:02+00:00                        ...                          REG - HSBC Holdings PLC - Total Voting Rights ...\n20  2016-12-30 16:31:10+00:00                        ...                          SHAREHOLDER ALERT: Pomerantz Law Firm Investig...\n21  2016-12-30 16:32:35+00:00                        ...                          MiMedx Files Lawsuits Against Two Additional F...\n22  2016-12-30 16:32:35+00:00                        ...                          MiMedx Files Lawsuits Against Two Additional F...\n23  2016-12-30 16:32:39+00:00                        ...                          MIMEDX FILES LAWSUITS AGAINST TWO ADDITIONAL F...\n24  2016-12-30 16:32:39+00:00                        ...                          MIMEDX FILES LAWSUITS AGAINST TWO ADDITIONAL F...\n25  2016-12-30 16:32:53+00:00                        ...                          MIMEDX GROUP INC <MDXG.O> - COMPANY HAS FILED ...\n26  2016-12-30 16:32:53+00:00                        ...                          MIMEDX GROUP INC <MDXG.O> - COMPANY HAS FILED ...\n27  2016-12-30 16:33:41+00:00                        ...                          MIMEDX GROUP - ADDITIONALLY, CO HAS TAKEN DISC...\n28  2016-12-30 16:33:41+00:00                        ...                          MIMEDX GROUP - ADDITIONALLY, CO HAS TAKEN DISC...\n29  2016-12-30 16:33:46+00:00                        ...                          MIMEDX GROUP -BEEN NOTIFIED ANOTHER SUPPLIER O...\n..                        ...                        ...                                                                        ...\n499 2016-12-30 21:38:53+00:00                        ...                              FACTBOX-U.S. stock market performance in 2016\n500 2016-12-30 21:38:53+00:00                        ...                              FACTBOX-U.S. stock market performance in 2016\n501 2016-12-30 21:38:53+00:00                        ...                              FACTBOX-U.S. stock market performance in 2016\n502 2016-12-30 21:39:36+00:00                        ...                          U-Haul Offers 30 Days of Free Self-Storage to ...\n503 2016-12-30 21:39:36+00:00                        ...                          U-Haul Offers 30 Days of Free Self-Storage to ...\n504 2016-12-30 21:39:43+00:00                        ...                          EQUITY BANCSHARES INC - SOLD UPTO $25 MLN IN E...\n505 2016-12-30 21:39:43+00:00                        ...                          EQUITY BANCSHARES INC - SOLD UPTO $25 MLN IN E...\n506 2016-12-30 21:40:14+00:00                        ...                          PARKERVISION -ENTERED MARKET ISSUANCE SALES AG...\n507 2016-12-30 21:40:14+00:00                        ...                          PARKERVISION -ENTERED MARKET ISSUANCE SALES AG...\n508 2016-12-30 21:40:21+00:00                        ...                          Agrium to present at 2017 AltaCorp Capital Ins...\n509 2016-12-30 21:40:21+00:00                        ...                          Agrium to present at 2017 AltaCorp Capital Ins...\n510 2016-12-30 21:40:21+00:00                        ...                          Agrium to present at 2017 AltaCorp Capital Ins...\n511 2016-12-30 21:40:21+00:00                        ...                          Agrium to present at 2017 AltaCorp Capital Ins...\n512 2016-12-30 21:40:23+00:00                        ...                          T-MOBILE US INC - UNIT ENTERED INTO A NEW THRE...\n513 2016-12-30 21:40:23+00:00                        ...                          T-MOBILE US INC - UNIT ENTERED INTO A NEW THRE...\n514 2016-12-30 21:41:13+00:00                        ...                          PARKERVISION -AT MARKET ISSUANCE SALES AGREEME...\n515 2016-12-30 21:41:13+00:00                        ...                          PARKERVISION -AT MARKET ISSUANCE SALES AGREEME...\n516 2016-12-30 21:41:16+00:00                        ...                          T-MOBILE US INC - ON DECEMBER 29, 2016, UNIT T...\n517 2016-12-30 21:41:16+00:00                        ...                          T-MOBILE US INC - ON DECEMBER 29, 2016, UNIT T...\n518 2016-12-30 21:54:50+00:00                        ...                          BRIEF-Rewalk Robotics says drew down $8 mln un...\n519 2016-12-30 21:54:50+00:00                        ...                          BRIEF-Rewalk Robotics says drew down $8 mln un...\n520 2016-12-30 21:55:46+00:00                        ...                           DATARAM SHARES DOWN 13.6 PCT IN EXTENDED TRADING\n521 2016-12-30 21:55:46+00:00                        ...                           DATARAM SHARES DOWN 13.6 PCT IN EXTENDED TRADING\n522 2016-12-30 21:56:06+00:00                        ...                          INTREXON - ON DEC 30, CO, THIRD SECURITY EXECU...\n523 2016-12-30 21:56:28+00:00                        ...                          INTREXON CORP - AMENDMENT EXTENDS TERM OF SERV...\n524 2016-12-30 21:57:00+00:00                        ...                          EQUITY ALERT: Rosen Law Firm Announces Investi...\n525 2016-12-30 21:57:00+00:00                        ...                          EQUITY ALERT: Rosen Law Firm Announces Investi...\n526 2016-12-30 21:58:53+00:00                        ...                          PROFESSIONAL DIVERSITY NETWORK INC - FILES FOR...\n527 2016-12-30 21:58:53+00:00                        ...                          PROFESSIONAL DIVERSITY NETWORK INC - FILES FOR...\n528 2016-12-30 22:00:00+00:00                        ...                          JPMorgan China Region Fund, Inc. Board to Subm...\n\n[529 rows x 3 columns]",
            "text/html": "<div>\n<style scoped>\n    .dataframe tbody tr th:only-of-type {\n        vertical-align: middle;\n    }\n\n    .dataframe tbody tr th {\n        vertical-align: top;\n    }\n\n    .dataframe thead th {\n        text-align: right;\n    }\n</style>\n<table border=\"1\" class=\"dataframe\">\n  <thead>\n    <tr style=\"text-align: right;\">\n      <th></th>\n      <th>time</th>\n      <th>assetCode</th>\n      <th>headline</th>\n    </tr>\n  </thead>\n  <tbody>\n    <tr>\n      <th>0</th>\n      <td>2016-12-30 16:19:08+00:00</td>\n      <td>MNR.N</td>\n      <td>BRIEF-Monmouth Real Estate buys new building i...</td>\n    </tr>\n    <tr>\n      <th>1</th>\n      <td>2016-12-30 16:19:42+00:00</td>\n      <td>JNJ.DE</td>\n      <td>BUZZ-Big 2016 healthcare stock losers tally la...</td>\n    </tr>\n    <tr>\n      <th>2</th>\n      <td>2016-12-30 16:19:42+00:00</td>\n      <td>JNJ.N</td>\n      <td>BUZZ-Big 2016 healthcare stock losers tally la...</td>\n    </tr>\n    <tr>\n      <th>3</th>\n      <td>2016-12-30 16:19:42+00:00</td>\n      <td>AGN.N</td>\n      <td>BUZZ-Big 2016 healthcare stock losers tally la...</td>\n    </tr>\n    <tr>\n      <th>4</th>\n      <td>2016-12-30 16:19:42+00:00</td>\n      <td>ENDP.OQ</td>\n      <td>BUZZ-Big 2016 healthcare stock losers tally la...</td>\n    </tr>\n    <tr>\n      <th>5</th>\n      <td>2016-12-30 16:19:42+00:00</td>\n      <td>ENDP.O</td>\n      <td>BUZZ-Big 2016 healthcare stock losers tally la...</td>\n    </tr>\n    <tr>\n      <th>6</th>\n      <td>2016-12-30 16:19:42+00:00</td>\n      <td>MYL.OQ</td>\n      <td>BUZZ-Big 2016 healthcare stock losers tally la...</td>\n    </tr>\n    <tr>\n      <th>7</th>\n      <td>2016-12-30 16:19:42+00:00</td>\n      <td>MYL.O</td>\n      <td>BUZZ-Big 2016 healthcare stock losers tally la...</td>\n    </tr>\n    <tr>\n      <th>8</th>\n      <td>2016-12-30 16:19:42+00:00</td>\n      <td>ABT.N</td>\n      <td>BUZZ-Big 2016 healthcare stock losers tally la...</td>\n    </tr>\n    <tr>\n      <th>9</th>\n      <td>2016-12-30 16:24:45+00:00</td>\n      <td>ETRM.O</td>\n      <td>ENTEROMEDICS INC SHARES DOWN 17.3 PCT AT $2.02...</td>\n    </tr>\n    <tr>\n      <th>10</th>\n      <td>2016-12-30 16:24:45+00:00</td>\n      <td>ETRM.OQ</td>\n      <td>ENTEROMEDICS INC SHARES DOWN 17.3 PCT AT $2.02...</td>\n    </tr>\n    <tr>\n      <th>11</th>\n      <td>2016-12-30 16:25:35+00:00</td>\n      <td>WNR.N</td>\n      <td>BUZZ-Union workers reach agreement, avert stri...</td>\n    </tr>\n    <tr>\n      <th>12</th>\n      <td>2016-12-30 16:30:00+00:00</td>\n      <td>C</td>\n      <td>Global Superstar Lady Gaga to Perform Exclusiv...</td>\n    </tr>\n    <tr>\n      <th>13</th>\n      <td>2016-12-30 16:30:00+00:00</td>\n      <td>C.N</td>\n      <td>Global Superstar Lady Gaga to Perform Exclusiv...</td>\n    </tr>\n    <tr>\n      <th>14</th>\n      <td>2016-12-30 16:30:02+00:00</td>\n      <td>HSBA.DE</td>\n      <td>REG - HSBC Holdings PLC - Total Voting Rights ...</td>\n    </tr>\n    <tr>\n      <th>15</th>\n      <td>2016-12-30 16:30:02+00:00</td>\n      <td>HSBA.F</td>\n      <td>REG - HSBC Holdings PLC - Total Voting Rights ...</td>\n    </tr>\n    <tr>\n      <th>16</th>\n      <td>2016-12-30 16:30:02+00:00</td>\n      <td>HSBC.N</td>\n      <td>REG - HSBC Holdings PLC - Total Voting Rights ...</td>\n    </tr>\n    <tr>\n      <th>17</th>\n      <td>2016-12-30 16:30:02+00:00</td>\n      <td>HBC.PA</td>\n      <td>REG - HSBC Holdings PLC - Total Voting Rights ...</td>\n    </tr>\n    <tr>\n      <th>18</th>\n      <td>2016-12-30 16:30:02+00:00</td>\n      <td>HSBA.L</td>\n      <td>REG - HSBC Holdings PLC - Total Voting Rights ...</td>\n    </tr>\n    <tr>\n      <th>19</th>\n      <td>2016-12-30 16:30:02+00:00</td>\n      <td>0005.HK</td>\n      <td>REG - HSBC Holdings PLC - Total Voting Rights ...</td>\n    </tr>\n    <tr>\n      <th>20</th>\n      <td>2016-12-30 16:31:10+00:00</td>\n      <td>BGC.N</td>\n      <td>SHAREHOLDER ALERT: Pomerantz Law Firm Investig...</td>\n    </tr>\n    <tr>\n      <th>21</th>\n      <td>2016-12-30 16:32:35+00:00</td>\n      <td>MDXG.OQ</td>\n      <td>MiMedx Files Lawsuits Against Two Additional F...</td>\n    </tr>\n    <tr>\n      <th>22</th>\n      <td>2016-12-30 16:32:35+00:00</td>\n      <td>MDXG.O</td>\n      <td>MiMedx Files Lawsuits Against Two Additional F...</td>\n    </tr>\n    <tr>\n      <th>23</th>\n      <td>2016-12-30 16:32:39+00:00</td>\n      <td>MDXG.OQ</td>\n      <td>MIMEDX FILES LAWSUITS AGAINST TWO ADDITIONAL F...</td>\n    </tr>\n    <tr>\n      <th>24</th>\n      <td>2016-12-30 16:32:39+00:00</td>\n      <td>MDXG.O</td>\n      <td>MIMEDX FILES LAWSUITS AGAINST TWO ADDITIONAL F...</td>\n    </tr>\n    <tr>\n      <th>25</th>\n      <td>2016-12-30 16:32:53+00:00</td>\n      <td>MDXG.OQ</td>\n      <td>MIMEDX GROUP INC &lt;MDXG.O&gt; - COMPANY HAS FILED ...</td>\n    </tr>\n    <tr>\n      <th>26</th>\n      <td>2016-12-30 16:32:53+00:00</td>\n      <td>MDXG.O</td>\n      <td>MIMEDX GROUP INC &lt;MDXG.O&gt; - COMPANY HAS FILED ...</td>\n    </tr>\n    <tr>\n      <th>27</th>\n      <td>2016-12-30 16:33:41+00:00</td>\n      <td>MDXG.OQ</td>\n      <td>MIMEDX GROUP - ADDITIONALLY, CO HAS TAKEN DISC...</td>\n    </tr>\n    <tr>\n      <th>28</th>\n      <td>2016-12-30 16:33:41+00:00</td>\n      <td>MDXG.O</td>\n      <td>MIMEDX GROUP - ADDITIONALLY, CO HAS TAKEN DISC...</td>\n    </tr>\n    <tr>\n      <th>29</th>\n      <td>2016-12-30 16:33:46+00:00</td>\n      <td>MDXG.OQ</td>\n      <td>MIMEDX GROUP -BEEN NOTIFIED ANOTHER SUPPLIER O...</td>\n    </tr>\n    <tr>\n      <th>...</th>\n      <td>...</td>\n      <td>...</td>\n      <td>...</td>\n    </tr>\n    <tr>\n      <th>499</th>\n      <td>2016-12-30 21:38:53+00:00</td>\n      <td>AMAT.OQ</td>\n      <td>FACTBOX-U.S. stock market performance in 2016</td>\n    </tr>\n    <tr>\n      <th>500</th>\n      <td>2016-12-30 21:38:53+00:00</td>\n      <td>AMAT.O</td>\n      <td>FACTBOX-U.S. stock market performance in 2016</td>\n    </tr>\n    <tr>\n      <th>501</th>\n      <td>2016-12-30 21:38:53+00:00</td>\n      <td>FCX.N</td>\n      <td>FACTBOX-U.S. stock market performance in 2016</td>\n    </tr>\n    <tr>\n      <th>502</th>\n      <td>2016-12-30 21:39:36+00:00</td>\n      <td>UHAL.O</td>\n      <td>U-Haul Offers 30 Days of Free Self-Storage to ...</td>\n    </tr>\n    <tr>\n      <th>503</th>\n      <td>2016-12-30 21:39:36+00:00</td>\n      <td>UHAL.OQ</td>\n      <td>U-Haul Offers 30 Days of Free Self-Storage to ...</td>\n    </tr>\n    <tr>\n      <th>504</th>\n      <td>2016-12-30 21:39:43+00:00</td>\n      <td>EQBK.O</td>\n      <td>EQUITY BANCSHARES INC - SOLD UPTO $25 MLN IN E...</td>\n    </tr>\n    <tr>\n      <th>505</th>\n      <td>2016-12-30 21:39:43+00:00</td>\n      <td>EQBK.OQ</td>\n      <td>EQUITY BANCSHARES INC - SOLD UPTO $25 MLN IN E...</td>\n    </tr>\n    <tr>\n      <th>506</th>\n      <td>2016-12-30 21:40:14+00:00</td>\n      <td>PRKR.OQ</td>\n      <td>PARKERVISION -ENTERED MARKET ISSUANCE SALES AG...</td>\n    </tr>\n    <tr>\n      <th>507</th>\n      <td>2016-12-30 21:40:14+00:00</td>\n      <td>PRKR.O</td>\n      <td>PARKERVISION -ENTERED MARKET ISSUANCE SALES AG...</td>\n    </tr>\n    <tr>\n      <th>508</th>\n      <td>2016-12-30 21:40:21+00:00</td>\n      <td>AGU.N</td>\n      <td>Agrium to present at 2017 AltaCorp Capital Ins...</td>\n    </tr>\n    <tr>\n      <th>509</th>\n      <td>2016-12-30 21:40:21+00:00</td>\n      <td>AGU.TO</td>\n      <td>Agrium to present at 2017 AltaCorp Capital Ins...</td>\n    </tr>\n    <tr>\n      <th>510</th>\n      <td>2016-12-30 21:40:21+00:00</td>\n      <td>AGU.N</td>\n      <td>Agrium to present at 2017 AltaCorp Capital Ins...</td>\n    </tr>\n    <tr>\n      <th>511</th>\n      <td>2016-12-30 21:40:21+00:00</td>\n      <td>AGU.TO</td>\n      <td>Agrium to present at 2017 AltaCorp Capital Ins...</td>\n    </tr>\n    <tr>\n      <th>512</th>\n      <td>2016-12-30 21:40:23+00:00</td>\n      <td>TMUS.O</td>\n      <td>T-MOBILE US INC - UNIT ENTERED INTO A NEW THRE...</td>\n    </tr>\n    <tr>\n      <th>513</th>\n      <td>2016-12-30 21:40:23+00:00</td>\n      <td>TMUS.OQ</td>\n      <td>T-MOBILE US INC - UNIT ENTERED INTO A NEW THRE...</td>\n    </tr>\n    <tr>\n      <th>514</th>\n      <td>2016-12-30 21:41:13+00:00</td>\n      <td>PRKR.OQ</td>\n      <td>PARKERVISION -AT MARKET ISSUANCE SALES AGREEME...</td>\n    </tr>\n    <tr>\n      <th>515</th>\n      <td>2016-12-30 21:41:13+00:00</td>\n      <td>PRKR.O</td>\n      <td>PARKERVISION -AT MARKET ISSUANCE SALES AGREEME...</td>\n    </tr>\n    <tr>\n      <th>516</th>\n      <td>2016-12-30 21:41:16+00:00</td>\n      <td>TMUS.O</td>\n      <td>T-MOBILE US INC - ON DECEMBER 29, 2016, UNIT T...</td>\n    </tr>\n    <tr>\n      <th>517</th>\n      <td>2016-12-30 21:41:16+00:00</td>\n      <td>TMUS.OQ</td>\n      <td>T-MOBILE US INC - ON DECEMBER 29, 2016, UNIT T...</td>\n    </tr>\n    <tr>\n      <th>518</th>\n      <td>2016-12-30 21:54:50+00:00</td>\n      <td>RWLK.O</td>\n      <td>BRIEF-Rewalk Robotics says drew down $8 mln un...</td>\n    </tr>\n    <tr>\n      <th>519</th>\n      <td>2016-12-30 21:54:50+00:00</td>\n      <td>RWLK.OQ</td>\n      <td>BRIEF-Rewalk Robotics says drew down $8 mln un...</td>\n    </tr>\n    <tr>\n      <th>520</th>\n      <td>2016-12-30 21:55:46+00:00</td>\n      <td>DRAM.O</td>\n      <td>DATARAM SHARES DOWN 13.6 PCT IN EXTENDED TRADING</td>\n    </tr>\n    <tr>\n      <th>521</th>\n      <td>2016-12-30 21:55:46+00:00</td>\n      <td>DRAM.OQ</td>\n      <td>DATARAM SHARES DOWN 13.6 PCT IN EXTENDED TRADING</td>\n    </tr>\n    <tr>\n      <th>522</th>\n      <td>2016-12-30 21:56:06+00:00</td>\n      <td>XON.N</td>\n      <td>INTREXON - ON DEC 30, CO, THIRD SECURITY EXECU...</td>\n    </tr>\n    <tr>\n      <th>523</th>\n      <td>2016-12-30 21:56:28+00:00</td>\n      <td>XON.N</td>\n      <td>INTREXON CORP - AMENDMENT EXTENDS TERM OF SERV...</td>\n    </tr>\n    <tr>\n      <th>524</th>\n      <td>2016-12-30 21:57:00+00:00</td>\n      <td>SGEN.O</td>\n      <td>EQUITY ALERT: Rosen Law Firm Announces Investi...</td>\n    </tr>\n    <tr>\n      <th>525</th>\n      <td>2016-12-30 21:57:00+00:00</td>\n      <td>SGEN.OQ</td>\n      <td>EQUITY ALERT: Rosen Law Firm Announces Investi...</td>\n    </tr>\n    <tr>\n      <th>526</th>\n      <td>2016-12-30 21:58:53+00:00</td>\n      <td>IPDN.O</td>\n      <td>PROFESSIONAL DIVERSITY NETWORK INC - FILES FOR...</td>\n    </tr>\n    <tr>\n      <th>527</th>\n      <td>2016-12-30 21:58:53+00:00</td>\n      <td>IPDN.OQ</td>\n      <td>PROFESSIONAL DIVERSITY NETWORK INC - FILES FOR...</td>\n    </tr>\n    <tr>\n      <th>528</th>\n      <td>2016-12-30 22:00:00+00:00</td>\n      <td>JFC.N</td>\n      <td>JPMorgan China Region Fund, Inc. Board to Subm...</td>\n    </tr>\n  </tbody>\n</table>\n<p>529 rows × 3 columns</p>\n</div>"
          },
          "metadata": {}
        }
      ]
    },
    {
      "metadata": {
        "trusted": true,
        "_uuid": "13b2cc4afbabcc192549c9eb7015d286e20376ad",
        "scrolled": false
      },
      "cell_type": "code",
      "source": "X_train.head()",
      "execution_count": null,
      "outputs": []
    },
    {
      "metadata": {
        "_uuid": "ea2d11216ec83dd96df7e999d4e73a8b6427d636"
      },
      "cell_type": "markdown",
      "source": "### Aggregations"
    },
    {
      "metadata": {
        "trusted": true,
        "_uuid": "6c12d655c50595d0a1a1efad04c4e5d315ad7136"
      },
      "cell_type": "code",
      "source": "def aggregations(df):\n    \n    # get columns\n    lst_of_lst_of_cols = [[f for f in df.columns if 'return' in f and f != 'returnsOpenNextMktres10'],\n                              [f for f in df.columns if 'novelty' in f],\n                              [f for f in df.columns if 'volume' in f],\n                              [f for f in df.columns if 'sentiment' in f]]\n    \n    agg_suffixes = ['aggReturn ', 'aggNovelty ', 'aggVolume ', 'aggSentiment ']\n    \n    for i_cols in range(len(lst_of_lst_of_cols)):\n        \n        # setup map of aggregations\n        agg_dict = {}\n        for col in lst_of_lst_of_cols[i_cols]:\n            agg_dict[col] = ['mean', 'var', 'sum', 'std', 'max', 'min']\n            \n        # preform aggregations\n        df_agg = df.groupby('sourceId').agg(agg_dict)\n        df_agg.columns = pd.Index(['agg_' + e[0] + \"_\" + e[1].lower() for e in df_agg.columns.tolist()])\n        \n        # clean up dataframe and merge\n        df = df.join(df_agg, how = 'left', on = 'sourceId', lsuffix = agg_suffixes[i_cols])\n        del df_agg\n        gc.collect()\n        \n        print('finished ' + agg_suffixes[i_cols])\n        \n    print('New dataframe shape: ' + str(df.shape))\n    return df\n\nX_train = aggregations(X_train)",
      "execution_count": null,
      "outputs": []
    },
    {
      "metadata": {
        "_uuid": "40c1624897798c163daa2f0cdb15e9dbf8c7ba63"
      },
      "cell_type": "markdown",
      "source": "### Text Processing with MultinomialNB (Headlines)"
    },
    {
      "metadata": {
        "trusted": true,
        "_uuid": "3e5984f2f62e60adc9e6561eb8d2e1bc1076224a"
      },
      "cell_type": "code",
      "source": "def get_headline(headlines_df):\n    \n    # get headlines as list\n    headlines_lst = []\n    for row in range(0,len(headlines_df.index)):\n        headlines_lst.append(headlines_df.iloc[row])\n\n    # split headlines to separate words\n    basicvectorizer = CountVectorizer()\n    headlines_vectorized = basicvectorizer.fit_transform(headlines_lst)\n    \n    print(headlines_vectorized.shape)\n    return headlines_vectorized, basicvectorizer\n\ndef headline_mapping(target, headlines_vectored, headline_vectorizer):\n    \n    # round target values if using logistic regression\n    target = round(target,0)\n    \n    # get model (testing with model that isn't )\n    from sklearn.naive_bayes import MultinomialNB\n    headline_model = MultinomialNB()\n    headline_model = headline_model.fit(headlines_vectored, target)\n    \n    # get coefficients\n    basicwords = headline_vectorizer.get_feature_names()\n    basiccoeffs = headline_model.coef_.tolist()[0]\n    coeff_df = pd.DataFrame({'Word' : basicwords, \n                            'Coefficient' : basiccoeffs})\n    \n    # convert dataframe to dictionary of coefficients\n    coefficient_dict = dict(zip(coeff_df.Word, coeff_df.Coefficient))\n\n    return coefficient_dict, coeff_df['Coefficient'].mean()\n\ndef get_coeff_col(headlines_df, coeff_dict, coeff_default):\n    \n    def get_coeff(word_lst):\n        \n        # iter through every word\n        coeff_sum = 0\n        for word in word_lst:\n            if word in coeff_dict:\n                coeff_sum += coeff_dict[word]\n            else:\n                coeff_sum += coeff_default\n        \n        # get average coefficient\n        return coeff_sum / len(word_lst)\n        \n    basicvectorizer = CountVectorizer()\n    \n    # loop through every item\n    headlines_coeff_lst = []\n    for row in range(0,len(headlines_df.index)):\n        headlines_coeff_lst.append(get_coeff(str(headlines_df.iloc[row]).split(' ')))\n    \n    return pd.Series(headlines_coeff_lst)\n\ncoefficient_dict, coefficient_default = headline_mapping(X_train['returnsOpenNextMktres10'],\n                                            *get_headline(X_train['headline']))\n\nX_train['headline_coeff_mean'] = get_coeff_col(X_train['headline'], coefficient_dict, coefficient_default)",
      "execution_count": null,
      "outputs": []
    },
    {
      "metadata": {
        "trusted": true,
        "_uuid": "dc940f982e945d6e76161896290e004ee6850486"
      },
      "cell_type": "code",
      "source": "X_train['headline_coeff_mean'].head()",
      "execution_count": null,
      "outputs": []
    },
    {
      "metadata": {
        "_uuid": "957f29e020695f32628882848eecdf392aa9e9e0"
      },
      "cell_type": "markdown",
      "source": "### Merge Dataframes"
    },
    {
      "metadata": {
        "_uuid": "b6bc63a91be4bd007fb95c728aadd14a870358ce"
      },
      "cell_type": "markdown",
      "source": "### Get Time Features"
    },
    {
      "metadata": {
        "trusted": true,
        "_uuid": "83c73101057e4aa8c72784ab3fb3c3b497677fc1"
      },
      "cell_type": "code",
      "source": "# ripped from my previous kernel, NYC Taxi Fare\n\n# first get dates\ndef split_time(df):\n    \n    # convert to string (will find a more efficient way to do this without converting to string)\n    df['time'] = df['time'].dt.strftime('%Y-%m-%d %H:%M:%S')\n    \n    # split date_time into categories\n    df['time_day'] = df['time'].str.slice(8,10)\n    df['time_month'] = df['time'].str.slice(5,7)\n    df['time_year'] = df['time'].str.slice(0,4)\n    df['time_hour'] = df['time'].str.slice(11,13)\n    \n    # source: https://www.kaggle.com/nicapotato/taxi-rides-time-analysis-and-oof-lgbm\n    df['temp_time'] = df['time'].str.replace(\" UTC\", \"\")\n    df['temp_time'] = pd.to_datetime(df['temp_time'], format='%Y-%m-%d %H:%M:%S')\n    \n    df['time_day_of_year'] = df.temp_time.dt.dayofyear\n    df['time_week_of_year'] = df.temp_time.dt.weekofyear\n    df[\"time_weekday\"] = df.temp_time.dt.weekday\n    df[\"time_quarter\"] = df.temp_time.dt.quarter\n    \n    del df['temp_time']\n    gc.collect()\n    \n    # convert to non-object columns\n    time_feats = ['time_day', 'time_month', 'time_year', 'time_hour']\n    df[time_feats] = df[time_feats].apply(pd.to_numeric)\n    \n    # determine whether the day is set on a holiday\n    cal = USFederalHolidayCalendar()\n    holidays = cal.holidays(start='2007-01-01', end='2018-09-27').to_pydatetime()\n    df['on_holiday'] = df['time'].str.slice(0,10).apply(lambda x: 1 if x in holidays else 0)\n    \n    # note to self: encode time later on\n    \n    return df\n\nX_train = split_time(X_train)",
      "execution_count": null,
      "outputs": []
    },
    {
      "metadata": {
        "trusted": true,
        "_uuid": "6f855dca36dec6cd621f032991abc7beb711022e"
      },
      "cell_type": "code",
      "source": "def get_misc_features(X_df):\n    \n    # Adding daily difference\n    new_col = X_df[\"close\"] - X_df[\"open\"]\n    X_df.insert(loc=6, column=\"daily_diff\", value=new_col)\n    X_df['close_to_open'] =  np.abs(X_df['close'] / X_df['open'])",
      "execution_count": null,
      "outputs": []
    },
    {
      "metadata": {
        "_uuid": "b3c97e050f19db860fa531455d45aabea3ec9322"
      },
      "cell_type": "markdown",
      "source": "### Label Encoding"
    },
    {
      "metadata": {
        "trusted": true,
        "_uuid": "8e08ff349608e1ee591566ccdbfcaf78c0180661"
      },
      "cell_type": "code",
      "source": "def group_delete(df, del_features):\n    for f in del_features:\n        del df[f]\n\ndef encoding(df, categorical_feats):\n    df_encoded = pd.get_dummies(df[categorical_feats])\n    df.join(df_encoded, how = 'right')\n    group_delete(df, categorical_feats)\n    print('new shape: ' + str(df.shape))\n    return df\n\ngroup_delete(X_train, ['time', 'sourceId', 'headline', 'assetCodes'])\nX_train = encoding(X_train, [f for f in X_train.columns if X_train[f].dtype == 'object'])",
      "execution_count": null,
      "outputs": []
    },
    {
      "metadata": {
        "_uuid": "3cc55c845df528961c590be653077ad6418586e2"
      },
      "cell_type": "markdown",
      "source": "### Cleaning Data"
    },
    {
      "metadata": {
        "trusted": true,
        "_uuid": "a68828c7def0ec9db579d76c280fb433218acf8b"
      },
      "cell_type": "code",
      "source": "# will use a more efficient way later on\nfcol = [c for c in X_train.columns if c not in ['sourceTimestamp', 'firstCreated', 'returnsOpenNextMktres10', \n                                                'assetName_x', 'universe', 'provider', 'subjects',\n                                               'audiences', 'marketCommentary', 'assetName_y', 'sourceTimestamp'\n                                               'firstCreated']] #<---- added\n",
      "execution_count": null,
      "outputs": []
    },
    {
      "metadata": {
        "trusted": true,
        "_uuid": "07a88fc50ca5727ed3f299ab2a9ffd4b2ae05e33"
      },
      "cell_type": "markdown",
      "source": "### Using LGBM for Modelling"
    },
    {
      "metadata": {
        "trusted": true,
        "_uuid": "e2c866081e0fc66578711db888176ee183f26ec3"
      },
      "cell_type": "code",
      "source": "# prepare x dataframes for modelling/prediction\ndef convert_to_X(market_obs_df, news_obs_df):\n    \n    # this repeats everything that was done previously\n    X_test = join_market_news(market_obs_df, news_obs_df)\n    X_test = aggregations(X_test)\n    X_test['headline_coeff_mean'] = get_coeff_col(X_test['headline'], coefficient_dict, coefficient_default)\n    X_test = split_time(X_test)\n    group_delete(X_test, ['time', 'sourceId', 'headline', 'assetCodes'])\n    X_test = encoding(X_test, ['assetCode', 'headlineTag'])\n    X_test = X_test[[f for f in X_test.columns if 'int' in str(X_test[f].dtype) or 'float' in str(X_test[f].dtype)]]\n    \n    return X_test",
      "execution_count": null,
      "outputs": []
    },
    {
      "metadata": {
        "trusted": true,
        "_uuid": "b70209ab5a7928aa810fb6a9efb1b71fd5698e86"
      },
      "cell_type": "code",
      "source": "y_train = X_train['returnsOpenNextMktres10']\ndel X_train['returnsOpenNextMktres10']",
      "execution_count": null,
      "outputs": []
    },
    {
      "metadata": {
        "trusted": true,
        "_uuid": "0d5b1e3030ee1e87c65689f99260f74f63f23fdb"
      },
      "cell_type": "code",
      "source": "import lightgbm as lgb\nimport time\n\n# set model and parameters\nparams = {'learning_rate': 0.02, \n          'boosting': 'gbdt', \n          'objective': 'regression', \n          'seed': 2018}",
      "execution_count": null,
      "outputs": []
    },
    {
      "metadata": {
        "trusted": true,
        "_uuid": "6c9c43854bc92e13e6808160edd5725e56790cd6"
      },
      "cell_type": "code",
      "source": "#split data (for cross validation)\nx1, x2, y1, y2 = train_test_split(X_train[fcol], \n                                  y_train, \n                                  test_size=0.25, \n                                  random_state=99)",
      "execution_count": null,
      "outputs": []
    },
    {
      "metadata": {
        "trusted": true,
        "_uuid": "6929a08a5e902a56e29b8b1fcb49d8f6c7e0fcc2"
      },
      "cell_type": "code",
      "source": "# train\nt = time.time()\nprint('Fitting Up')\n\n# cross validation\nlgb_model = lgb.train(params, \n                        lgb.Dataset(x1, label=y1), \n                        5000, \n                        lgb.Dataset(x2, label=y2), \n                        verbose_eval=100, \n                        early_stopping_rounds=200)\n\n# lgb_model = lgb.train(params, \n#                         lgb.Dataset(X_train[fcol], label=y_train),\n#                         verbose_eval=100)\n\nprint(f'Done, time = {time.time() - t}')",
      "execution_count": null,
      "outputs": []
    },
    {
      "metadata": {
        "trusted": true,
        "_uuid": "1b4a8b846fc3bae2ab41dd9135f6c928759bbc85"
      },
      "cell_type": "code",
      "source": "def make_predictions(market_obs_df, news_obs_df):\n    \n    print('market_obs_df shape: ' + str(market_obs_df.shape))\n    print('news_obs_df shape: ' + str(news_obs_df.shape))\n    \n    # predict using given model\n    X_test = convert_to_X(market_obs_df, news_obs_df)\n    print('Created X_test with features: ' + str(X_test[fcol].columns))\n    \n    # there is an error:\n    # ValueError: Length of values does not match length of index\n    prediction_values = np.clip(lgb_model.predict(X_test[fcol]), -1, 1)\n    \n    print('finished predictions')\n\n    return prediction_values",
      "execution_count": null,
      "outputs": []
    },
    {
      "metadata": {
        "_uuid": "3762332a038544f7ed3c9ba5acd5c6fd114b946f"
      },
      "cell_type": "markdown",
      "source": "### Making Predictions\n\nNow the difference between the training and test data would be these two columns,  ``['returnsOpenNextMktres10', 'universe']``. We will be trying to predict ``returnsOpenNextMktres10`` and using that as the ``confidenceValue``."
    },
    {
      "metadata": {
        "trusted": true,
        "_uuid": "a1fb894dd1216d1dbf6e48d15d336a8fd1847067"
      },
      "cell_type": "code",
      "source": "for (market_obs_df, news_obs_df, predictions_template_df) in env.get_prediction_days(): # Looping over days from start of 2017 to 2019-07-15\n    \n    print('predictions_template_df shape: ' + str(predictions_template_df.shape))\n    # make predictions\n    predictions_template_df['confidenceValue'] = make_predictions(market_obs_df, news_obs_df)\n    \n    # save predictions\n    env.predict(predictions_template_df)\n",
      "execution_count": null,
      "outputs": []
    },
    {
      "metadata": {
        "_uuid": "f9c3668a134db935e6a7e266a15a47a7292f537e"
      },
      "cell_type": "markdown",
      "source": "### Export Submission"
    },
    {
      "metadata": {
        "trusted": true,
        "_uuid": "02e6a605c9ca804310fbc788b465c226ddfea533"
      },
      "cell_type": "code",
      "source": "env.write_submission_file() # Writes your submission file\nprint('finished!')",
      "execution_count": null,
      "outputs": []
    },
    {
      "metadata": {
        "_cell_guid": "79c7e3d0-c299-4dcb-8224-4455121ee9b0",
        "collapsed": true,
        "_uuid": "d629ff2d2480ee46fbb7e2d37f6b5fab8052498a",
        "trusted": false
      },
      "cell_type": "markdown",
      "source": "### Sources:\n* [Getting Started - DJ Sterling](https://www.kaggle.com/dster/two-sigma-news-official-getting-started-kernel)\n* [Bare bones script - William Cukierski](https://www.kaggle.com/wcukierski/bare-bones-script-loop-with-comments)\n* [Extra data - aaron7sun](https://www.kaggle.com/aaron7sun/stocknews)\n* [Text Preprocessing - Andrew Gelé](https://www.kaggle.com/ndrewgele/omg-nlp-with-the-djia-and-reddit)\n* [fake news - SamLloyd](https://www.kaggle.com/sjdlloyd/it-s-fake-news-this-is-top-of-the-leaderboard)\n* [a simple model - Bruno G. do Amaral](https://www.kaggle.com/bguberfain/a-simple-model-using-the-market-data)\n* [LGBM Model - the1owl](https://www.kaggle.com/the1owl/my-two-sigma-cents-only)"
    }
  ],
  "metadata": {
    "kernelspec": {
      "display_name": "Python 3",
      "language": "python",
      "name": "python3"
    },
    "language_info": {
      "name": "python",
      "version": "3.6.6",
      "mimetype": "text/x-python",
      "codemirror_mode": {
        "name": "ipython",
        "version": 3
      },
      "pygments_lexer": "ipython3",
      "nbconvert_exporter": "python",
      "file_extension": ".py"
    }
  },
  "nbformat": 4,
  "nbformat_minor": 1
}
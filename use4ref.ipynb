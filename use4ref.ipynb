{
  "cells": [
    {
      "metadata": {
        "trusted": true,
        "_uuid": "d2db4ea9ce6bed60c3ffa0cf5ff09b0d4efbb589"
      },
      "cell_type": "markdown",
      "source": "# Amateur Hour - Using Headlines to Predict Stocks\n### Starter Kernel by ``Magichanics`` \n*([Gitlab](https://gitlab.com/Magichanics) - [Kaggle](https://www.kaggle.com/magichanics))*\n\nStocks are unpredictable, but can sometimes follow a trend. In this notebook, we will be discovering the correlation between the stocks and the news.\n\nIf there are any things that you would like me to add or remove, feel free to comment down below. I'm mainly doing this to learn and experiment with the data. I plan on rewriting a lot of code in the future to make it look nicer, since a lot of the stuff I have written may not be the most efficient way to approach specific problems.\n\n**To Do List:**\n* Removing features with low importance.\n\n**What's new?**\n* Added ``vol_by_group``, where we get the average of the volume from each company defined in ``assetName``.\n* Added count and groupby columns with ``audiences`` and `subjects`.\n* Added ``assetCode`` and ``assetName`` as a feature for training.\n\n"
    },
    {
      "metadata": {
        "_uuid": "1e268288023fb7fc142e9f9c1c70f2d04c7cc103"
      },
      "cell_type": "markdown",
      "source": "![title](https://upload.wikimedia.org/wikipedia/commons/8/8d/Wall_Street_sign_banner.jpg)\n\nSource: [Wikimedia Commons](https://commons.wikimedia.org/wiki/File:Wall_Street_sign_banner.jpg)"
    },
    {
      "metadata": {
        "trusted": true,
        "_uuid": "74ac86edc14f5f49372114111d24ba7f9c095d97",
        "scrolled": true
      },
      "cell_type": "code",
      "source": "# main\nimport numpy as np\nimport pandas as pd\nimport os\nfrom itertools import chain\nimport gc\n\n# text processing\nimport re\nfrom nltk.corpus import stopwords\nfrom nltk.stem.porter import PorterStemmer\nimport nltk\nfrom sklearn.feature_extraction.text import CountVectorizer\nfrom sklearn.linear_model import LogisticRegression\n\n# clustering\nfrom sklearn.cluster import KMeans\n\n# time\nfrom pandas.tseries.holiday import USFederalHolidayCalendar\nfrom sklearn.preprocessing import LabelEncoder\nimport datetime\n\n# training\nfrom sklearn.model_selection import train_test_split\nimport lightgbm as lgb\n\n# import environment for data\nfrom kaggle.competitions import twosigmanews\nenv = twosigmanews.make_env()",
      "execution_count": 1,
      "outputs": [
        {
          "output_type": "stream",
          "text": "Loading the data... This could take a minute.\nDone!\n",
          "name": "stdout"
        }
      ]
    },
    {
      "metadata": {
        "trusted": true,
        "_uuid": "62bc61f1400a9c5efeb20a460be9ac2066784169"
      },
      "cell_type": "code",
      "source": "sampling = True",
      "execution_count": 2,
      "outputs": []
    },
    {
      "metadata": {
        "trusted": true,
        "_uuid": "aabe093aa9598bd90bd7bec571df3e8cbdfb8d99"
      },
      "cell_type": "code",
      "source": "(market_train_df, news_train_df) = env.get_training_data()\n\nif sampling:\n    market_train_df = market_train_df.tail(4_000)\n    news_train_df = news_train_df.tail(1_000)",
      "execution_count": 25,
      "outputs": []
    },
    {
      "metadata": {
        "trusted": true,
        "_uuid": "07732b5c4888f5de18aa4c424267715dbed5783f"
      },
      "cell_type": "code",
      "source": "market_train_df.head()",
      "execution_count": 26,
      "outputs": [
        {
          "output_type": "execute_result",
          "execution_count": 26,
          "data": {
            "text/plain": "                             time   ...    universe\n4068956 2016-12-28 22:00:00+00:00   ...         1.0\n4068957 2016-12-28 22:00:00+00:00   ...         0.0\n4068958 2016-12-28 22:00:00+00:00   ...         0.0\n4068959 2016-12-28 22:00:00+00:00   ...         0.0\n4068960 2016-12-28 22:00:00+00:00   ...         0.0\n\n[5 rows x 16 columns]",
            "text/html": "<div>\n<style scoped>\n    .dataframe tbody tr th:only-of-type {\n        vertical-align: middle;\n    }\n\n    .dataframe tbody tr th {\n        vertical-align: top;\n    }\n\n    .dataframe thead th {\n        text-align: right;\n    }\n</style>\n<table border=\"1\" class=\"dataframe\">\n  <thead>\n    <tr style=\"text-align: right;\">\n      <th></th>\n      <th>time</th>\n      <th>assetCode</th>\n      <th>assetName</th>\n      <th>volume</th>\n      <th>close</th>\n      <th>open</th>\n      <th>returnsClosePrevRaw1</th>\n      <th>returnsOpenPrevRaw1</th>\n      <th>returnsClosePrevMktres1</th>\n      <th>returnsOpenPrevMktres1</th>\n      <th>returnsClosePrevRaw10</th>\n      <th>returnsOpenPrevRaw10</th>\n      <th>returnsClosePrevMktres10</th>\n      <th>returnsOpenPrevMktres10</th>\n      <th>returnsOpenNextMktres10</th>\n      <th>universe</th>\n    </tr>\n  </thead>\n  <tbody>\n    <tr>\n      <th>4068956</th>\n      <td>2016-12-28 22:00:00+00:00</td>\n      <td>SIRI.O</td>\n      <td>Sirius XM Holdings Inc</td>\n      <td>14938453.0</td>\n      <td>4.50</td>\n      <td>4.53</td>\n      <td>-0.005525</td>\n      <td>0.006667</td>\n      <td>0.005919</td>\n      <td>0.005373</td>\n      <td>-0.008811</td>\n      <td>0.013423</td>\n      <td>-0.000968</td>\n      <td>0.010875</td>\n      <td>0.017023</td>\n      <td>1.0</td>\n    </tr>\n    <tr>\n      <th>4068957</th>\n      <td>2016-12-28 22:00:00+00:00</td>\n      <td>SITE.N</td>\n      <td>SiteOne Landscape Supply Inc</td>\n      <td>474577.0</td>\n      <td>34.91</td>\n      <td>35.63</td>\n      <td>-0.016620</td>\n      <td>0.013079</td>\n      <td>-0.000650</td>\n      <td>0.007764</td>\n      <td>0.083489</td>\n      <td>0.082650</td>\n      <td>NaN</td>\n      <td>NaN</td>\n      <td>0.057207</td>\n      <td>0.0</td>\n    </tr>\n    <tr>\n      <th>4068958</th>\n      <td>2016-12-28 22:00:00+00:00</td>\n      <td>SIVB.O</td>\n      <td>SVB Financial Group</td>\n      <td>263926.0</td>\n      <td>172.68</td>\n      <td>175.00</td>\n      <td>-0.008839</td>\n      <td>0.008529</td>\n      <td>-0.000599</td>\n      <td>0.006968</td>\n      <td>0.033146</td>\n      <td>0.046463</td>\n      <td>0.036125</td>\n      <td>0.046056</td>\n      <td>0.020932</td>\n      <td>0.0</td>\n    </tr>\n    <tr>\n      <th>4068959</th>\n      <td>2016-12-28 22:00:00+00:00</td>\n      <td>SIX.N</td>\n      <td>Six Flags Entertainment Corp</td>\n      <td>620458.0</td>\n      <td>60.20</td>\n      <td>60.39</td>\n      <td>0.004841</td>\n      <td>0.008180</td>\n      <td>0.009864</td>\n      <td>0.006591</td>\n      <td>0.020339</td>\n      <td>0.031074</td>\n      <td>0.020240</td>\n      <td>0.031163</td>\n      <td>0.003752</td>\n      <td>0.0</td>\n    </tr>\n    <tr>\n      <th>4068960</th>\n      <td>2016-12-28 22:00:00+00:00</td>\n      <td>SJI.N</td>\n      <td>South Jersey Industries Inc</td>\n      <td>254211.0</td>\n      <td>33.81</td>\n      <td>34.39</td>\n      <td>-0.018293</td>\n      <td>0.004088</td>\n      <td>-0.001069</td>\n      <td>0.002502</td>\n      <td>-0.024242</td>\n      <td>0.003502</td>\n      <td>-0.012025</td>\n      <td>0.000072</td>\n      <td>-0.084910</td>\n      <td>0.0</td>\n    </tr>\n  </tbody>\n</table>\n</div>"
          },
          "metadata": {}
        }
      ]
    },
    {
      "metadata": {
        "trusted": true,
        "_uuid": "997773dbe4987fbec07c28775c4343acda7f9521"
      },
      "cell_type": "code",
      "source": "news_train_df.head()",
      "execution_count": 5,
      "outputs": [
        {
          "output_type": "execute_result",
          "execution_count": 5,
          "data": {
            "text/plain": "                             time      ...       volumeCounts7D\n9327750 2016-12-29 20:40:32+00:00      ...                    4\n9327751 2016-12-29 20:41:43+00:00      ...                    1\n9327752 2016-12-29 20:51:03+00:00      ...                   12\n9327753 2016-12-29 20:53:45+00:00      ...                    0\n9327754 2016-12-29 20:55:55+00:00      ...                    0\n\n[5 rows x 35 columns]",
            "text/html": "<div>\n<style scoped>\n    .dataframe tbody tr th:only-of-type {\n        vertical-align: middle;\n    }\n\n    .dataframe tbody tr th {\n        vertical-align: top;\n    }\n\n    .dataframe thead th {\n        text-align: right;\n    }\n</style>\n<table border=\"1\" class=\"dataframe\">\n  <thead>\n    <tr style=\"text-align: right;\">\n      <th></th>\n      <th>time</th>\n      <th>sourceTimestamp</th>\n      <th>firstCreated</th>\n      <th>sourceId</th>\n      <th>headline</th>\n      <th>urgency</th>\n      <th>takeSequence</th>\n      <th>provider</th>\n      <th>subjects</th>\n      <th>audiences</th>\n      <th>bodySize</th>\n      <th>companyCount</th>\n      <th>headlineTag</th>\n      <th>marketCommentary</th>\n      <th>sentenceCount</th>\n      <th>wordCount</th>\n      <th>assetCodes</th>\n      <th>assetName</th>\n      <th>firstMentionSentence</th>\n      <th>relevance</th>\n      <th>sentimentClass</th>\n      <th>sentimentNegative</th>\n      <th>sentimentNeutral</th>\n      <th>sentimentPositive</th>\n      <th>sentimentWordCount</th>\n      <th>noveltyCount12H</th>\n      <th>noveltyCount24H</th>\n      <th>noveltyCount3D</th>\n      <th>noveltyCount5D</th>\n      <th>noveltyCount7D</th>\n      <th>volumeCounts12H</th>\n      <th>volumeCounts24H</th>\n      <th>volumeCounts3D</th>\n      <th>volumeCounts5D</th>\n      <th>volumeCounts7D</th>\n    </tr>\n  </thead>\n  <tbody>\n    <tr>\n      <th>9327750</th>\n      <td>2016-12-29 20:40:32+00:00</td>\n      <td>2016-12-29 20:40:32+00:00</td>\n      <td>2016-12-29 19:53:23+00:00</td>\n      <td>1c9b67a29a9e1f4a</td>\n      <td>BRIEF-Flanigan's reports earnings $0.21/shr fo...</td>\n      <td>3</td>\n      <td>1</td>\n      <td>RTRS</td>\n      <td>{'BLR', 'ENTS', 'INDU', 'CYCS', 'BACT', 'AGA',...</td>\n      <td>{'PCO', 'PCU', 'DNP', 'PSC', 'U', 'RNP', 'NAW'...</td>\n      <td>416</td>\n      <td>1</td>\n      <td>BRIEF</td>\n      <td>False</td>\n      <td>4</td>\n      <td>95</td>\n      <td>{'BDL.A'}</td>\n      <td>Flanigan's Enterprises Inc</td>\n      <td>1</td>\n      <td>1.000000</td>\n      <td>0</td>\n      <td>0.203658</td>\n      <td>0.600494</td>\n      <td>0.195848</td>\n      <td>88</td>\n      <td>3</td>\n      <td>3</td>\n      <td>3</td>\n      <td>3</td>\n      <td>3</td>\n      <td>4</td>\n      <td>4</td>\n      <td>4</td>\n      <td>4</td>\n      <td>4</td>\n    </tr>\n    <tr>\n      <th>9327751</th>\n      <td>2016-12-29 20:41:43+00:00</td>\n      <td>2016-12-29 20:41:43+00:00</td>\n      <td>2016-12-29 20:39:49+00:00</td>\n      <td>4d8f44bde88a0032</td>\n      <td>BRIEF-BB Biotech AG reports 5.2 pct passive st...</td>\n      <td>3</td>\n      <td>1</td>\n      <td>RTRS</td>\n      <td>{'BLR', 'FUND', 'STK', 'INDU', 'HECA', 'PHMR',...</td>\n      <td>{'PCO', 'PCU', 'DNP', 'PSC', 'U', 'RNP', 'NAW'...</td>\n      <td>249</td>\n      <td>1</td>\n      <td>BRIEF</td>\n      <td>False</td>\n      <td>4</td>\n      <td>61</td>\n      <td>{'MGNX.OQ', 'MGNX.O'}</td>\n      <td>MacroGenics Inc</td>\n      <td>1</td>\n      <td>1.000000</td>\n      <td>0</td>\n      <td>0.172619</td>\n      <td>0.610964</td>\n      <td>0.216418</td>\n      <td>54</td>\n      <td>1</td>\n      <td>1</td>\n      <td>1</td>\n      <td>1</td>\n      <td>1</td>\n      <td>1</td>\n      <td>1</td>\n      <td>1</td>\n      <td>1</td>\n      <td>1</td>\n    </tr>\n    <tr>\n      <th>9327752</th>\n      <td>2016-12-29 20:51:03+00:00</td>\n      <td>2016-12-29 20:51:03+00:00</td>\n      <td>2016-12-29 20:51:03+00:00</td>\n      <td>cee995837f42b914</td>\n      <td>Moody's Reviews Southwest Gas Corporation, NV'...</td>\n      <td>3</td>\n      <td>1</td>\n      <td>RTRS</td>\n      <td>{'DBT', 'LEN', 'GASU', 'US', 'ELG', 'RTRS', 'C...</td>\n      <td>{'D', 'E', 'M', 'T'}</td>\n      <td>201</td>\n      <td>1</td>\n      <td></td>\n      <td>False</td>\n      <td>4</td>\n      <td>60</td>\n      <td>{'SWX.N'}</td>\n      <td>Southwest Gas Corp</td>\n      <td>1</td>\n      <td>1.000000</td>\n      <td>0</td>\n      <td>0.013265</td>\n      <td>0.796309</td>\n      <td>0.190427</td>\n      <td>43</td>\n      <td>0</td>\n      <td>0</td>\n      <td>0</td>\n      <td>0</td>\n      <td>0</td>\n      <td>2</td>\n      <td>2</td>\n      <td>12</td>\n      <td>12</td>\n      <td>12</td>\n    </tr>\n    <tr>\n      <th>9327753</th>\n      <td>2016-12-29 20:53:45+00:00</td>\n      <td>2016-12-29 20:53:45+00:00</td>\n      <td>2016-12-29 20:53:45+00:00</td>\n      <td>189a8926b5287504</td>\n      <td>Duke Energy completes sale of international bu...</td>\n      <td>3</td>\n      <td>1</td>\n      <td>PRN</td>\n      <td>{'MACH', 'MRG', 'OILG', 'NEWR', 'ELCO', 'BACT'...</td>\n      <td>{'CNR', 'PRN'}</td>\n      <td>11188</td>\n      <td>1</td>\n      <td></td>\n      <td>False</td>\n      <td>63</td>\n      <td>1733</td>\n      <td>{'DUK.N'}</td>\n      <td>Duke Energy Corp</td>\n      <td>1</td>\n      <td>1.000000</td>\n      <td>1</td>\n      <td>0.165325</td>\n      <td>0.172650</td>\n      <td>0.662025</td>\n      <td>707</td>\n      <td>0</td>\n      <td>0</td>\n      <td>0</td>\n      <td>0</td>\n      <td>0</td>\n      <td>0</td>\n      <td>0</td>\n      <td>0</td>\n      <td>0</td>\n      <td>0</td>\n    </tr>\n    <tr>\n      <th>9327754</th>\n      <td>2016-12-29 20:55:55+00:00</td>\n      <td>2016-12-29 20:55:54+00:00</td>\n      <td>2016-12-29 20:55:54+00:00</td>\n      <td>8679860345e49363</td>\n      <td>Cornerstone Pharmaceuticals to Present at 9th ...</td>\n      <td>3</td>\n      <td>1</td>\n      <td>PRN</td>\n      <td>{'NEWR', 'HECA', 'PHMR', 'MRCH', 'BACT', 'PHON...</td>\n      <td>{'CNR', 'PRN'}</td>\n      <td>3098</td>\n      <td>1</td>\n      <td></td>\n      <td>False</td>\n      <td>14</td>\n      <td>467</td>\n      <td>{'IDT.N'}</td>\n      <td>IDT Corp</td>\n      <td>8</td>\n      <td>0.187317</td>\n      <td>-1</td>\n      <td>0.465894</td>\n      <td>0.157373</td>\n      <td>0.376733</td>\n      <td>56</td>\n      <td>0</td>\n      <td>0</td>\n      <td>0</td>\n      <td>0</td>\n      <td>0</td>\n      <td>0</td>\n      <td>0</td>\n      <td>0</td>\n      <td>0</td>\n      <td>0</td>\n    </tr>\n  </tbody>\n</table>\n</div>"
          },
          "metadata": {}
        }
      ]
    },
    {
      "metadata": {
        "_uuid": "cb841bc6ab0199143c83428d5419ba9a28eec13b"
      },
      "cell_type": "markdown",
      "source": "### Information on the Training Data\n* There are no Unknown ``assetName`` in ``news_train_df``, but there are 24 479 rows with Unknown as the ``assetName`` in ``market_train_df``. Merging by ``assetCode`` leaves out Unknown rows, which could be problematic.\n* ``Volume`` has the highest correlation in terms of ``returnsOpenNextMktres10``.\n* Merging by just ``assetCodes`` greatly increases the dataframe (with just 100k rows, it has turned into 10 million rows), although merging by ``assetCodes`` and ``time`` greatly decrease the original dataframe."
    },
    {
      "metadata": {
        "_uuid": "cd8880860fcf020af02370ce7498e8080b255a7f"
      },
      "cell_type": "markdown",
      "source": "### Market Groupby Features\nWe are going to group market data based on ``assetName`` and determine the median and mean of the volume."
    },
    {
      "metadata": {
        "trusted": true,
        "_uuid": "ff536df56be10e120771990d229091aa308d995d"
      },
      "cell_type": "code",
      "source": "def mean_volume(market_df):\n    \n    # groupby and return median\n    vol_by_name = market_df[['volume', 'assetName']].groupby('assetName').median()['volume']\n    #vol_by_name_mean = market_df[['volume', 'assetName']].groupby('assetName').mean()['volume'] # could try mean?\n    market_df['vol_by_name'] = market_df['assetName'].map(vol_by_name)\n    \n    # get difference\n    market_df['vol_by_name_diff'] = market_df['volume'] - market_df['vol_by_name']\n    \n    return market_df",
      "execution_count": 27,
      "outputs": []
    },
    {
      "metadata": {
        "trusted": true,
        "_uuid": "2564cb6e622b3659e7f80351df5f0e3a5b2fbf48"
      },
      "cell_type": "code",
      "source": "market_train_df = mean_volume(market_train_df)",
      "execution_count": 28,
      "outputs": []
    },
    {
      "metadata": {
        "_uuid": "4e79b71ec8de5009a497f5ad71bf80be76e78329"
      },
      "cell_type": "markdown",
      "source": "### Aggregations on News Data\n\nIt helped a lot during the Home Credit competition, and in the next block of code we will be merging the news dataframe with the market dataframe. Instead of having columns with a list of numbers, we will get aggregations for each grouping. The following block creates a dictionary that will be used when merging the data."
    },
    {
      "metadata": {
        "trusted": true,
        "_uuid": "e45bcca68ec56ffb6d1e3d2049aa4970f6897da4"
      },
      "cell_type": "code",
      "source": "news_agg_cols = [f for f in news_train_df.columns if 'novelty' in f or\n                'volume' in f or\n                'sentiment' in f or\n                'bodySize' in f or\n                'Count' in f or\n                'marketCommentary' in f or\n                'relevance' in f]\nnews_agg_dict = {}\nfor col in news_agg_cols:\n    news_agg_dict[col] = ['mean', 'sum', 'max', 'min']\nnews_agg_dict['urgency'] = ['min', 'count']\nnews_agg_dict['takeSequence'] = ['max']",
      "execution_count": 29,
      "outputs": []
    },
    {
      "metadata": {
        "_uuid": "c1185cd336552dfbc3972772b6cc1ad908654b43"
      },
      "cell_type": "markdown",
      "source": "### Joining Market & News Data\n\nThe grouping method that I'll be using is from [bguberfain](https://www.kaggle.com/bguberfain), but I'll also be adding in other columns like ``headline``, as well eliminating rows that are not partnered with either the market or news data. One way I would improve this is probably group by time periods rather than exact times given in ``time`` due to the small amount of data that share the same amount of data in terms of the ``time`` column, and possibly making it a bit more efficient. \n\nNotes: \n* When you run the full dataset, expect it to take a while.\n* As you remove more time features from seconds to year, the resulting train data becomes larger and larger."
    },
    {
      "metadata": {
        "trusted": true,
        "_uuid": "e2dad49559a057808e6d2559a6fbac4f964bd6d4"
      },
      "cell_type": "code",
      "source": "def generalize_time(X):\n    # convert time to string and/or get rid of Hours, Minutes, and seconds\n    X['time'] = X['time'].dt.strftime('%Y-%m-%d %H:%M:%S').str.slice(0,16) #(0,10) for Y-m-d, (0,13) for Y-m-d H\n\n# get dataframes within indecies\ndef get_indecies(df, indecies):\n    \n    # update market dataframe to only contain the specific rows with matching indecies.\n    def check_index(index, indecies):\n        if index in indecies:\n            return True\n        else:\n            return False\n    \n    df['del_index'] = df.index.values\n    df['is_in_indecies'] = df['del_index'].apply(lambda x: check_index(x, indecies))\n    df = df[df.is_in_indecies == True]\n    del df['del_index'], df['is_in_indecies']\n    \n    return df\n\n# this function checks for potential nulls after grouping by only grouping the time and assetcode dataframe\n# returns valid news indecies for the next if statement.\ndef partial_groupby(market_df, news_df, df_assetCodes):\n    \n    # get new dataframe\n    temp_news_df_expanded = pd.merge(df_assetCodes, news_df[['time', 'assetCodes']], left_on='level_0', right_index=True, suffixes=(['','_old']))\n\n    # groupby dataframes\n    temp_news_df = temp_news_df_expanded.copy()[['time', 'assetCode']]\n    temp_market_df = market_df.copy()[['time', 'assetCode']]\n\n    # get indecies on both dataframes\n    temp_news_df['news_index'] = temp_news_df.index.values\n    temp_market_df['market_index'] = temp_market_df.index.values\n\n    # set multiindex and join the two\n    temp_news_df.set_index(['time', 'assetCode'], inplace=True)\n\n    # join the two\n    temp_market_df_2 = temp_market_df.join(temp_news_df, on=['time', 'assetCode'])\n    del temp_market_df, temp_news_df\n\n    # drop nulls in any columns\n    temp_market_df_2 = temp_market_df_2.dropna()\n\n    # get indecies\n    market_valid_indecies = temp_market_df_2['market_index'].tolist()\n    news_valid_indecies = temp_market_df_2['news_index'].tolist()\n    del temp_market_df_2\n\n    # get index rows\n    market_df = get_indecies(market_df, market_valid_indecies)\n    \n    return market_df, news_valid_indecies\n\ndef join_market_news(market_df, news_df, nulls=False):\n    \n    # convert time to string\n    generalize_time(market_df)\n    generalize_time(news_df)\n    \n    # Fix asset codes (str -> list)\n    news_df['assetCodes'] = news_df['assetCodes'].str.findall(f\"'([\\w\\./]+)'\")\n\n    # Expand assetCodes\n    assetCodes_expanded = list(chain(*news_df['assetCodes']))\n    assetCodes_index = news_df.index.repeat( news_df['assetCodes'].apply(len) )\n    \n    assert len(assetCodes_index) == len(assetCodes_expanded)\n    df_assetCodes = pd.DataFrame({'level_0': assetCodes_index, 'assetCode': assetCodes_expanded})\n    \n    if not nulls:\n        market_df, news_valid_indecies = partial_groupby(market_df, news_df, df_assetCodes)\n    \n    # create dataframe based on groupby\n    news_col = ['time', 'assetCodes', 'headline'] + sorted(list(news_agg_dict.keys()))\n    news_df_expanded = pd.merge(df_assetCodes, news_df[news_col], left_on='level_0', right_index=True, suffixes=(['','_old']))\n    \n    # check if the columns are in the index\n    if not nulls:\n        news_df_expanded = get_indecies(news_df_expanded, news_valid_indecies)\n\n    def news_df_feats(x):\n        if x.name == 'headline':\n            return list(x)\n    \n    # groupby time and assetcode\n    news_df_expanded = news_df_expanded.reset_index()\n    news_groupby = news_df_expanded.groupby(['time', 'assetCode'])\n    \n    # get aggregated df\n    news_df_aggregated = news_groupby.agg(news_agg_dict).apply(np.float32).reset_index()\n    news_df_aggregated.columns = ['_'.join(col).strip() for col in news_df_aggregated.columns.values] # columns are abnormal\n    \n    # get any important string dataframes\n    news_df_cat = news_groupby.transform(lambda x: news_df_feats(x))['headline'].to_frame()\n    new_news_df = pd.concat([news_df_aggregated, news_df_cat], axis=1)\n    \n    # cleanup\n    del news_df_aggregated\n    del news_df_cat\n    del news_df\n    \n    # rename columns\n    new_news_df.rename(columns={'time_': 'time', 'assetCode_': 'assetCode'}, inplace=True)\n    new_news_df.set_index(['time', 'assetCode'], inplace=True)\n    \n    # Join with train\n    market_df = market_df.join(new_news_df, on=['time', 'assetCode'])\n    \n    market_df['headline'] = market_df['headline'].fillna('null')\n\n    return market_df\n",
      "execution_count": 30,
      "outputs": []
    },
    {
      "metadata": {
        "trusted": true,
        "_uuid": "2be1b6e851438405ca972ddf6fdcc6ea8c97cd28",
        "scrolled": false
      },
      "cell_type": "code",
      "source": "%%time\nX_train = join_market_news(market_train_df, news_train_df, nulls=False)",
      "execution_count": 31,
      "outputs": [
        {
          "output_type": "stream",
          "text": "Index(['level_0', 'level_1', 0], dtype='object')\n",
          "name": "stdout"
        },
        {
          "output_type": "error",
          "ename": "TypeError",
          "evalue": "can only join an iterable",
          "traceback": [
            "\u001b[0;31m---------------------------------------------------------------------------\u001b[0m",
            "\u001b[0;31mTypeError\u001b[0m                                 Traceback (most recent call last)",
            "\u001b[0;32m<timed exec>\u001b[0m in \u001b[0;36m<module>\u001b[0;34m\u001b[0m\n",
            "\u001b[0;32m<ipython-input-30-78cd5a1dbadd>\u001b[0m in \u001b[0;36mjoin_market_news\u001b[0;34m(market_df, news_df, nulls)\u001b[0m\n\u001b[1;32m     93\u001b[0m     \u001b[0mnews_df_aggregated\u001b[0m \u001b[0;34m=\u001b[0m \u001b[0mnews_groupby\u001b[0m\u001b[0;34m.\u001b[0m\u001b[0magg\u001b[0m\u001b[0;34m(\u001b[0m\u001b[0mnews_agg_dict\u001b[0m\u001b[0;34m)\u001b[0m\u001b[0;34m.\u001b[0m\u001b[0mapply\u001b[0m\u001b[0;34m(\u001b[0m\u001b[0mnp\u001b[0m\u001b[0;34m.\u001b[0m\u001b[0mfloat32\u001b[0m\u001b[0;34m)\u001b[0m\u001b[0;34m.\u001b[0m\u001b[0mreset_index\u001b[0m\u001b[0;34m(\u001b[0m\u001b[0;34m)\u001b[0m\u001b[0;34m\u001b[0m\u001b[0m\n\u001b[1;32m     94\u001b[0m     \u001b[0mprint\u001b[0m\u001b[0;34m(\u001b[0m\u001b[0mnews_df_aggregated\u001b[0m\u001b[0;34m.\u001b[0m\u001b[0mcolumns\u001b[0m\u001b[0;34m)\u001b[0m\u001b[0;34m\u001b[0m\u001b[0m\n\u001b[0;32m---> 95\u001b[0;31m     \u001b[0mnews_df_aggregated\u001b[0m\u001b[0;34m.\u001b[0m\u001b[0mcolumns\u001b[0m \u001b[0;34m=\u001b[0m \u001b[0;34m[\u001b[0m\u001b[0;34m'_'\u001b[0m\u001b[0;34m.\u001b[0m\u001b[0mjoin\u001b[0m\u001b[0;34m(\u001b[0m\u001b[0mcol\u001b[0m\u001b[0;34m)\u001b[0m\u001b[0;34m.\u001b[0m\u001b[0mstrip\u001b[0m\u001b[0;34m(\u001b[0m\u001b[0;34m)\u001b[0m \u001b[0;32mfor\u001b[0m \u001b[0mcol\u001b[0m \u001b[0;32min\u001b[0m \u001b[0mnews_df_aggregated\u001b[0m\u001b[0;34m.\u001b[0m\u001b[0mcolumns\u001b[0m\u001b[0;34m.\u001b[0m\u001b[0mvalues\u001b[0m\u001b[0;34m]\u001b[0m\u001b[0;34m\u001b[0m\u001b[0m\n\u001b[0m\u001b[1;32m     96\u001b[0m \u001b[0;34m\u001b[0m\u001b[0m\n\u001b[1;32m     97\u001b[0m     \u001b[0;31m# get any important string dataframes\u001b[0m\u001b[0;34m\u001b[0m\u001b[0;34m\u001b[0m\u001b[0m\n",
            "\u001b[0;32m<ipython-input-30-78cd5a1dbadd>\u001b[0m in \u001b[0;36m<listcomp>\u001b[0;34m(.0)\u001b[0m\n\u001b[1;32m     93\u001b[0m     \u001b[0mnews_df_aggregated\u001b[0m \u001b[0;34m=\u001b[0m \u001b[0mnews_groupby\u001b[0m\u001b[0;34m.\u001b[0m\u001b[0magg\u001b[0m\u001b[0;34m(\u001b[0m\u001b[0mnews_agg_dict\u001b[0m\u001b[0;34m)\u001b[0m\u001b[0;34m.\u001b[0m\u001b[0mapply\u001b[0m\u001b[0;34m(\u001b[0m\u001b[0mnp\u001b[0m\u001b[0;34m.\u001b[0m\u001b[0mfloat32\u001b[0m\u001b[0;34m)\u001b[0m\u001b[0;34m.\u001b[0m\u001b[0mreset_index\u001b[0m\u001b[0;34m(\u001b[0m\u001b[0;34m)\u001b[0m\u001b[0;34m\u001b[0m\u001b[0m\n\u001b[1;32m     94\u001b[0m     \u001b[0mprint\u001b[0m\u001b[0;34m(\u001b[0m\u001b[0mnews_df_aggregated\u001b[0m\u001b[0;34m.\u001b[0m\u001b[0mcolumns\u001b[0m\u001b[0;34m)\u001b[0m\u001b[0;34m\u001b[0m\u001b[0m\n\u001b[0;32m---> 95\u001b[0;31m     \u001b[0mnews_df_aggregated\u001b[0m\u001b[0;34m.\u001b[0m\u001b[0mcolumns\u001b[0m \u001b[0;34m=\u001b[0m \u001b[0;34m[\u001b[0m\u001b[0;34m'_'\u001b[0m\u001b[0;34m.\u001b[0m\u001b[0mjoin\u001b[0m\u001b[0;34m(\u001b[0m\u001b[0mcol\u001b[0m\u001b[0;34m)\u001b[0m\u001b[0;34m.\u001b[0m\u001b[0mstrip\u001b[0m\u001b[0;34m(\u001b[0m\u001b[0;34m)\u001b[0m \u001b[0;32mfor\u001b[0m \u001b[0mcol\u001b[0m \u001b[0;32min\u001b[0m \u001b[0mnews_df_aggregated\u001b[0m\u001b[0;34m.\u001b[0m\u001b[0mcolumns\u001b[0m\u001b[0;34m.\u001b[0m\u001b[0mvalues\u001b[0m\u001b[0;34m]\u001b[0m\u001b[0;34m\u001b[0m\u001b[0m\n\u001b[0m\u001b[1;32m     96\u001b[0m \u001b[0;34m\u001b[0m\u001b[0m\n\u001b[1;32m     97\u001b[0m     \u001b[0;31m# get any important string dataframes\u001b[0m\u001b[0;34m\u001b[0m\u001b[0;34m\u001b[0m\u001b[0m\n",
            "\u001b[0;31mTypeError\u001b[0m: can only join an iterable"
          ]
        }
      ]
    },
    {
      "metadata": {
        "trusted": true,
        "_uuid": "2d38b9ffd46a21e96bc55b142452eb7cec432c68"
      },
      "cell_type": "code",
      "source": "X_train.head()",
      "execution_count": 11,
      "outputs": [
        {
          "output_type": "error",
          "ename": "NameError",
          "evalue": "name 'X_train' is not defined",
          "traceback": [
            "\u001b[0;31m---------------------------------------------------------------------------\u001b[0m",
            "\u001b[0;31mNameError\u001b[0m                                 Traceback (most recent call last)",
            "\u001b[0;32m<ipython-input-11-73020798007e>\u001b[0m in \u001b[0;36m<module>\u001b[0;34m\u001b[0m\n\u001b[0;32m----> 1\u001b[0;31m \u001b[0mX_train\u001b[0m\u001b[0;34m.\u001b[0m\u001b[0mhead\u001b[0m\u001b[0;34m(\u001b[0m\u001b[0;34m)\u001b[0m\u001b[0;34m\u001b[0m\u001b[0m\n\u001b[0m",
            "\u001b[0;31mNameError\u001b[0m: name 'X_train' is not defined"
          ]
        }
      ]
    },
    {
      "metadata": {
        "trusted": true,
        "_uuid": "67e32e082a729f9aad122d3bcb492a6707e021ea"
      },
      "cell_type": "code",
      "source": "X_train.shape",
      "execution_count": null,
      "outputs": []
    },
    {
      "metadata": {
        "_uuid": "957f29e020695f32628882848eecdf392aa9e9e0"
      },
      "cell_type": "markdown",
      "source": "### Text Processing with Logistic Regression\n\nWe are going to vectorize the headlines and apply logistic regression (labels being binary as to whether the stocks go up or not). In a nutshell, it splits the headlines into individual words, filters out unecessary words to prevent abnormal results, vectorizes it for modelling, and then with the target column provided, we could create a dataframe of coefficients that we could use as a feature in the dataframe! Right now I am just getting the mean of the coefficients in each list of headlines. \n\nNote: May be useful to apply it to ``universe``, and possibly get the sum or standard deviation of the word coefficients?"
    },
    {
      "metadata": {
        "trusted": true,
        "_uuid": "d25c279b7face9bb58eb15a2780a7ec7e9d6b6f8"
      },
      "cell_type": "code",
      "source": "# reuse data\ndef round_scores(x):\n    if x >= 0:\n        return 1\n    else:\n        return 0\n    \ndef clean_headlines(headline):\n    \n    # remove numerical and convert to lowercase\n    headline =  re.sub('[^a-zA-Z]',' ',headline)\n    headline = headline.lower()\n    \n    # drop stopwords\n    headline_words = headline.split(' ')\n    headline_words = [word for word in headline_words if not word in stopwords.words('english')]\n    \n    # use stemming to simplify words\n    ps = PorterStemmer()\n    headline_words = [ps.stem(word) for word in headline_words]\n    \n    # join sentence back again\n    return ' '.join(headline_words)\n\n# these functions should only go towards the training data only\ndef get_headline_df(X_train):\n    \n    headlines_lst = []\n    target_lst = []\n    \n    # iter through every headline.\n    for row in range(0,len(X_train.index)):\n        for sentence in X_train['headline'].iloc[row]:\n            headlines_lst.append(clean_headlines(sentence))\n            target_lst.append(round_scores(X_train['returnsOpenNextMktres10'].iloc[row]))\n            \n    # return dataframe\n    return pd.DataFrame({'headline':pd.Series(headlines_lst), 'returnsOpenNextMktres10':pd.Series(target_lst)})\n    \ndef get_headline(headlines_df):\n    \n    # get headlines as list (use only headline_df produced by get_headline_df)\n    headlines_lst = []\n    for row in range(0,len(headlines_df.index)):\n        headlines_lst.append(headlines_df.iloc[row])\n\n    # split headlines to separate words\n    basicvectorizer = CountVectorizer()\n    headlines_vectorized = basicvectorizer.fit_transform(headlines_lst)\n    \n    print(headlines_vectorized.shape)\n    return headlines_vectorized, basicvectorizer\n\ndef headline_mapping(target, headlines_vectored, headline_vectorizer):\n    \n    print(np.asarray(target).shape)\n    headline_model = LogisticRegression()\n    headline_model = headline_model.fit(headlines_vectored, target)\n    \n    # get coefficients\n    basicwords = headline_vectorizer.get_feature_names()\n    basiccoeffs = headline_model.coef_.tolist()[0]\n    coeff_df = pd.DataFrame({'Word' : basicwords, \n                            'Coefficient' : basiccoeffs})\n    \n    # convert dataframe to dictionary of coefficients\n    coefficient_dict = dict(zip(coeff_df.Word, coeff_df.Coefficient))\n\n    return coefficient_dict, coeff_df['Coefficient'].mean()\n\n# for predictions\ndef get_coeff_col(X, coeff_dict, coeff_default):\n    \n    def get_coeff(word_lst):\n        \n        # iter through every word\n        coeff_sum = 0\n        for word in word_lst:\n            if word in coeff_dict:\n                coeff_sum += coeff_dict[word]\n            else:\n                coeff_sum += coeff_default\n        \n        # get average coefficient\n        coeff_score = coeff_sum / len(word_lst)\n        return coeff_score\n        \n    basicvectorizer = CountVectorizer()\n    \n    # loop through every item\n    headlines_coeff_lst = []\n    for row in range(0,len(X['headline'].index)):\n        coeff_score = 0\n        if X['headline'].iloc[row] == 'null':\n            headlines_coeff_lst.append(np.nan)\n            break\n        for i in range(0,len(X['headline'].iloc[row])):\n            coeff_score += get_coeff(clean_headlines(str(X['headline'].iloc[row][i])).split(' '))\n        headlines_coeff_lst.append(coeff_score / len(X['headline'].iloc[row]))\n        \n    # merge coefficient frame with main\n    coeff_mean_df = pd.DataFrame({'headline_coeff_mean': pd.Series(headlines_coeff_lst)})\n    X = pd.concat([X.reset_index(), coeff_mean_df], axis=1)\n    \n    return X",
      "execution_count": null,
      "outputs": []
    },
    {
      "metadata": {
        "trusted": true,
        "_uuid": "1b58b721978bceccdf5ae8048defa3064c9babbb"
      },
      "cell_type": "code",
      "source": "headline_df = get_headline_df(X_train)\ncoefficient_dict, coefficient_default = headline_mapping(headline_df['returnsOpenNextMktres10'],\n                                            *get_headline(headline_df['headline']))",
      "execution_count": null,
      "outputs": []
    },
    {
      "metadata": {
        "trusted": true,
        "_uuid": "40f4b1fa7424613014e3e53a39087315c947b82e"
      },
      "cell_type": "code",
      "source": "# will be applied to X_test as well\nX_train = get_coeff_col(X_train, coefficient_dict, coefficient_default)",
      "execution_count": null,
      "outputs": []
    },
    {
      "metadata": {
        "_uuid": "02edb1fc33ca68849e443208512c3ee95bb79c5c"
      },
      "cell_type": "markdown",
      "source": "### News Groupby Features\nWe are going to be looking specifically at the ``audiences`` and ``subjects`` column from the news dataframe. Here are some ideas:\n* Get the number of times a certain subject/audience occurs, and get the sum of the list of audiences/subjects."
    },
    {
      "metadata": {
        "trusted": true,
        "_uuid": "b9c1ea4658d31cc9fc6712a318ee70dac2cbc30e"
      },
      "cell_type": "code",
      "source": "# this is set up for list of strings columns\ndef get_feature_count(X_feat):\n    \n    # get list\n    item_lst = []\n    for row in range(0,len(X_feat.index)):\n        for i in range(0, len(X_feat.iloc[row])):\n            item_lst.append(X_feat.iloc[row][i])\n    \n    # get unique items\n    unique_feats = set(item_lst)\n    \n    # get frequency dictionary\n    item_map = {}\n    for i in unique_feats:\n        item_map[i] = len([n for n in item_lst if n == i])\n    \n    return item_map\n\ndef get_feature_count_total(X_feat, item_map):\n    \n    # iter through every item and get total count\n    counts = []\n    for row in range(0,len(X_feat.index)):\n        count = 0\n        \n            for i in range(0, len(X_feat.iloc[row])): # this is what is causing the error.\n                count += item_map[X_feat.iloc[row][i]]\n            counts.append(count)\n            \n    return pd.Series(counts)\n    \ndef news_grouping_features(X):\n    \n    # get map\n    audience_map = get_feature_count(X['audiences'])\n    subjects_map = get_feature_count(X['subjects'])\n    \n    # get count of each item\n    X['audiences_count'] = get_feature_count_total(X['audiences'], get_feature_count(X['audiences']))\n    X['subjects_count'] = get_feature_count_total(X['subjects'], get_feature_count(X['subjects']))\n    \n    return X",
      "execution_count": null,
      "outputs": []
    },
    {
      "metadata": {
        "trusted": true,
        "_uuid": "035bf635fe545731bea3c1318b19c0460db2bffa"
      },
      "cell_type": "code",
      "source": "X_train = news_grouping_features(X_train)",
      "execution_count": null,
      "outputs": []
    },
    {
      "metadata": {
        "_uuid": "033aca8966e7cc4eb8030dafab9e693b4866457d"
      },
      "cell_type": "markdown",
      "source": "### Clustering\nWe are going to be clustering a few columns together (mainly to see how this will affect our results). "
    },
    {
      "metadata": {
        "trusted": true,
        "_uuid": "a269f60c0dc9defa2dfc04c5680b99b5a43b031b"
      },
      "cell_type": "code",
      "source": "def clustering(df):\n\n    def cluster_modelling(features):\n        df_set = df[features]\n        cluster_model = KMeans(n_clusters = 8)\n        cluster_model.fit(df_set)\n        return cluster_model.predict(df_set)\n    \n    # get columns:\n    vol_cols = [f for f in df.columns if f != 'volume' and 'volume' in f]\n    novelty_cols = [f for f in df.columns if 'novelty' in f]\n    \n    # fill nulls\n    cluster_cols = novelty_cols + vol_cols + ['open', 'close']\n    df[cluster_cols] = df[cluster_cols].fillna(0)\n    \n    df['cluster_open_close'] = cluster_modelling(['open', 'close'])\n    df['cluster_volume'] = cluster_modelling(vol_cols)\n    df['cluster_novelty'] = cluster_modelling(novelty_cols)\n    \n    return df",
      "execution_count": null,
      "outputs": []
    },
    {
      "metadata": {
        "trusted": true,
        "_uuid": "563074af5ae1dab8c5584afef865e8a0d8eef686"
      },
      "cell_type": "code",
      "source": "X_train = clustering(X_train)",
      "execution_count": null,
      "outputs": []
    },
    {
      "metadata": {
        "_uuid": "4bdad0b0f9d641b5e028548285cd64747dd5a8ff"
      },
      "cell_type": "markdown",
      "source": "### Extra Features\n\nHere are some basic extra features from other notebooks."
    },
    {
      "metadata": {
        "trusted": true,
        "_uuid": "03532b463b9b4a083aea991708fda777334fbfe2"
      },
      "cell_type": "code",
      "source": "def extra_features(df):\n    \n    # Adding daily difference\n    new_col = df[\"close\"] - df[\"open\"]\n    df.insert(loc=6, column=\"daily_diff\", value=new_col)\n    df['close_to_open'] =  np.abs(df['close'] / df['open'])",
      "execution_count": null,
      "outputs": []
    },
    {
      "metadata": {
        "trusted": true,
        "_uuid": "f83952b1d7852568b8f1d86630d1d8286d90871d"
      },
      "cell_type": "code",
      "source": "extra_features(X_train)",
      "execution_count": null,
      "outputs": []
    },
    {
      "metadata": {
        "_uuid": "b6bc63a91be4bd007fb95c728aadd14a870358ce"
      },
      "cell_type": "markdown",
      "source": "### Get Time Features\n\nThis section splits the timestamp column into their own separate columns, as well as other various time features.\n\nPossible idea: Encoding time?"
    },
    {
      "metadata": {
        "trusted": true,
        "_uuid": "83c73101057e4aa8c72784ab3fb3c3b497677fc1"
      },
      "cell_type": "code",
      "source": "# ripped from my previous kernel, NYC Taxi Fare\n\n# first get dates\ndef split_time(df):\n    \n    # split date_time into categories\n    df['time_day'] = df['time'].str.slice(8,10)\n    df['time_month'] = df['time'].str.slice(5,7)\n    df['time_year'] = df['time'].str.slice(0,4)\n    df['time_hour'] = df['time'].str.slice(11,13)\n    df['time_minute'] = df['time'].str.slice(14,16)\n    \n    # source: https://www.kaggle.com/nicapotato/taxi-rides-time-analysis-and-oof-lgbm\n    df['temp_time'] = df['time'].str.replace(\" UTC\", \"\")\n    df['temp_time'] = pd.to_datetime(df['temp_time'], format='%Y-%m-%d %H')\n    \n    df['time_day_of_year'] = df.temp_time.dt.dayofyear\n    df['time_week_of_year'] = df.temp_time.dt.weekofyear\n    df[\"time_weekday\"] = df.temp_time.dt.weekday\n    df[\"time_quarter\"] = df.temp_time.dt.quarter\n    \n    del df['temp_time']\n    gc.collect()\n    \n    # convert to non-object columns\n    time_feats = ['time_day', 'time_month', 'time_year']\n    df[time_feats] = df[time_feats].apply(pd.to_numeric)\n    \n    # determine whether the day is set on a holiday\n    cal = USFederalHolidayCalendar()\n    holidays = cal.holidays(start='2007-01-01', end='2018-09-27').to_pydatetime()\n    df['on_holiday'] = df['time'].str.slice(0,10).apply(lambda x: 1 if x in holidays else 0)",
      "execution_count": null,
      "outputs": []
    },
    {
      "metadata": {
        "trusted": true,
        "_uuid": "e6b15afa722c354bc34bd5c747060687cdd061be"
      },
      "cell_type": "code",
      "source": "split_time(X_train)",
      "execution_count": null,
      "outputs": []
    },
    {
      "metadata": {
        "_uuid": "674bc842d3ab32df25a88facf5a7af2bfdd3254d"
      },
      "cell_type": "markdown",
      "source": "Here we remove all the excess columns and use pd.get_dummies on ``assetCode`` and ``assetName`` to process these categorical features."
    },
    {
      "metadata": {
        "trusted": true,
        "_uuid": "e7da8cedce5276b9c145c59ddeeef423df45200b"
      },
      "cell_type": "code",
      "source": "def misc_adjustments(X):\n    del_cols = ['index'] + [f for f in X.columns if X[f].dtype == 'object' and f != 'assetCode' and f != 'assetName']\n    for f in del_cols:\n        del X[f]\n        \n    # encode data\n    X = pd.get_dummies(X)\n    \n    return X\n        \n#     # categorize assetCode and assetName\n#     from sklearn.preprocessing import LabelEncoder\n#     le = LabelEncoder()\n#     X = X.assign(assetCode = le.fit_transform(X.assetCode))",
      "execution_count": null,
      "outputs": []
    },
    {
      "metadata": {
        "trusted": true,
        "_uuid": "007ed8fc74313b6f41789369c765f0293b4d6142"
      },
      "cell_type": "code",
      "source": "X_train = misc_adjustments(X_train)",
      "execution_count": null,
      "outputs": []
    },
    {
      "metadata": {
        "_uuid": "f19d6c49c01767a6b015b7bdca8ee090308978d1"
      },
      "cell_type": "markdown",
      "source": "### Compile X functions into one function\n\nThis will be used when looping through different batches of X_test"
    },
    {
      "metadata": {
        "trusted": true,
        "_uuid": "a6d8cd8162bb0275302e10bbe5399f87a027fe00"
      },
      "cell_type": "code",
      "source": "def get_X(market_df, news_df):\n    \n    # these are all the functions applied to X_train except for a few\n    market_df = mean_volume(market_df)\n    X_test = join_market_news(market_df, news_df, nulls=True)\n    X_test = get_coeff_col(X_test, coefficient_dict, coefficient_default)\n    X_test = news_grouping_features(X_test)\n    X_test = clustering(X_test)\n    X_test = extra_features(X_test)\n    X_test = split_time(X_test)\n    X_test = misc_adjustments(X_test)\n    \n    return X_test",
      "execution_count": null,
      "outputs": []
    },
    {
      "metadata": {
        "_uuid": "055fef0b89c100b52ec1e6405ca5e3dde68314e8"
      },
      "cell_type": "markdown",
      "source": "#### Resulting Dataframe and Data Correlation to Target column\nWe have went to roughly 50 columns to 135!"
    },
    {
      "metadata": {
        "trusted": true,
        "_uuid": "4ac267c074efb8d7e16620b52320d23ec4eb8b01"
      },
      "cell_type": "code",
      "source": "X_train.head(10)",
      "execution_count": null,
      "outputs": []
    },
    {
      "metadata": {
        "trusted": true,
        "_uuid": "07a88fc50ca5727ed3f299ab2a9ffd4b2ae05e33"
      },
      "cell_type": "markdown",
      "source": "### Using LightGBM for Modelling + Remove unecessary features\n\nWe are going to use parameters from a notebook for modelling our data, as well as looping through the data until we reach a certain score. One thing that I was doing wrong which is causing my score to drop is removing the ``assetCode`` column.\n\nNotes: \n* Might possibly add bayesian optimization if necessary?\n* ValueError: could not convert string to float: 'Packaging Corp of America' <--- occurs without label encoding ``assetName``."
    },
    {
      "metadata": {
        "trusted": true,
        "_uuid": "047e06ca0fcfef2e08814c00763e631fa557c67f"
      },
      "cell_type": "code",
      "source": "def set_data(X_train):\n\n    # get X and Y\n    y_train = X_train['returnsOpenNextMktres10']\n    del X_train['returnsOpenNextMktres10'], X_train['universe']\n#     X_train = pd.get_dummies(X_train)\n    \n    # split data (for cross validation)\n    x1, x2, y1, y2 = train_test_split(X_train, \n                                      y_train, \n                                      test_size=0.25, \n                                      random_state=99)\n    \n    # get columns\n    train_cols = X_train.columns.tolist()\n#     categorical_cols = ['assetCode', 'assetName']\n    \n#     # convert to LGBM Data Structures (with categorical features; produces errors)\n#     dtrain = lgb.Dataset(x1.values, y1, feature_name=train_cols, categorical_feature=categorical_cols)\n#     dvalid = lgb.Dataset(x2.values, y2, feature_name=train_cols, categorical_feature=categorical_cols)\n    \n    # convert to LGBM Data Structures\n    dtrain = lgb.Dataset(x1.values, y1, feature_name=train_cols)\n    dvalid = lgb.Dataset(x2.values, y2, feature_name=train_cols)\n    \n    return dtrain, dvalid\n    \ndef lgbm_training(dtrain, dvalid):\n    \n    # set model and parameters\n    params = {'learning_rate': 0.02,\n              'boosting': 'gbdt', \n              'objective': 'regression', \n              'seed': 2018}\n    \n    # train data\n    lgb_model = lgb.train(params, dtrain, \n                          num_boost_round=1000, \n                          valid_sets=(dvalid,), \n                          valid_names=('valid',), \n                          verbose_eval=25, \n                          early_stopping_rounds=20)\n    \n    return lgb_model",
      "execution_count": null,
      "outputs": []
    },
    {
      "metadata": {
        "trusted": true,
        "_uuid": "a7ac52c7404a316e83acdb297d2d736969ae00db"
      },
      "cell_type": "code",
      "source": "lgb_model = lgbm_training(*set_data(X_train))",
      "execution_count": null,
      "outputs": []
    },
    {
      "metadata": {
        "_uuid": "3762332a038544f7ed3c9ba5acd5c6fd114b946f"
      },
      "cell_type": "markdown",
      "source": "### Making Predictions\n\nNow the difference between the training and test data would be these two columns,  ``['returnsOpenNextMktres10', 'universe']``. We will be trying to predict ``returnsOpenNextMktres10`` and using that as the ``confidenceValue``."
    },
    {
      "metadata": {
        "trusted": true,
        "_uuid": "a1fb894dd1216d1dbf6e48d15d336a8fd1847067"
      },
      "cell_type": "code",
      "source": "%%time\n\ndef make_predictions(market_obs_df, news_obs_df):\n    \n    # predict using given model\n    X_test = get_X(market_obs_df, news_obs_df)\n    prediction_values = np.clip(lgb_model.predict(X_test), -1, 1)\n\n    return prediction_values\n\nfor (market_obs_df, news_obs_df, predictions_template_df) in env.get_prediction_days(): # Looping over days from start of 2017 to 2019-07-15\n    \n    # make predictions\n    predictions_template_df['confidenceValue'] = make_predictions(market_obs_df, news_obs_df)\n    \n    # save predictions\n    env.predict(predictions_template_df)\n",
      "execution_count": null,
      "outputs": []
    },
    {
      "metadata": {
        "_uuid": "f9c3668a134db935e6a7e266a15a47a7292f537e"
      },
      "cell_type": "markdown",
      "source": "### Export Submission"
    },
    {
      "metadata": {
        "trusted": true,
        "_uuid": "02e6a605c9ca804310fbc788b465c226ddfea533"
      },
      "cell_type": "code",
      "source": "# exports csv\nenv.write_submission_file()\nprint('finished!')",
      "execution_count": null,
      "outputs": []
    },
    {
      "metadata": {
        "_uuid": "8d8f34f002aa0dc6efda2caf73a8fd5e2724515b"
      },
      "cell_type": "markdown",
      "source": "### References:\n* [Getting Started - DJ Sterling](https://www.kaggle.com/dster/two-sigma-news-official-getting-started-kernel)\n* [a simple model - Bruno G. do Amaral](https://www.kaggle.com/bguberfain/a-simple-model-using-the-market-data)\n* [LGBM Model - the1owl](https://www.kaggle.com/the1owl/my-two-sigma-cents-only)\n* [Headline Processing - Andrew Gelé](https://www.kaggle.com/ndrewgele/omg-nlp-with-the-djia-and-reddit)\n* [Feature engineering - Andrew Lukyanenko](https://www.kaggle.com/artgor/eda-feature-engineering-and-everything)\n* [Basic Text Processing - akatsuki06](https://www.kaggle.com/akatsuki06/basic-text-processing-cleaning-the-description)\n* [The fallacy of encoding assetCode - marketneutral](https://www.kaggle.com/marketneutral/the-fallacy-of-encoding-assetcode) *I know it's contradictory since I'm encoding my assetCode and assetName features for now.*"
    }
  ],
  "metadata": {
    "kernelspec": {
      "display_name": "Python 3",
      "language": "python",
      "name": "python3"
    },
    "language_info": {
      "name": "python",
      "version": "3.6.6",
      "mimetype": "text/x-python",
      "codemirror_mode": {
        "name": "ipython",
        "version": 3
      },
      "pygments_lexer": "ipython3",
      "nbconvert_exporter": "python",
      "file_extension": ".py"
    }
  },
  "nbformat": 4,
  "nbformat_minor": 1
}